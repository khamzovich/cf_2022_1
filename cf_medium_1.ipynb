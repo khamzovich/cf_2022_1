{
  "nbformat": 4,
  "nbformat_minor": 0,
  "metadata": {
    "colab": {
      "name": "cf_medium_1.ipynb",
      "provenance": [],
      "toc_visible": true,
      "authorship_tag": "ABX9TyPn/mFcviAcukXp4wMEjWsS"
    },
    "kernelspec": {
      "name": "python3",
      "display_name": "Python 3"
    },
    "language_info": {
      "name": "python"
    }
  },
  "cells": [
    {
      "cell_type": "code",
      "source": [
        "!pip install psycopg2-binary pycbrf pytelegrambotapi schedule"
      ],
      "metadata": {
        "id": "5XQVFl_ZGfvp",
        "colab": {
          "base_uri": "https://localhost:8080/"
        },
        "outputId": "0b891019-ca2d-461d-bf83-7eb69e7282c7"
      },
      "execution_count": 1,
      "outputs": [
        {
          "output_type": "stream",
          "name": "stdout",
          "text": [
            "Collecting psycopg2-binary\n",
            "  Downloading psycopg2_binary-2.9.3-cp37-cp37m-manylinux_2_17_x86_64.manylinux2014_x86_64.whl (3.0 MB)\n",
            "\u001b[K     |████████████████████████████████| 3.0 MB 26.9 MB/s \n",
            "\u001b[?25hCollecting pycbrf\n",
            "  Downloading pycbrf-1.1.0-py3-none-any.whl (13 kB)\n",
            "Collecting pytelegrambotapi\n",
            "  Downloading pyTelegramBotAPI-4.4.0.tar.gz (147 kB)\n",
            "\u001b[K     |████████████████████████████████| 147 kB 44.3 MB/s \n",
            "\u001b[?25hCollecting schedule\n",
            "  Downloading schedule-1.1.0-py2.py3-none-any.whl (10 kB)\n",
            "Collecting dbf-light>=0.3.0\n",
            "  Downloading dbf_light-1.0.0-py2.py3-none-any.whl (10 kB)\n",
            "Requirement already satisfied: requests in /usr/local/lib/python3.7/dist-packages (from pycbrf) (2.23.0)\n",
            "Requirement already satisfied: chardet<4,>=3.0.2 in /usr/local/lib/python3.7/dist-packages (from requests->pycbrf) (3.0.4)\n",
            "Requirement already satisfied: certifi>=2017.4.17 in /usr/local/lib/python3.7/dist-packages (from requests->pycbrf) (2021.10.8)\n",
            "Requirement already satisfied: urllib3!=1.25.0,!=1.25.1,<1.26,>=1.21.1 in /usr/local/lib/python3.7/dist-packages (from requests->pycbrf) (1.24.3)\n",
            "Requirement already satisfied: idna<3,>=2.5 in /usr/local/lib/python3.7/dist-packages (from requests->pycbrf) (2.10)\n",
            "Building wheels for collected packages: pytelegrambotapi\n",
            "  Building wheel for pytelegrambotapi (setup.py) ... \u001b[?25l\u001b[?25hdone\n",
            "  Created wheel for pytelegrambotapi: filename=pyTelegramBotAPI-4.4.0-py3-none-any.whl size=128152 sha256=c72e7a740416639d79ed12b4616fec106340c836b26a4e68faffb63482623d90\n",
            "  Stored in directory: /root/.cache/pip/wheels/1e/6d/ff/435b12799b8212017f08dbbfdb7a1e5174d72d20fb7c0f4703\n",
            "Successfully built pytelegrambotapi\n",
            "Installing collected packages: dbf-light, schedule, pytelegrambotapi, pycbrf, psycopg2-binary\n",
            "Successfully installed dbf-light-1.0.0 psycopg2-binary-2.9.3 pycbrf-1.1.0 pytelegrambotapi-4.4.0 schedule-1.1.0\n"
          ]
        }
      ]
    },
    {
      "cell_type": "code",
      "execution_count": 2,
      "metadata": {
        "colab": {
          "base_uri": "https://localhost:8080/"
        },
        "id": "mTZwIsUlEphw",
        "outputId": "80bdfc95-44c3-4c78-a617-0255694b8529"
      },
      "outputs": [
        {
          "output_type": "stream",
          "name": "stdout",
          "text": [
            "Mounted at /content/drive\n"
          ]
        }
      ],
      "source": [
        "from google.colab import drive\n",
        "drive.mount('/content/drive')"
      ]
    },
    {
      "cell_type": "code",
      "source": [
        "import sys\n",
        "import os\n",
        "\n",
        "import numpy as np\n",
        "import pandas as pd\n",
        "\n",
        "import psycopg2 # для подключения к БД\n",
        "from pycbrf import ExchangeRates, Banks  # для получения курсов валют\n",
        "import telebot  # для работы с телеграм ботом\n",
        "\n",
        "import schedule, time\n",
        "\n",
        "import six\n",
        "import matplotlib.pyplot as plt\n",
        "import seaborn as sns\n",
        "sns.set()"
      ],
      "metadata": {
        "id": "oluUN-RtEyjK"
      },
      "execution_count": 3,
      "outputs": []
    },
    {
      "cell_type": "code",
      "source": [
        "path = '/content/drive/MyDrive/Colab Notebooks/career_factory/careerfactory_2022_1'\n",
        "sys.path.append(os.path.abspath(path))"
      ],
      "metadata": {
        "id": "uLVj0uSkE1rv"
      },
      "execution_count": 4,
      "outputs": []
    },
    {
      "cell_type": "code",
      "source": [
        "from postgresql_secret import pg_secret              # извлечь данные для подключения к БД из postgresql_secret.py\n",
        "from telegram_secret import telegram_token, user_id  # извлечь токен телеграм бота и id пользователя из telegram_secret.py"
      ],
      "metadata": {
        "id": "TEPjr3qUGvaA"
      },
      "execution_count": 5,
      "outputs": []
    },
    {
      "cell_type": "markdown",
      "source": [
        "Содержимое импортированного файла `postgresql_secret.py`:\n",
        "\n",
        "```\n",
        "pg_secret = {\n",
        "    \"db_host\": \"178.62.242.91\",\n",
        "    \"db_name\": \"quest-db\",\n",
        "    \"db_password\": \"ZI6MVnmi\",\n",
        "    \"db_port\": \"5433\",\n",
        "    \"db_user\": \"rouser\"\n",
        "}\n",
        "```"
      ],
      "metadata": {
        "id": "co97TaqhUo6E"
      }
    },
    {
      "cell_type": "markdown",
      "source": [
        "Содержимое импортированного файла `telegram_secret.py`:\n",
        "\n",
        "```\n",
        "telegram_token = 'xxxxxxxxxxx:yyyyyyyyyyyyyyyyyyyyyyyyyyyyyyyy'\n",
        "user_id = 000000000\n",
        "```"
      ],
      "metadata": {
        "id": "yQsQQbVyU2NB"
      }
    },
    {
      "cell_type": "code",
      "source": [
        "connection = psycopg2.connect(\n",
        "                             database = pg_secret['db_name'],\n",
        "                             user =     pg_secret['db_user'],\n",
        "                             password = pg_secret['db_password'],\n",
        "                             host =     pg_secret['db_host'],\n",
        "                             port =     pg_secret['db_port'],\n",
        "                             )"
      ],
      "metadata": {
        "id": "UvQbQXGDGx_8"
      },
      "execution_count": 6,
      "outputs": []
    },
    {
      "cell_type": "code",
      "source": [
        "cursor = connection.cursor()"
      ],
      "metadata": {
        "id": "o5TY92oBG6jb"
      },
      "execution_count": 7,
      "outputs": []
    },
    {
      "cell_type": "code",
      "source": [
        "bot = telebot.TeleBot(telegram_token)"
      ],
      "metadata": {
        "id": "f2u9zIkudr5u"
      },
      "execution_count": 8,
      "outputs": []
    },
    {
      "cell_type": "markdown",
      "source": [
        "# Задание 1 «Отчёт о продажах в Телеграм»"
      ],
      "metadata": {
        "id": "BqRJaG7GKRFM"
      }
    },
    {
      "cell_type": "markdown",
      "source": [
        "\n",
        "\n",
        "*Задание от Михаила Морозова - ex Chief Analytics Officer Skyeng, со-автор профессии \"Аналитик данных\" в Skypro. У него много видео с выступлениями и рекомендациями в Youtube.*\n",
        "\n",
        "Вы работаете аналитиком в стартапе в области обучения взрослых английскому языку. Компания растет быстро, целый штат маркетологов и продактов придумывает новые механики привлечения пользователей, улучшая коммерческие продукты.\n",
        "\n",
        "Ещё есть отдел продаж. В нём сотрудники звонят потенциальным клиентам и продают пакеты уроков. Только вот маркетинг не дружит с продажами и красивой сквозной аналитики у Руководителя отдела продаж нет. Нужно ему помочь.\n",
        "\n",
        "Никакого централизованного DWH или сложного BI - у компании нет, но бизнесу точно нужны основные метрики, причем завтра. Данные об основных событиях CJM пользователя записываются в Postgres.\n",
        "\n",
        "Руководитель отдела продаж просит вас каждый день присылать в его telegram метрики или графики. Они должны помочь ему понимать как идут дела в отделе, так сказать держать руку на пульсе."
      ],
      "metadata": {
        "id": "XSZR-2kAKJqK"
      }
    },
    {
      "cell_type": "markdown",
      "source": [
        "Данные\n",
        "\n",
        "Все таблицы с данными в PostgresSQL. Параметры для подключения:\n",
        "\n",
        "database = \"quest-db\",  \n",
        "user = \"rouser\",  \n",
        "password = \"ZI6MVnmi\",  \n",
        "host = \"178.62.242.91\",  \n",
        "port = \"5433\""
      ],
      "metadata": {
        "id": "kZep33wpKX7Y"
      }
    },
    {
      "cell_type": "markdown",
      "source": [
        "**Таблицы**:\n",
        "\n",
        "- events — таблица событий по пользователям и датам\n",
        "- events_dict — таблица со списком событий их описанием\n",
        "- payments — транзакции пользователей"
      ],
      "metadata": {
        "id": "5VzH61PlHJYV"
      }
    },
    {
      "cell_type": "markdown",
      "source": [
        "Задачи\n",
        "\n",
        "1. Выберите 3 метрики, которые помогут руководителю отдела продаж контролировать ситуацию ежедневно — всё ли идёт нормально. Объясните свой выбор.\n",
        "2. Напишите Телеграм Бота (скрипт), который будет отправлять ежедневный отчёт по этим метрикам в Телеграм руководителю.\n",
        "Чтобы показать, как работает бот вставьте его код в файл с ответом и прикрепите скриншот отправленного им сообщения, чтобы было видно от кого это. Под названием отправителя должно быть написано Бот, как на скриншоте ниже."
      ],
      "metadata": {
        "id": "_MHQ9eeEKd3V"
      }
    },
    {
      "cell_type": "markdown",
      "source": [
        "![image.png](data:image/png;base64,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)"
      ],
      "metadata": {
        "id": "mNv3ab_SKi0A"
      }
    },
    {
      "cell_type": "markdown",
      "source": [
        "Рекомендации\n",
        "\n",
        "- Бота можно развернуть на своём компьютере, сервер тут не нужен. Достаточно подписаться на Бота. Прислать сообщение - отчёт самому себе — сделать скриншот и вставить в документ.\n",
        "- Токены для доступа к боту и пароли не безопасно размещать прямо в коде. Поэтому, обычно токены и пароли записывают в отдельный файл enviromental variables (файл с расширением .env), а кодом считывают их оттуда. [Статья о переменных окружения и создании файла с ними](https://dev.to/jakewitcher/using-env-files-for-environment-variables-in-python-applications-55a1) (на англ.)\n",
        "Если не используете внешний файл, то уберите из кода пароли и токены.\n",
        "- Статья «[Как собрать Телеграм-бота на Питоне за 30 минут](https://habr.com/ru/post/442800/)» поможет, если вы до этого не настраивали репортинг в Телеграм."
      ],
      "metadata": {
        "id": "GGpSKyH0Kjg2"
      }
    },
    {
      "cell_type": "markdown",
      "source": [
        "**Рекомендуемый объем решения — 2 страницы A4, минимальный размер шрифта 11 пунктов (можно больше).** Без учёта кода и скриншотов.\n",
        "\n",
        "Лаконичный и короткий ответ, без лишних объяснений упрощает проверку. А хорошо проверенная работа → больше шанса на объективную оценку и выше место в рейтинге."
      ],
      "metadata": {
        "id": "8YL18NJXKmVR"
      }
    },
    {
      "cell_type": "markdown",
      "source": [
        "Все события — различные этапы CJM пользователя.\n",
        "\n",
        "Стандартный CJM:\n",
        "1.  пользователь оставляет Заявку\n",
        "2. 1ая линия связывается с пользователем и назначает вводный урок (ВУ)\n",
        "3. Проводится вводный урок(ВУ) на котором методист предлагает клиенту совершить оплату. \n",
        "4. Если клиент не оплатил на ВУ, после с ним связывается 2ая линия и предлагает оплатить обучение.\n",
        "\n",
        "Но кроме стандартной воронки, мы экспериментируем, и стараемся улучшить нашу воронку, внедряя на разных этапах общение не по телефону, а через Whatsapp, или заменяя ВУ другим, более дешёвым с точки зрения прямых костов продуктом — ДУ (демонстрационный урок).\n",
        "\n",
        "Ну и так как наш продукт только развивается, в действительности, CJM может быть сильно витиеватым:)"
      ],
      "metadata": {
        "id": "L0riOIXwJ29i"
      }
    },
    {
      "cell_type": "markdown",
      "source": [
        "### Загрузка данных"
      ],
      "metadata": {
        "id": "569Bi4eKHu25"
      }
    },
    {
      "cell_type": "markdown",
      "source": [
        "#### events"
      ],
      "metadata": {
        "id": "EuPiAmzvHw2B"
      }
    },
    {
      "cell_type": "code",
      "source": [
        "query = \"SELECT * FROM events\"   # запрос к БД\n",
        "cursor.execute(query)            # делаем запрос\n",
        "result = cursor.fetchall()       # запрашиваем все строки, получаем результат в виде списка кортежей\n",
        "\n",
        "result[:5]"
      ],
      "metadata": {
        "colab": {
          "base_uri": "https://localhost:8080/"
        },
        "id": "Mk4WHxWYG7pg",
        "outputId": "1959d49c-c8c5-4560-e007-87741bacfddb"
      },
      "execution_count": 9,
      "outputs": [
        {
          "output_type": "execute_result",
          "data": {
            "text/plain": [
              "[('317992', '6', '12380697', '2021-06-03 14:04:06'),\n",
              " ('317993', '6', '12337967', '2021-05-29 13:35:06'),\n",
              " ('317994', '6', '12340824', '2021-06-04 16:35:06'),\n",
              " ('317995', '6', '12342875', '2021-05-29 11:40:32'),\n",
              " ('317996', '6', '12453086', '2021-06-14 17:14:30')]"
            ]
          },
          "metadata": {},
          "execution_count": 9
        }
      ]
    },
    {
      "cell_type": "code",
      "source": [
        "# имена колонок\n",
        "cursor.description"
      ],
      "metadata": {
        "id": "FDOa-3NvHXkP",
        "colab": {
          "base_uri": "https://localhost:8080/"
        },
        "outputId": "67d44e97-b3c2-4fe0-8a5c-2ea2c0fa728d"
      },
      "execution_count": 10,
      "outputs": [
        {
          "output_type": "execute_result",
          "data": {
            "text/plain": [
              "(Column(name='pk', type_code=1043),\n",
              " Column(name='event_id', type_code=1043),\n",
              " Column(name='_user_id', type_code=1043),\n",
              " Column(name='happened_at', type_code=1043))"
            ]
          },
          "metadata": {},
          "execution_count": 10
        }
      ]
    },
    {
      "cell_type": "code",
      "source": [
        "columns = []                     # В этот список будем сохранять названия колонок\n",
        "for desc in cursor.description:  \n",
        "    columns.append(desc[0])      # Названия колонок возьмем из первого элемента cursor.description\n",
        "\n",
        "    \n",
        "events = pd.DataFrame(result, columns=columns)  # Из списка кортежей сделаем датафрейм\n",
        "events.shape"
      ],
      "metadata": {
        "id": "IydM5VtJHd9C",
        "colab": {
          "base_uri": "https://localhost:8080/"
        },
        "outputId": "29b251f6-43c0-4c95-cd8b-baef08bac920"
      },
      "execution_count": 11,
      "outputs": [
        {
          "output_type": "execute_result",
          "data": {
            "text/plain": [
              "(361688, 4)"
            ]
          },
          "metadata": {},
          "execution_count": 11
        }
      ]
    },
    {
      "cell_type": "code",
      "source": [
        "events.head(3)"
      ],
      "metadata": {
        "colab": {
          "base_uri": "https://localhost:8080/",
          "height": 143
        },
        "id": "4Mwl7ol6JFbs",
        "outputId": "364618a0-11e5-4e54-d24e-e590e0398138"
      },
      "execution_count": 12,
      "outputs": [
        {
          "output_type": "execute_result",
          "data": {
            "text/plain": [
              "       pk event_id  _user_id          happened_at\n",
              "0  317992        6  12380697  2021-06-03 14:04:06\n",
              "1  317993        6  12337967  2021-05-29 13:35:06\n",
              "2  317994        6  12340824  2021-06-04 16:35:06"
            ],
            "text/html": [
              "\n",
              "  <div id=\"df-f6beb847-71fb-46ef-8c00-85afdc5f92f4\">\n",
              "    <div class=\"colab-df-container\">\n",
              "      <div>\n",
              "<style scoped>\n",
              "    .dataframe tbody tr th:only-of-type {\n",
              "        vertical-align: middle;\n",
              "    }\n",
              "\n",
              "    .dataframe tbody tr th {\n",
              "        vertical-align: top;\n",
              "    }\n",
              "\n",
              "    .dataframe thead th {\n",
              "        text-align: right;\n",
              "    }\n",
              "</style>\n",
              "<table border=\"1\" class=\"dataframe\">\n",
              "  <thead>\n",
              "    <tr style=\"text-align: right;\">\n",
              "      <th></th>\n",
              "      <th>pk</th>\n",
              "      <th>event_id</th>\n",
              "      <th>_user_id</th>\n",
              "      <th>happened_at</th>\n",
              "    </tr>\n",
              "  </thead>\n",
              "  <tbody>\n",
              "    <tr>\n",
              "      <th>0</th>\n",
              "      <td>317992</td>\n",
              "      <td>6</td>\n",
              "      <td>12380697</td>\n",
              "      <td>2021-06-03 14:04:06</td>\n",
              "    </tr>\n",
              "    <tr>\n",
              "      <th>1</th>\n",
              "      <td>317993</td>\n",
              "      <td>6</td>\n",
              "      <td>12337967</td>\n",
              "      <td>2021-05-29 13:35:06</td>\n",
              "    </tr>\n",
              "    <tr>\n",
              "      <th>2</th>\n",
              "      <td>317994</td>\n",
              "      <td>6</td>\n",
              "      <td>12340824</td>\n",
              "      <td>2021-06-04 16:35:06</td>\n",
              "    </tr>\n",
              "  </tbody>\n",
              "</table>\n",
              "</div>\n",
              "      <button class=\"colab-df-convert\" onclick=\"convertToInteractive('df-f6beb847-71fb-46ef-8c00-85afdc5f92f4')\"\n",
              "              title=\"Convert this dataframe to an interactive table.\"\n",
              "              style=\"display:none;\">\n",
              "        \n",
              "  <svg xmlns=\"http://www.w3.org/2000/svg\" height=\"24px\"viewBox=\"0 0 24 24\"\n",
              "       width=\"24px\">\n",
              "    <path d=\"M0 0h24v24H0V0z\" fill=\"none\"/>\n",
              "    <path d=\"M18.56 5.44l.94 2.06.94-2.06 2.06-.94-2.06-.94-.94-2.06-.94 2.06-2.06.94zm-11 1L8.5 8.5l.94-2.06 2.06-.94-2.06-.94L8.5 2.5l-.94 2.06-2.06.94zm10 10l.94 2.06.94-2.06 2.06-.94-2.06-.94-.94-2.06-.94 2.06-2.06.94z\"/><path d=\"M17.41 7.96l-1.37-1.37c-.4-.4-.92-.59-1.43-.59-.52 0-1.04.2-1.43.59L10.3 9.45l-7.72 7.72c-.78.78-.78 2.05 0 2.83L4 21.41c.39.39.9.59 1.41.59.51 0 1.02-.2 1.41-.59l7.78-7.78 2.81-2.81c.8-.78.8-2.07 0-2.86zM5.41 20L4 18.59l7.72-7.72 1.47 1.35L5.41 20z\"/>\n",
              "  </svg>\n",
              "      </button>\n",
              "      \n",
              "  <style>\n",
              "    .colab-df-container {\n",
              "      display:flex;\n",
              "      flex-wrap:wrap;\n",
              "      gap: 12px;\n",
              "    }\n",
              "\n",
              "    .colab-df-convert {\n",
              "      background-color: #E8F0FE;\n",
              "      border: none;\n",
              "      border-radius: 50%;\n",
              "      cursor: pointer;\n",
              "      display: none;\n",
              "      fill: #1967D2;\n",
              "      height: 32px;\n",
              "      padding: 0 0 0 0;\n",
              "      width: 32px;\n",
              "    }\n",
              "\n",
              "    .colab-df-convert:hover {\n",
              "      background-color: #E2EBFA;\n",
              "      box-shadow: 0px 1px 2px rgba(60, 64, 67, 0.3), 0px 1px 3px 1px rgba(60, 64, 67, 0.15);\n",
              "      fill: #174EA6;\n",
              "    }\n",
              "\n",
              "    [theme=dark] .colab-df-convert {\n",
              "      background-color: #3B4455;\n",
              "      fill: #D2E3FC;\n",
              "    }\n",
              "\n",
              "    [theme=dark] .colab-df-convert:hover {\n",
              "      background-color: #434B5C;\n",
              "      box-shadow: 0px 1px 3px 1px rgba(0, 0, 0, 0.15);\n",
              "      filter: drop-shadow(0px 1px 2px rgba(0, 0, 0, 0.3));\n",
              "      fill: #FFFFFF;\n",
              "    }\n",
              "  </style>\n",
              "\n",
              "      <script>\n",
              "        const buttonEl =\n",
              "          document.querySelector('#df-f6beb847-71fb-46ef-8c00-85afdc5f92f4 button.colab-df-convert');\n",
              "        buttonEl.style.display =\n",
              "          google.colab.kernel.accessAllowed ? 'block' : 'none';\n",
              "\n",
              "        async function convertToInteractive(key) {\n",
              "          const element = document.querySelector('#df-f6beb847-71fb-46ef-8c00-85afdc5f92f4');\n",
              "          const dataTable =\n",
              "            await google.colab.kernel.invokeFunction('convertToInteractive',\n",
              "                                                     [key], {});\n",
              "          if (!dataTable) return;\n",
              "\n",
              "          const docLinkHtml = 'Like what you see? Visit the ' +\n",
              "            '<a target=\"_blank\" href=https://colab.research.google.com/notebooks/data_table.ipynb>data table notebook</a>'\n",
              "            + ' to learn more about interactive tables.';\n",
              "          element.innerHTML = '';\n",
              "          dataTable['output_type'] = 'display_data';\n",
              "          await google.colab.output.renderOutput(dataTable, element);\n",
              "          const docLink = document.createElement('div');\n",
              "          docLink.innerHTML = docLinkHtml;\n",
              "          element.appendChild(docLink);\n",
              "        }\n",
              "      </script>\n",
              "    </div>\n",
              "  </div>\n",
              "  "
            ]
          },
          "metadata": {},
          "execution_count": 12
        }
      ]
    },
    {
      "cell_type": "code",
      "source": [
        "# сохранение датафрейма в csv\n",
        "events.to_csv('/content/drive/MyDrive/Colab Notebooks/career_factory/careerfactory_2022_1/events.csv', index=False)"
      ],
      "metadata": {
        "id": "NDyFCtKNHzli"
      },
      "execution_count": null,
      "outputs": []
    },
    {
      "cell_type": "code",
      "source": [
        "events = pd.read_csv('/content/drive/MyDrive/Colab Notebooks/career_factory/careerfactory_2022_1/events.csv', parse_dates=['happened_at'])\n",
        "events.shape"
      ],
      "metadata": {
        "colab": {
          "base_uri": "https://localhost:8080/"
        },
        "id": "ZEugkXgqNTfz",
        "outputId": "978a6bdf-dd5a-49ec-8074-6014c9f9f2e5"
      },
      "execution_count": null,
      "outputs": [
        {
          "output_type": "execute_result",
          "data": {
            "text/plain": [
              "(361688, 4)"
            ]
          },
          "metadata": {},
          "execution_count": 16
        }
      ]
    },
    {
      "cell_type": "code",
      "source": [
        "# проверка на наличие пропущенных значений\n",
        "events.info()"
      ],
      "metadata": {
        "colab": {
          "base_uri": "https://localhost:8080/"
        },
        "id": "EwKmfmXPVhN9",
        "outputId": "0a4aed52-549e-44fd-daa9-1432e34fc60c"
      },
      "execution_count": 17,
      "outputs": [
        {
          "output_type": "stream",
          "name": "stdout",
          "text": [
            "<class 'pandas.core.frame.DataFrame'>\n",
            "RangeIndex: 361688 entries, 0 to 361687\n",
            "Data columns (total 4 columns):\n",
            " #   Column       Non-Null Count   Dtype \n",
            "---  ------       --------------   ----- \n",
            " 0   pk           361688 non-null  object\n",
            " 1   event_id     361688 non-null  object\n",
            " 2   _user_id     361688 non-null  object\n",
            " 3   happened_at  361688 non-null  object\n",
            "dtypes: object(4)\n",
            "memory usage: 11.0+ MB\n"
          ]
        }
      ]
    },
    {
      "cell_type": "code",
      "source": [
        "# проверка на наличие дубликатов\n",
        "events.drop_duplicates().shape"
      ],
      "metadata": {
        "colab": {
          "base_uri": "https://localhost:8080/"
        },
        "id": "-21NwogAKmGO",
        "outputId": "2c2a0031-c168-49b0-d404-44a122f788fa"
      },
      "execution_count": 13,
      "outputs": [
        {
          "output_type": "execute_result",
          "data": {
            "text/plain": [
              "(361688, 4)"
            ]
          },
          "metadata": {},
          "execution_count": 13
        }
      ]
    },
    {
      "cell_type": "code",
      "source": [
        "# начальная и конечная даты наблюдений\n",
        "events['happened_at'].agg(['min', 'max'])"
      ],
      "metadata": {
        "colab": {
          "base_uri": "https://localhost:8080/"
        },
        "id": "fJ748jUGp98b",
        "outputId": "5b3bfeb2-c8b1-412c-b873-c7f651c4d492"
      },
      "execution_count": 14,
      "outputs": [
        {
          "output_type": "execute_result",
          "data": {
            "text/plain": [
              "min    2018-05-28 15:25:59\n",
              "max    2022-03-14 17:43:58\n",
              "Name: happened_at, dtype: object"
            ]
          },
          "metadata": {},
          "execution_count": 14
        }
      ]
    },
    {
      "cell_type": "code",
      "source": [
        "# количество уникальных пользователей\n",
        "events._user_id.nunique()"
      ],
      "metadata": {
        "colab": {
          "base_uri": "https://localhost:8080/"
        },
        "id": "R05MVuHDer_V",
        "outputId": "eb379f3b-24f0-47f9-d170-4a9a8d9de5df"
      },
      "execution_count": 16,
      "outputs": [
        {
          "output_type": "execute_result",
          "data": {
            "text/plain": [
              "84306"
            ]
          },
          "metadata": {},
          "execution_count": 16
        }
      ]
    },
    {
      "cell_type": "code",
      "source": [
        "events['happened_at'] = pd.to_datetime(events['happened_at'])\n",
        "events['date'] = events['happened_at'].dt.normalize()\n",
        "events['month'] = events['date'].astype('datetime64[M]')"
      ],
      "metadata": {
        "id": "Hp0hUeGKeQip"
      },
      "execution_count": 23,
      "outputs": []
    },
    {
      "cell_type": "code",
      "source": [
        "events.groupby('month', as_index=False).agg({'_user_id': 'nunique'})"
      ],
      "metadata": {
        "colab": {
          "base_uri": "https://localhost:8080/",
          "height": 1000
        },
        "id": "tGL6ZF6CWK54",
        "outputId": "82917d0d-f394-48cf-acdb-8dfe3bf28aca"
      },
      "execution_count": 24,
      "outputs": [
        {
          "output_type": "execute_result",
          "data": {
            "text/plain": [
              "        month  _user_id\n",
              "0  2018-05-01         1\n",
              "1  2018-12-01         2\n",
              "2  2019-01-01         1\n",
              "3  2019-02-01         1\n",
              "4  2019-06-01         1\n",
              "5  2019-07-01         1\n",
              "6  2019-08-01         1\n",
              "7  2019-09-01         1\n",
              "8  2019-10-01         1\n",
              "9  2019-12-01         1\n",
              "10 2020-03-01         1\n",
              "11 2020-04-01         1\n",
              "12 2020-05-01         1\n",
              "13 2020-07-01         1\n",
              "14 2020-10-01         1\n",
              "15 2020-11-01         6\n",
              "16 2020-12-01         1\n",
              "17 2021-01-01         1\n",
              "18 2021-03-01         1\n",
              "19 2021-04-01         3\n",
              "20 2021-05-01     41032\n",
              "21 2021-06-01     45770\n",
              "22 2021-07-01      2787\n",
              "23 2021-08-01      2139\n",
              "24 2021-09-01      1688\n",
              "25 2021-10-01      2131\n",
              "26 2021-11-01      1340\n",
              "27 2021-12-01      3608\n",
              "28 2022-01-01      2911\n",
              "29 2022-02-01      1747\n",
              "30 2022-03-01       658"
            ],
            "text/html": [
              "\n",
              "  <div id=\"df-28c03df4-9d34-4890-8ff0-889c4d053bcf\">\n",
              "    <div class=\"colab-df-container\">\n",
              "      <div>\n",
              "<style scoped>\n",
              "    .dataframe tbody tr th:only-of-type {\n",
              "        vertical-align: middle;\n",
              "    }\n",
              "\n",
              "    .dataframe tbody tr th {\n",
              "        vertical-align: top;\n",
              "    }\n",
              "\n",
              "    .dataframe thead th {\n",
              "        text-align: right;\n",
              "    }\n",
              "</style>\n",
              "<table border=\"1\" class=\"dataframe\">\n",
              "  <thead>\n",
              "    <tr style=\"text-align: right;\">\n",
              "      <th></th>\n",
              "      <th>month</th>\n",
              "      <th>_user_id</th>\n",
              "    </tr>\n",
              "  </thead>\n",
              "  <tbody>\n",
              "    <tr>\n",
              "      <th>0</th>\n",
              "      <td>2018-05-01</td>\n",
              "      <td>1</td>\n",
              "    </tr>\n",
              "    <tr>\n",
              "      <th>1</th>\n",
              "      <td>2018-12-01</td>\n",
              "      <td>2</td>\n",
              "    </tr>\n",
              "    <tr>\n",
              "      <th>2</th>\n",
              "      <td>2019-01-01</td>\n",
              "      <td>1</td>\n",
              "    </tr>\n",
              "    <tr>\n",
              "      <th>3</th>\n",
              "      <td>2019-02-01</td>\n",
              "      <td>1</td>\n",
              "    </tr>\n",
              "    <tr>\n",
              "      <th>4</th>\n",
              "      <td>2019-06-01</td>\n",
              "      <td>1</td>\n",
              "    </tr>\n",
              "    <tr>\n",
              "      <th>5</th>\n",
              "      <td>2019-07-01</td>\n",
              "      <td>1</td>\n",
              "    </tr>\n",
              "    <tr>\n",
              "      <th>6</th>\n",
              "      <td>2019-08-01</td>\n",
              "      <td>1</td>\n",
              "    </tr>\n",
              "    <tr>\n",
              "      <th>7</th>\n",
              "      <td>2019-09-01</td>\n",
              "      <td>1</td>\n",
              "    </tr>\n",
              "    <tr>\n",
              "      <th>8</th>\n",
              "      <td>2019-10-01</td>\n",
              "      <td>1</td>\n",
              "    </tr>\n",
              "    <tr>\n",
              "      <th>9</th>\n",
              "      <td>2019-12-01</td>\n",
              "      <td>1</td>\n",
              "    </tr>\n",
              "    <tr>\n",
              "      <th>10</th>\n",
              "      <td>2020-03-01</td>\n",
              "      <td>1</td>\n",
              "    </tr>\n",
              "    <tr>\n",
              "      <th>11</th>\n",
              "      <td>2020-04-01</td>\n",
              "      <td>1</td>\n",
              "    </tr>\n",
              "    <tr>\n",
              "      <th>12</th>\n",
              "      <td>2020-05-01</td>\n",
              "      <td>1</td>\n",
              "    </tr>\n",
              "    <tr>\n",
              "      <th>13</th>\n",
              "      <td>2020-07-01</td>\n",
              "      <td>1</td>\n",
              "    </tr>\n",
              "    <tr>\n",
              "      <th>14</th>\n",
              "      <td>2020-10-01</td>\n",
              "      <td>1</td>\n",
              "    </tr>\n",
              "    <tr>\n",
              "      <th>15</th>\n",
              "      <td>2020-11-01</td>\n",
              "      <td>6</td>\n",
              "    </tr>\n",
              "    <tr>\n",
              "      <th>16</th>\n",
              "      <td>2020-12-01</td>\n",
              "      <td>1</td>\n",
              "    </tr>\n",
              "    <tr>\n",
              "      <th>17</th>\n",
              "      <td>2021-01-01</td>\n",
              "      <td>1</td>\n",
              "    </tr>\n",
              "    <tr>\n",
              "      <th>18</th>\n",
              "      <td>2021-03-01</td>\n",
              "      <td>1</td>\n",
              "    </tr>\n",
              "    <tr>\n",
              "      <th>19</th>\n",
              "      <td>2021-04-01</td>\n",
              "      <td>3</td>\n",
              "    </tr>\n",
              "    <tr>\n",
              "      <th>20</th>\n",
              "      <td>2021-05-01</td>\n",
              "      <td>41032</td>\n",
              "    </tr>\n",
              "    <tr>\n",
              "      <th>21</th>\n",
              "      <td>2021-06-01</td>\n",
              "      <td>45770</td>\n",
              "    </tr>\n",
              "    <tr>\n",
              "      <th>22</th>\n",
              "      <td>2021-07-01</td>\n",
              "      <td>2787</td>\n",
              "    </tr>\n",
              "    <tr>\n",
              "      <th>23</th>\n",
              "      <td>2021-08-01</td>\n",
              "      <td>2139</td>\n",
              "    </tr>\n",
              "    <tr>\n",
              "      <th>24</th>\n",
              "      <td>2021-09-01</td>\n",
              "      <td>1688</td>\n",
              "    </tr>\n",
              "    <tr>\n",
              "      <th>25</th>\n",
              "      <td>2021-10-01</td>\n",
              "      <td>2131</td>\n",
              "    </tr>\n",
              "    <tr>\n",
              "      <th>26</th>\n",
              "      <td>2021-11-01</td>\n",
              "      <td>1340</td>\n",
              "    </tr>\n",
              "    <tr>\n",
              "      <th>27</th>\n",
              "      <td>2021-12-01</td>\n",
              "      <td>3608</td>\n",
              "    </tr>\n",
              "    <tr>\n",
              "      <th>28</th>\n",
              "      <td>2022-01-01</td>\n",
              "      <td>2911</td>\n",
              "    </tr>\n",
              "    <tr>\n",
              "      <th>29</th>\n",
              "      <td>2022-02-01</td>\n",
              "      <td>1747</td>\n",
              "    </tr>\n",
              "    <tr>\n",
              "      <th>30</th>\n",
              "      <td>2022-03-01</td>\n",
              "      <td>658</td>\n",
              "    </tr>\n",
              "  </tbody>\n",
              "</table>\n",
              "</div>\n",
              "      <button class=\"colab-df-convert\" onclick=\"convertToInteractive('df-28c03df4-9d34-4890-8ff0-889c4d053bcf')\"\n",
              "              title=\"Convert this dataframe to an interactive table.\"\n",
              "              style=\"display:none;\">\n",
              "        \n",
              "  <svg xmlns=\"http://www.w3.org/2000/svg\" height=\"24px\"viewBox=\"0 0 24 24\"\n",
              "       width=\"24px\">\n",
              "    <path d=\"M0 0h24v24H0V0z\" fill=\"none\"/>\n",
              "    <path d=\"M18.56 5.44l.94 2.06.94-2.06 2.06-.94-2.06-.94-.94-2.06-.94 2.06-2.06.94zm-11 1L8.5 8.5l.94-2.06 2.06-.94-2.06-.94L8.5 2.5l-.94 2.06-2.06.94zm10 10l.94 2.06.94-2.06 2.06-.94-2.06-.94-.94-2.06-.94 2.06-2.06.94z\"/><path d=\"M17.41 7.96l-1.37-1.37c-.4-.4-.92-.59-1.43-.59-.52 0-1.04.2-1.43.59L10.3 9.45l-7.72 7.72c-.78.78-.78 2.05 0 2.83L4 21.41c.39.39.9.59 1.41.59.51 0 1.02-.2 1.41-.59l7.78-7.78 2.81-2.81c.8-.78.8-2.07 0-2.86zM5.41 20L4 18.59l7.72-7.72 1.47 1.35L5.41 20z\"/>\n",
              "  </svg>\n",
              "      </button>\n",
              "      \n",
              "  <style>\n",
              "    .colab-df-container {\n",
              "      display:flex;\n",
              "      flex-wrap:wrap;\n",
              "      gap: 12px;\n",
              "    }\n",
              "\n",
              "    .colab-df-convert {\n",
              "      background-color: #E8F0FE;\n",
              "      border: none;\n",
              "      border-radius: 50%;\n",
              "      cursor: pointer;\n",
              "      display: none;\n",
              "      fill: #1967D2;\n",
              "      height: 32px;\n",
              "      padding: 0 0 0 0;\n",
              "      width: 32px;\n",
              "    }\n",
              "\n",
              "    .colab-df-convert:hover {\n",
              "      background-color: #E2EBFA;\n",
              "      box-shadow: 0px 1px 2px rgba(60, 64, 67, 0.3), 0px 1px 3px 1px rgba(60, 64, 67, 0.15);\n",
              "      fill: #174EA6;\n",
              "    }\n",
              "\n",
              "    [theme=dark] .colab-df-convert {\n",
              "      background-color: #3B4455;\n",
              "      fill: #D2E3FC;\n",
              "    }\n",
              "\n",
              "    [theme=dark] .colab-df-convert:hover {\n",
              "      background-color: #434B5C;\n",
              "      box-shadow: 0px 1px 3px 1px rgba(0, 0, 0, 0.15);\n",
              "      filter: drop-shadow(0px 1px 2px rgba(0, 0, 0, 0.3));\n",
              "      fill: #FFFFFF;\n",
              "    }\n",
              "  </style>\n",
              "\n",
              "      <script>\n",
              "        const buttonEl =\n",
              "          document.querySelector('#df-28c03df4-9d34-4890-8ff0-889c4d053bcf button.colab-df-convert');\n",
              "        buttonEl.style.display =\n",
              "          google.colab.kernel.accessAllowed ? 'block' : 'none';\n",
              "\n",
              "        async function convertToInteractive(key) {\n",
              "          const element = document.querySelector('#df-28c03df4-9d34-4890-8ff0-889c4d053bcf');\n",
              "          const dataTable =\n",
              "            await google.colab.kernel.invokeFunction('convertToInteractive',\n",
              "                                                     [key], {});\n",
              "          if (!dataTable) return;\n",
              "\n",
              "          const docLinkHtml = 'Like what you see? Visit the ' +\n",
              "            '<a target=\"_blank\" href=https://colab.research.google.com/notebooks/data_table.ipynb>data table notebook</a>'\n",
              "            + ' to learn more about interactive tables.';\n",
              "          element.innerHTML = '';\n",
              "          dataTable['output_type'] = 'display_data';\n",
              "          await google.colab.output.renderOutput(dataTable, element);\n",
              "          const docLink = document.createElement('div');\n",
              "          docLink.innerHTML = docLinkHtml;\n",
              "          element.appendChild(docLink);\n",
              "        }\n",
              "      </script>\n",
              "    </div>\n",
              "  </div>\n",
              "  "
            ]
          },
          "metadata": {},
          "execution_count": 24
        }
      ]
    },
    {
      "cell_type": "markdown",
      "source": [
        "Количество уникальных пользователей с 2018-05-01 по 2021-04-01 не больше 6. Видимо это период тестирования продукта, а полноценный запуск состоялся с мая 2021 года.\n",
        "В первые два месяца с момента запуска наблюдается самое большое количество уникальных пользователей, это может быть связано с масштабной рекламной кампанией."
      ],
      "metadata": {
        "id": "l8zEVOr3WbxH"
      }
    },
    {
      "cell_type": "markdown",
      "source": [
        "#### events_dict"
      ],
      "metadata": {
        "id": "P_MN3lcfH_b1"
      }
    },
    {
      "cell_type": "code",
      "source": [
        "query = \"SELECT * FROM events_dict\"   # Запрос к БД\n",
        "cursor.execute(query)                 # Сделаем запрос\n",
        "result = cursor.fetchall()            # Запросим все строки, мы получим результат в виде списка кортежей\n",
        "\n",
        "result[:5]"
      ],
      "metadata": {
        "id": "WBtSez0HICz3",
        "colab": {
          "base_uri": "https://localhost:8080/"
        },
        "outputId": "6b2dd97e-eb4b-4ce8-8d15-e36404724573"
      },
      "execution_count": 25,
      "outputs": [
        {
          "output_type": "execute_result",
          "data": {
            "text/plain": [
              "[('0', '0', 'student_created_order', '3', 'Создание заявки'),\n",
              " ('1', '497', 'student_booked_introlesson', '2', 'Назначение ВУ'),\n",
              " ('2', '934', 'student_pass_introlesson_succesfully', '7', 'Успешный ВУ'),\n",
              " ('3',\n",
              "  '956',\n",
              "  'firstline_operator_assigned_at_task',\n",
              "  '8',\n",
              "  'Назначение задачи на звонок 1Л'),\n",
              " ('4',\n",
              "  '1007',\n",
              "  'secondline_operator_assigned_at_task',\n",
              "  '12',\n",
              "  'Назначена задача на вторую линию')]"
            ]
          },
          "metadata": {},
          "execution_count": 25
        }
      ]
    },
    {
      "cell_type": "code",
      "source": [
        "# имена колонок\n",
        "cursor.description"
      ],
      "metadata": {
        "id": "BTjTPfR5IIZI",
        "colab": {
          "base_uri": "https://localhost:8080/"
        },
        "outputId": "76f3ca86-757c-492a-b3b1-83a0cfc1a589"
      },
      "execution_count": 26,
      "outputs": [
        {
          "output_type": "execute_result",
          "data": {
            "text/plain": [
              "(Column(name='pk', type_code=1043),\n",
              " Column(name='_index', type_code=1043),\n",
              " Column(name='_name', type_code=1043),\n",
              " Column(name='id', type_code=1043),\n",
              " Column(name='_description', type_code=1043))"
            ]
          },
          "metadata": {},
          "execution_count": 26
        }
      ]
    },
    {
      "cell_type": "code",
      "source": [
        "columns = []                     # В этот список будем сохранять названия колонок\n",
        "for desc in cursor.description:  \n",
        "    columns.append(desc[0])      # Названия колонок возьмем из первого элемента cursor.description\n",
        "\n",
        "    \n",
        "events_dict = pd.DataFrame(result, columns=columns)  # Из списка кортежей сделаем датафрейм\n",
        "events_dict.shape"
      ],
      "metadata": {
        "id": "V0SyxqO7ILaA",
        "colab": {
          "base_uri": "https://localhost:8080/"
        },
        "outputId": "562c2470-4e9f-4f17-f503-74b070433ed7"
      },
      "execution_count": 27,
      "outputs": [
        {
          "output_type": "execute_result",
          "data": {
            "text/plain": [
              "(12, 5)"
            ]
          },
          "metadata": {},
          "execution_count": 27
        }
      ]
    },
    {
      "cell_type": "code",
      "source": [
        "events_dict"
      ],
      "metadata": {
        "id": "iL85WLr-ISEU",
        "colab": {
          "base_uri": "https://localhost:8080/",
          "height": 426
        },
        "outputId": "163c22b2-e578-4e79-a714-29c378aefa54"
      },
      "execution_count": 28,
      "outputs": [
        {
          "output_type": "execute_result",
          "data": {
            "text/plain": [
              "    pk _index                                 _name  id  \\\n",
              "0    0      0                 student_created_order   3   \n",
              "1    1    497            student_booked_introlesson   2   \n",
              "2    2    934  student_pass_introlesson_succesfully   7   \n",
              "3    3    956   firstline_operator_assigned_at_task   8   \n",
              "4    4   1007  secondline_operator_assigned_at_task  12   \n",
              "5    5   1227   student_answered_firstline_operator   4   \n",
              "6    6   1619          methodist_joined_introlesson   6   \n",
              "7    7   1715             student_passed_demolesson  11   \n",
              "8    8   1801  student_answered_secondline_operator   9   \n",
              "9    9   2014             student_joined_demolesson  10   \n",
              "10  10   2239    firstline_operator_send_wa_message   5   \n",
              "11  11  13327           student_answered_wa_message  13   \n",
              "\n",
              "                             _description  \n",
              "0                         Создание заявки  \n",
              "1                           Назначение ВУ  \n",
              "2                             Успешный ВУ  \n",
              "3          Назначение задачи на звонок 1Л  \n",
              "4        Назначена задача на вторую линию  \n",
              "5   Ученик ответил на звонок оператора 1л  \n",
              "6                         Выход МВУ на ВУ  \n",
              "7                             ДУ завершен  \n",
              "8                               Дозвон 2Л  \n",
              "9              Переход на ДУ (ДУ начался)  \n",
              "10                  Отправка сообщения WA  \n",
              "11              У ответил на сообщение WA  "
            ],
            "text/html": [
              "\n",
              "  <div id=\"df-7300356e-e5bc-4ee5-ba82-a7eb53045017\">\n",
              "    <div class=\"colab-df-container\">\n",
              "      <div>\n",
              "<style scoped>\n",
              "    .dataframe tbody tr th:only-of-type {\n",
              "        vertical-align: middle;\n",
              "    }\n",
              "\n",
              "    .dataframe tbody tr th {\n",
              "        vertical-align: top;\n",
              "    }\n",
              "\n",
              "    .dataframe thead th {\n",
              "        text-align: right;\n",
              "    }\n",
              "</style>\n",
              "<table border=\"1\" class=\"dataframe\">\n",
              "  <thead>\n",
              "    <tr style=\"text-align: right;\">\n",
              "      <th></th>\n",
              "      <th>pk</th>\n",
              "      <th>_index</th>\n",
              "      <th>_name</th>\n",
              "      <th>id</th>\n",
              "      <th>_description</th>\n",
              "    </tr>\n",
              "  </thead>\n",
              "  <tbody>\n",
              "    <tr>\n",
              "      <th>0</th>\n",
              "      <td>0</td>\n",
              "      <td>0</td>\n",
              "      <td>student_created_order</td>\n",
              "      <td>3</td>\n",
              "      <td>Создание заявки</td>\n",
              "    </tr>\n",
              "    <tr>\n",
              "      <th>1</th>\n",
              "      <td>1</td>\n",
              "      <td>497</td>\n",
              "      <td>student_booked_introlesson</td>\n",
              "      <td>2</td>\n",
              "      <td>Назначение ВУ</td>\n",
              "    </tr>\n",
              "    <tr>\n",
              "      <th>2</th>\n",
              "      <td>2</td>\n",
              "      <td>934</td>\n",
              "      <td>student_pass_introlesson_succesfully</td>\n",
              "      <td>7</td>\n",
              "      <td>Успешный ВУ</td>\n",
              "    </tr>\n",
              "    <tr>\n",
              "      <th>3</th>\n",
              "      <td>3</td>\n",
              "      <td>956</td>\n",
              "      <td>firstline_operator_assigned_at_task</td>\n",
              "      <td>8</td>\n",
              "      <td>Назначение задачи на звонок 1Л</td>\n",
              "    </tr>\n",
              "    <tr>\n",
              "      <th>4</th>\n",
              "      <td>4</td>\n",
              "      <td>1007</td>\n",
              "      <td>secondline_operator_assigned_at_task</td>\n",
              "      <td>12</td>\n",
              "      <td>Назначена задача на вторую линию</td>\n",
              "    </tr>\n",
              "    <tr>\n",
              "      <th>5</th>\n",
              "      <td>5</td>\n",
              "      <td>1227</td>\n",
              "      <td>student_answered_firstline_operator</td>\n",
              "      <td>4</td>\n",
              "      <td>Ученик ответил на звонок оператора 1л</td>\n",
              "    </tr>\n",
              "    <tr>\n",
              "      <th>6</th>\n",
              "      <td>6</td>\n",
              "      <td>1619</td>\n",
              "      <td>methodist_joined_introlesson</td>\n",
              "      <td>6</td>\n",
              "      <td>Выход МВУ на ВУ</td>\n",
              "    </tr>\n",
              "    <tr>\n",
              "      <th>7</th>\n",
              "      <td>7</td>\n",
              "      <td>1715</td>\n",
              "      <td>student_passed_demolesson</td>\n",
              "      <td>11</td>\n",
              "      <td>ДУ завершен</td>\n",
              "    </tr>\n",
              "    <tr>\n",
              "      <th>8</th>\n",
              "      <td>8</td>\n",
              "      <td>1801</td>\n",
              "      <td>student_answered_secondline_operator</td>\n",
              "      <td>9</td>\n",
              "      <td>Дозвон 2Л</td>\n",
              "    </tr>\n",
              "    <tr>\n",
              "      <th>9</th>\n",
              "      <td>9</td>\n",
              "      <td>2014</td>\n",
              "      <td>student_joined_demolesson</td>\n",
              "      <td>10</td>\n",
              "      <td>Переход на ДУ (ДУ начался)</td>\n",
              "    </tr>\n",
              "    <tr>\n",
              "      <th>10</th>\n",
              "      <td>10</td>\n",
              "      <td>2239</td>\n",
              "      <td>firstline_operator_send_wa_message</td>\n",
              "      <td>5</td>\n",
              "      <td>Отправка сообщения WA</td>\n",
              "    </tr>\n",
              "    <tr>\n",
              "      <th>11</th>\n",
              "      <td>11</td>\n",
              "      <td>13327</td>\n",
              "      <td>student_answered_wa_message</td>\n",
              "      <td>13</td>\n",
              "      <td>У ответил на сообщение WA</td>\n",
              "    </tr>\n",
              "  </tbody>\n",
              "</table>\n",
              "</div>\n",
              "      <button class=\"colab-df-convert\" onclick=\"convertToInteractive('df-7300356e-e5bc-4ee5-ba82-a7eb53045017')\"\n",
              "              title=\"Convert this dataframe to an interactive table.\"\n",
              "              style=\"display:none;\">\n",
              "        \n",
              "  <svg xmlns=\"http://www.w3.org/2000/svg\" height=\"24px\"viewBox=\"0 0 24 24\"\n",
              "       width=\"24px\">\n",
              "    <path d=\"M0 0h24v24H0V0z\" fill=\"none\"/>\n",
              "    <path d=\"M18.56 5.44l.94 2.06.94-2.06 2.06-.94-2.06-.94-.94-2.06-.94 2.06-2.06.94zm-11 1L8.5 8.5l.94-2.06 2.06-.94-2.06-.94L8.5 2.5l-.94 2.06-2.06.94zm10 10l.94 2.06.94-2.06 2.06-.94-2.06-.94-.94-2.06-.94 2.06-2.06.94z\"/><path d=\"M17.41 7.96l-1.37-1.37c-.4-.4-.92-.59-1.43-.59-.52 0-1.04.2-1.43.59L10.3 9.45l-7.72 7.72c-.78.78-.78 2.05 0 2.83L4 21.41c.39.39.9.59 1.41.59.51 0 1.02-.2 1.41-.59l7.78-7.78 2.81-2.81c.8-.78.8-2.07 0-2.86zM5.41 20L4 18.59l7.72-7.72 1.47 1.35L5.41 20z\"/>\n",
              "  </svg>\n",
              "      </button>\n",
              "      \n",
              "  <style>\n",
              "    .colab-df-container {\n",
              "      display:flex;\n",
              "      flex-wrap:wrap;\n",
              "      gap: 12px;\n",
              "    }\n",
              "\n",
              "    .colab-df-convert {\n",
              "      background-color: #E8F0FE;\n",
              "      border: none;\n",
              "      border-radius: 50%;\n",
              "      cursor: pointer;\n",
              "      display: none;\n",
              "      fill: #1967D2;\n",
              "      height: 32px;\n",
              "      padding: 0 0 0 0;\n",
              "      width: 32px;\n",
              "    }\n",
              "\n",
              "    .colab-df-convert:hover {\n",
              "      background-color: #E2EBFA;\n",
              "      box-shadow: 0px 1px 2px rgba(60, 64, 67, 0.3), 0px 1px 3px 1px rgba(60, 64, 67, 0.15);\n",
              "      fill: #174EA6;\n",
              "    }\n",
              "\n",
              "    [theme=dark] .colab-df-convert {\n",
              "      background-color: #3B4455;\n",
              "      fill: #D2E3FC;\n",
              "    }\n",
              "\n",
              "    [theme=dark] .colab-df-convert:hover {\n",
              "      background-color: #434B5C;\n",
              "      box-shadow: 0px 1px 3px 1px rgba(0, 0, 0, 0.15);\n",
              "      filter: drop-shadow(0px 1px 2px rgba(0, 0, 0, 0.3));\n",
              "      fill: #FFFFFF;\n",
              "    }\n",
              "  </style>\n",
              "\n",
              "      <script>\n",
              "        const buttonEl =\n",
              "          document.querySelector('#df-7300356e-e5bc-4ee5-ba82-a7eb53045017 button.colab-df-convert');\n",
              "        buttonEl.style.display =\n",
              "          google.colab.kernel.accessAllowed ? 'block' : 'none';\n",
              "\n",
              "        async function convertToInteractive(key) {\n",
              "          const element = document.querySelector('#df-7300356e-e5bc-4ee5-ba82-a7eb53045017');\n",
              "          const dataTable =\n",
              "            await google.colab.kernel.invokeFunction('convertToInteractive',\n",
              "                                                     [key], {});\n",
              "          if (!dataTable) return;\n",
              "\n",
              "          const docLinkHtml = 'Like what you see? Visit the ' +\n",
              "            '<a target=\"_blank\" href=https://colab.research.google.com/notebooks/data_table.ipynb>data table notebook</a>'\n",
              "            + ' to learn more about interactive tables.';\n",
              "          element.innerHTML = '';\n",
              "          dataTable['output_type'] = 'display_data';\n",
              "          await google.colab.output.renderOutput(dataTable, element);\n",
              "          const docLink = document.createElement('div');\n",
              "          docLink.innerHTML = docLinkHtml;\n",
              "          element.appendChild(docLink);\n",
              "        }\n",
              "      </script>\n",
              "    </div>\n",
              "  </div>\n",
              "  "
            ]
          },
          "metadata": {},
          "execution_count": 28
        }
      ]
    },
    {
      "cell_type": "code",
      "source": [
        "events_dict.to_csv('/content/drive/MyDrive/Colab Notebooks/career_factory/careerfactory_2022_1/events_dict.csv', index=False)"
      ],
      "metadata": {
        "id": "7omDyhY8IOYt"
      },
      "execution_count": 29,
      "outputs": []
    },
    {
      "cell_type": "code",
      "source": [
        "events_dict = pd.read_csv('/content/drive/MyDrive/Colab Notebooks/career_factory/careerfactory_2022_1/events_dict.csv')\n",
        "events_dict"
      ],
      "metadata": {
        "colab": {
          "base_uri": "https://localhost:8080/",
          "height": 426
        },
        "id": "BhCLRtS_e9rN",
        "outputId": "5d3d442b-3849-47ed-f702-b156fee62c6b"
      },
      "execution_count": null,
      "outputs": [
        {
          "output_type": "execute_result",
          "data": {
            "text/plain": [
              "    pk  _index                                 _name  id  \\\n",
              "0    0       0                 student_created_order   3   \n",
              "1    1     497            student_booked_introlesson   2   \n",
              "2    2     934  student_pass_introlesson_succesfully   7   \n",
              "3    3     956   firstline_operator_assigned_at_task   8   \n",
              "4    4    1007  secondline_operator_assigned_at_task  12   \n",
              "5    5    1227   student_answered_firstline_operator   4   \n",
              "6    6    1619          methodist_joined_introlesson   6   \n",
              "7    7    1715             student_passed_demolesson  11   \n",
              "8    8    1801  student_answered_secondline_operator   9   \n",
              "9    9    2014             student_joined_demolesson  10   \n",
              "10  10    2239    firstline_operator_send_wa_message   5   \n",
              "11  11   13327           student_answered_wa_message  13   \n",
              "\n",
              "                             _description  \n",
              "0                         Создание заявки  \n",
              "1                           Назначение ВУ  \n",
              "2                             Успешный ВУ  \n",
              "3          Назначение задачи на звонок 1Л  \n",
              "4        Назначена задача на вторую линию  \n",
              "5   Ученик ответил на звонок оператора 1л  \n",
              "6                         Выход МВУ на ВУ  \n",
              "7                             ДУ завершен  \n",
              "8                               Дозвон 2Л  \n",
              "9              Переход на ДУ (ДУ начался)  \n",
              "10                  Отправка сообщения WA  \n",
              "11              У ответил на сообщение WA  "
            ],
            "text/html": [
              "\n",
              "  <div id=\"df-ae1c5481-c6a3-4e3a-a229-d6e26f6a75ac\">\n",
              "    <div class=\"colab-df-container\">\n",
              "      <div>\n",
              "<style scoped>\n",
              "    .dataframe tbody tr th:only-of-type {\n",
              "        vertical-align: middle;\n",
              "    }\n",
              "\n",
              "    .dataframe tbody tr th {\n",
              "        vertical-align: top;\n",
              "    }\n",
              "\n",
              "    .dataframe thead th {\n",
              "        text-align: right;\n",
              "    }\n",
              "</style>\n",
              "<table border=\"1\" class=\"dataframe\">\n",
              "  <thead>\n",
              "    <tr style=\"text-align: right;\">\n",
              "      <th></th>\n",
              "      <th>pk</th>\n",
              "      <th>_index</th>\n",
              "      <th>_name</th>\n",
              "      <th>id</th>\n",
              "      <th>_description</th>\n",
              "    </tr>\n",
              "  </thead>\n",
              "  <tbody>\n",
              "    <tr>\n",
              "      <th>0</th>\n",
              "      <td>0</td>\n",
              "      <td>0</td>\n",
              "      <td>student_created_order</td>\n",
              "      <td>3</td>\n",
              "      <td>Создание заявки</td>\n",
              "    </tr>\n",
              "    <tr>\n",
              "      <th>1</th>\n",
              "      <td>1</td>\n",
              "      <td>497</td>\n",
              "      <td>student_booked_introlesson</td>\n",
              "      <td>2</td>\n",
              "      <td>Назначение ВУ</td>\n",
              "    </tr>\n",
              "    <tr>\n",
              "      <th>2</th>\n",
              "      <td>2</td>\n",
              "      <td>934</td>\n",
              "      <td>student_pass_introlesson_succesfully</td>\n",
              "      <td>7</td>\n",
              "      <td>Успешный ВУ</td>\n",
              "    </tr>\n",
              "    <tr>\n",
              "      <th>3</th>\n",
              "      <td>3</td>\n",
              "      <td>956</td>\n",
              "      <td>firstline_operator_assigned_at_task</td>\n",
              "      <td>8</td>\n",
              "      <td>Назначение задачи на звонок 1Л</td>\n",
              "    </tr>\n",
              "    <tr>\n",
              "      <th>4</th>\n",
              "      <td>4</td>\n",
              "      <td>1007</td>\n",
              "      <td>secondline_operator_assigned_at_task</td>\n",
              "      <td>12</td>\n",
              "      <td>Назначена задача на вторую линию</td>\n",
              "    </tr>\n",
              "    <tr>\n",
              "      <th>5</th>\n",
              "      <td>5</td>\n",
              "      <td>1227</td>\n",
              "      <td>student_answered_firstline_operator</td>\n",
              "      <td>4</td>\n",
              "      <td>Ученик ответил на звонок оператора 1л</td>\n",
              "    </tr>\n",
              "    <tr>\n",
              "      <th>6</th>\n",
              "      <td>6</td>\n",
              "      <td>1619</td>\n",
              "      <td>methodist_joined_introlesson</td>\n",
              "      <td>6</td>\n",
              "      <td>Выход МВУ на ВУ</td>\n",
              "    </tr>\n",
              "    <tr>\n",
              "      <th>7</th>\n",
              "      <td>7</td>\n",
              "      <td>1715</td>\n",
              "      <td>student_passed_demolesson</td>\n",
              "      <td>11</td>\n",
              "      <td>ДУ завершен</td>\n",
              "    </tr>\n",
              "    <tr>\n",
              "      <th>8</th>\n",
              "      <td>8</td>\n",
              "      <td>1801</td>\n",
              "      <td>student_answered_secondline_operator</td>\n",
              "      <td>9</td>\n",
              "      <td>Дозвон 2Л</td>\n",
              "    </tr>\n",
              "    <tr>\n",
              "      <th>9</th>\n",
              "      <td>9</td>\n",
              "      <td>2014</td>\n",
              "      <td>student_joined_demolesson</td>\n",
              "      <td>10</td>\n",
              "      <td>Переход на ДУ (ДУ начался)</td>\n",
              "    </tr>\n",
              "    <tr>\n",
              "      <th>10</th>\n",
              "      <td>10</td>\n",
              "      <td>2239</td>\n",
              "      <td>firstline_operator_send_wa_message</td>\n",
              "      <td>5</td>\n",
              "      <td>Отправка сообщения WA</td>\n",
              "    </tr>\n",
              "    <tr>\n",
              "      <th>11</th>\n",
              "      <td>11</td>\n",
              "      <td>13327</td>\n",
              "      <td>student_answered_wa_message</td>\n",
              "      <td>13</td>\n",
              "      <td>У ответил на сообщение WA</td>\n",
              "    </tr>\n",
              "  </tbody>\n",
              "</table>\n",
              "</div>\n",
              "      <button class=\"colab-df-convert\" onclick=\"convertToInteractive('df-ae1c5481-c6a3-4e3a-a229-d6e26f6a75ac')\"\n",
              "              title=\"Convert this dataframe to an interactive table.\"\n",
              "              style=\"display:none;\">\n",
              "        \n",
              "  <svg xmlns=\"http://www.w3.org/2000/svg\" height=\"24px\"viewBox=\"0 0 24 24\"\n",
              "       width=\"24px\">\n",
              "    <path d=\"M0 0h24v24H0V0z\" fill=\"none\"/>\n",
              "    <path d=\"M18.56 5.44l.94 2.06.94-2.06 2.06-.94-2.06-.94-.94-2.06-.94 2.06-2.06.94zm-11 1L8.5 8.5l.94-2.06 2.06-.94-2.06-.94L8.5 2.5l-.94 2.06-2.06.94zm10 10l.94 2.06.94-2.06 2.06-.94-2.06-.94-.94-2.06-.94 2.06-2.06.94z\"/><path d=\"M17.41 7.96l-1.37-1.37c-.4-.4-.92-.59-1.43-.59-.52 0-1.04.2-1.43.59L10.3 9.45l-7.72 7.72c-.78.78-.78 2.05 0 2.83L4 21.41c.39.39.9.59 1.41.59.51 0 1.02-.2 1.41-.59l7.78-7.78 2.81-2.81c.8-.78.8-2.07 0-2.86zM5.41 20L4 18.59l7.72-7.72 1.47 1.35L5.41 20z\"/>\n",
              "  </svg>\n",
              "      </button>\n",
              "      \n",
              "  <style>\n",
              "    .colab-df-container {\n",
              "      display:flex;\n",
              "      flex-wrap:wrap;\n",
              "      gap: 12px;\n",
              "    }\n",
              "\n",
              "    .colab-df-convert {\n",
              "      background-color: #E8F0FE;\n",
              "      border: none;\n",
              "      border-radius: 50%;\n",
              "      cursor: pointer;\n",
              "      display: none;\n",
              "      fill: #1967D2;\n",
              "      height: 32px;\n",
              "      padding: 0 0 0 0;\n",
              "      width: 32px;\n",
              "    }\n",
              "\n",
              "    .colab-df-convert:hover {\n",
              "      background-color: #E2EBFA;\n",
              "      box-shadow: 0px 1px 2px rgba(60, 64, 67, 0.3), 0px 1px 3px 1px rgba(60, 64, 67, 0.15);\n",
              "      fill: #174EA6;\n",
              "    }\n",
              "\n",
              "    [theme=dark] .colab-df-convert {\n",
              "      background-color: #3B4455;\n",
              "      fill: #D2E3FC;\n",
              "    }\n",
              "\n",
              "    [theme=dark] .colab-df-convert:hover {\n",
              "      background-color: #434B5C;\n",
              "      box-shadow: 0px 1px 3px 1px rgba(0, 0, 0, 0.15);\n",
              "      filter: drop-shadow(0px 1px 2px rgba(0, 0, 0, 0.3));\n",
              "      fill: #FFFFFF;\n",
              "    }\n",
              "  </style>\n",
              "\n",
              "      <script>\n",
              "        const buttonEl =\n",
              "          document.querySelector('#df-ae1c5481-c6a3-4e3a-a229-d6e26f6a75ac button.colab-df-convert');\n",
              "        buttonEl.style.display =\n",
              "          google.colab.kernel.accessAllowed ? 'block' : 'none';\n",
              "\n",
              "        async function convertToInteractive(key) {\n",
              "          const element = document.querySelector('#df-ae1c5481-c6a3-4e3a-a229-d6e26f6a75ac');\n",
              "          const dataTable =\n",
              "            await google.colab.kernel.invokeFunction('convertToInteractive',\n",
              "                                                     [key], {});\n",
              "          if (!dataTable) return;\n",
              "\n",
              "          const docLinkHtml = 'Like what you see? Visit the ' +\n",
              "            '<a target=\"_blank\" href=https://colab.research.google.com/notebooks/data_table.ipynb>data table notebook</a>'\n",
              "            + ' to learn more about interactive tables.';\n",
              "          element.innerHTML = '';\n",
              "          dataTable['output_type'] = 'display_data';\n",
              "          await google.colab.output.renderOutput(dataTable, element);\n",
              "          const docLink = document.createElement('div');\n",
              "          docLink.innerHTML = docLinkHtml;\n",
              "          element.appendChild(docLink);\n",
              "        }\n",
              "      </script>\n",
              "    </div>\n",
              "  </div>\n",
              "  "
            ]
          },
          "metadata": {},
          "execution_count": 52
        }
      ]
    },
    {
      "cell_type": "markdown",
      "source": [
        "В этом датафрейме хранится расшифровка событий из ранее загруженного датафрейма `events`."
      ],
      "metadata": {
        "id": "ThrYjclFXkun"
      }
    },
    {
      "cell_type": "markdown",
      "source": [
        "#### payments"
      ],
      "metadata": {
        "id": "5VbPakmiIuio"
      }
    },
    {
      "cell_type": "markdown",
      "source": [
        "[Средние курсы валют за год](https://www.ruble24.ru/%D0%A7%D0%B8%D0%BB%D0%B8%D0%B9%D1%81%D0%BA%D0%BE%D0%B5-%D0%BF%D0%B5%D1%81%D0%BE/2021) - этот сайт использовался для получения информации по валютам, которые отсутствуют в библотеке `pycbrf`."
      ],
      "metadata": {
        "id": "Qsa4nNf9cAmw"
      }
    },
    {
      "cell_type": "code",
      "source": [
        "query = \"SELECT * FROM payments\"  # Запрос к БД\n",
        "cursor.execute(query)             # Сделаем запрос\n",
        "result = cursor.fetchall()        # Запросим все строки, мы получим результат в виде списка кортежей\n",
        "\n",
        "result[:5]"
      ],
      "metadata": {
        "id": "uD0xszTiIzKy",
        "colab": {
          "base_uri": "https://localhost:8080/"
        },
        "outputId": "7708cf63-b7b9-4944-d19d-61ed884c00d6"
      },
      "execution_count": 30,
      "outputs": [
        {
          "output_type": "execute_result",
          "data": {
            "text/plain": [
              "[('0', '3807046', '2021-05-16 03:41:25', '12242732', 'RUB', '390.0', 'false'),\n",
              " ('1', '3807613', '2021-05-16 11:06:23', '12241834', 'RUB', '7980.0', 'false'),\n",
              " ('2',\n",
              "  '3807673',\n",
              "  '2021-05-16 11:33:06',\n",
              "  '12241501',\n",
              "  'RUB',\n",
              "  '24880.0',\n",
              "  'false'),\n",
              " ('3', '3810405', '2021-05-17 09:45:40', '12242141', 'RUB', '8520.0', 'false'),\n",
              " ('4',\n",
              "  '3811432',\n",
              "  '2021-05-17 13:35:35',\n",
              "  '12251367',\n",
              "  'RUB',\n",
              "  '14360.0',\n",
              "  'false')]"
            ]
          },
          "metadata": {},
          "execution_count": 30
        }
      ]
    },
    {
      "cell_type": "code",
      "source": [
        "# имена колонок\n",
        "cursor.description"
      ],
      "metadata": {
        "id": "Re2RPGYEI5cO",
        "colab": {
          "base_uri": "https://localhost:8080/"
        },
        "outputId": "c7512731-e4e5-4b70-acf0-69f34109636b"
      },
      "execution_count": 31,
      "outputs": [
        {
          "output_type": "execute_result",
          "data": {
            "text/plain": [
              "(Column(name='pk', type_code=1043),\n",
              " Column(name='transaction_id', type_code=1043),\n",
              " Column(name='transaction_created_at', type_code=1043),\n",
              " Column(name='_user_id', type_code=1043),\n",
              " Column(name='currency', type_code=1043),\n",
              " Column(name='amount', type_code=1043),\n",
              " Column(name='is_gift', type_code=1043))"
            ]
          },
          "metadata": {},
          "execution_count": 31
        }
      ]
    },
    {
      "cell_type": "code",
      "source": [
        "columns = []                     # В этот список будем сохранять названия колонок\n",
        "for desc in cursor.description:  \n",
        "    columns.append(desc[0])      # Названия колонок возьмем из первого элемента cursor.description\n",
        "\n",
        "    \n",
        "payments = pd.DataFrame(result, columns=columns)  # Из списка кортежей сделаем датафрейм\n",
        "payments.shape"
      ],
      "metadata": {
        "id": "fAULIvGmI5cP",
        "colab": {
          "base_uri": "https://localhost:8080/"
        },
        "outputId": "aa85b5fd-437d-4f6c-8f1b-6ffa29883a01"
      },
      "execution_count": 32,
      "outputs": [
        {
          "output_type": "execute_result",
          "data": {
            "text/plain": [
              "(69803, 7)"
            ]
          },
          "metadata": {},
          "execution_count": 32
        }
      ]
    },
    {
      "cell_type": "code",
      "source": [
        "payments.head(3)"
      ],
      "metadata": {
        "id": "RiARemqZJCG1",
        "colab": {
          "base_uri": "https://localhost:8080/",
          "height": 143
        },
        "outputId": "febe0ad8-01f1-4275-e9d0-602b7022fd9d"
      },
      "execution_count": 33,
      "outputs": [
        {
          "output_type": "execute_result",
          "data": {
            "text/plain": [
              "  pk transaction_id transaction_created_at  _user_id currency   amount is_gift\n",
              "0  0        3807046    2021-05-16 03:41:25  12242732      RUB    390.0   false\n",
              "1  1        3807613    2021-05-16 11:06:23  12241834      RUB   7980.0   false\n",
              "2  2        3807673    2021-05-16 11:33:06  12241501      RUB  24880.0   false"
            ],
            "text/html": [
              "\n",
              "  <div id=\"df-5e4c500e-7a48-44cb-b757-0f04ebd3d174\">\n",
              "    <div class=\"colab-df-container\">\n",
              "      <div>\n",
              "<style scoped>\n",
              "    .dataframe tbody tr th:only-of-type {\n",
              "        vertical-align: middle;\n",
              "    }\n",
              "\n",
              "    .dataframe tbody tr th {\n",
              "        vertical-align: top;\n",
              "    }\n",
              "\n",
              "    .dataframe thead th {\n",
              "        text-align: right;\n",
              "    }\n",
              "</style>\n",
              "<table border=\"1\" class=\"dataframe\">\n",
              "  <thead>\n",
              "    <tr style=\"text-align: right;\">\n",
              "      <th></th>\n",
              "      <th>pk</th>\n",
              "      <th>transaction_id</th>\n",
              "      <th>transaction_created_at</th>\n",
              "      <th>_user_id</th>\n",
              "      <th>currency</th>\n",
              "      <th>amount</th>\n",
              "      <th>is_gift</th>\n",
              "    </tr>\n",
              "  </thead>\n",
              "  <tbody>\n",
              "    <tr>\n",
              "      <th>0</th>\n",
              "      <td>0</td>\n",
              "      <td>3807046</td>\n",
              "      <td>2021-05-16 03:41:25</td>\n",
              "      <td>12242732</td>\n",
              "      <td>RUB</td>\n",
              "      <td>390.0</td>\n",
              "      <td>false</td>\n",
              "    </tr>\n",
              "    <tr>\n",
              "      <th>1</th>\n",
              "      <td>1</td>\n",
              "      <td>3807613</td>\n",
              "      <td>2021-05-16 11:06:23</td>\n",
              "      <td>12241834</td>\n",
              "      <td>RUB</td>\n",
              "      <td>7980.0</td>\n",
              "      <td>false</td>\n",
              "    </tr>\n",
              "    <tr>\n",
              "      <th>2</th>\n",
              "      <td>2</td>\n",
              "      <td>3807673</td>\n",
              "      <td>2021-05-16 11:33:06</td>\n",
              "      <td>12241501</td>\n",
              "      <td>RUB</td>\n",
              "      <td>24880.0</td>\n",
              "      <td>false</td>\n",
              "    </tr>\n",
              "  </tbody>\n",
              "</table>\n",
              "</div>\n",
              "      <button class=\"colab-df-convert\" onclick=\"convertToInteractive('df-5e4c500e-7a48-44cb-b757-0f04ebd3d174')\"\n",
              "              title=\"Convert this dataframe to an interactive table.\"\n",
              "              style=\"display:none;\">\n",
              "        \n",
              "  <svg xmlns=\"http://www.w3.org/2000/svg\" height=\"24px\"viewBox=\"0 0 24 24\"\n",
              "       width=\"24px\">\n",
              "    <path d=\"M0 0h24v24H0V0z\" fill=\"none\"/>\n",
              "    <path d=\"M18.56 5.44l.94 2.06.94-2.06 2.06-.94-2.06-.94-.94-2.06-.94 2.06-2.06.94zm-11 1L8.5 8.5l.94-2.06 2.06-.94-2.06-.94L8.5 2.5l-.94 2.06-2.06.94zm10 10l.94 2.06.94-2.06 2.06-.94-2.06-.94-.94-2.06-.94 2.06-2.06.94z\"/><path d=\"M17.41 7.96l-1.37-1.37c-.4-.4-.92-.59-1.43-.59-.52 0-1.04.2-1.43.59L10.3 9.45l-7.72 7.72c-.78.78-.78 2.05 0 2.83L4 21.41c.39.39.9.59 1.41.59.51 0 1.02-.2 1.41-.59l7.78-7.78 2.81-2.81c.8-.78.8-2.07 0-2.86zM5.41 20L4 18.59l7.72-7.72 1.47 1.35L5.41 20z\"/>\n",
              "  </svg>\n",
              "      </button>\n",
              "      \n",
              "  <style>\n",
              "    .colab-df-container {\n",
              "      display:flex;\n",
              "      flex-wrap:wrap;\n",
              "      gap: 12px;\n",
              "    }\n",
              "\n",
              "    .colab-df-convert {\n",
              "      background-color: #E8F0FE;\n",
              "      border: none;\n",
              "      border-radius: 50%;\n",
              "      cursor: pointer;\n",
              "      display: none;\n",
              "      fill: #1967D2;\n",
              "      height: 32px;\n",
              "      padding: 0 0 0 0;\n",
              "      width: 32px;\n",
              "    }\n",
              "\n",
              "    .colab-df-convert:hover {\n",
              "      background-color: #E2EBFA;\n",
              "      box-shadow: 0px 1px 2px rgba(60, 64, 67, 0.3), 0px 1px 3px 1px rgba(60, 64, 67, 0.15);\n",
              "      fill: #174EA6;\n",
              "    }\n",
              "\n",
              "    [theme=dark] .colab-df-convert {\n",
              "      background-color: #3B4455;\n",
              "      fill: #D2E3FC;\n",
              "    }\n",
              "\n",
              "    [theme=dark] .colab-df-convert:hover {\n",
              "      background-color: #434B5C;\n",
              "      box-shadow: 0px 1px 3px 1px rgba(0, 0, 0, 0.15);\n",
              "      filter: drop-shadow(0px 1px 2px rgba(0, 0, 0, 0.3));\n",
              "      fill: #FFFFFF;\n",
              "    }\n",
              "  </style>\n",
              "\n",
              "      <script>\n",
              "        const buttonEl =\n",
              "          document.querySelector('#df-5e4c500e-7a48-44cb-b757-0f04ebd3d174 button.colab-df-convert');\n",
              "        buttonEl.style.display =\n",
              "          google.colab.kernel.accessAllowed ? 'block' : 'none';\n",
              "\n",
              "        async function convertToInteractive(key) {\n",
              "          const element = document.querySelector('#df-5e4c500e-7a48-44cb-b757-0f04ebd3d174');\n",
              "          const dataTable =\n",
              "            await google.colab.kernel.invokeFunction('convertToInteractive',\n",
              "                                                     [key], {});\n",
              "          if (!dataTable) return;\n",
              "\n",
              "          const docLinkHtml = 'Like what you see? Visit the ' +\n",
              "            '<a target=\"_blank\" href=https://colab.research.google.com/notebooks/data_table.ipynb>data table notebook</a>'\n",
              "            + ' to learn more about interactive tables.';\n",
              "          element.innerHTML = '';\n",
              "          dataTable['output_type'] = 'display_data';\n",
              "          await google.colab.output.renderOutput(dataTable, element);\n",
              "          const docLink = document.createElement('div');\n",
              "          docLink.innerHTML = docLinkHtml;\n",
              "          element.appendChild(docLink);\n",
              "        }\n",
              "      </script>\n",
              "    </div>\n",
              "  </div>\n",
              "  "
            ]
          },
          "metadata": {},
          "execution_count": 33
        }
      ]
    },
    {
      "cell_type": "code",
      "source": [
        "payments.to_csv('/content/drive/MyDrive/Colab Notebooks/career_factory/careerfactory_2022_1/payments.csv', index=False)"
      ],
      "metadata": {
        "id": "uEffvU00I5cP"
      },
      "execution_count": 34,
      "outputs": []
    },
    {
      "cell_type": "code",
      "source": [
        "payments = pd.read_csv('/content/drive/MyDrive/Colab Notebooks/career_factory/careerfactory_2022_1/payments.csv', parse_dates=['transaction_created_at'])\n",
        "payments = payments.rename(columns = {'_user_id': 'user_id'})\n",
        "payments.shape"
      ],
      "metadata": {
        "colab": {
          "base_uri": "https://localhost:8080/"
        },
        "id": "plVZDNpOQmeC",
        "outputId": "058780d8-1ae5-4ffe-b91f-4d16a166a404"
      },
      "execution_count": 59,
      "outputs": [
        {
          "output_type": "execute_result",
          "data": {
            "text/plain": [
              "(69803, 7)"
            ]
          },
          "metadata": {},
          "execution_count": 59
        }
      ]
    },
    {
      "cell_type": "code",
      "source": [
        "# перевод колонки в формат datetime\n",
        "payments['transaction_created_at'] = pd.to_datetime(payments['transaction_created_at'])\n",
        "# оставляем только дату\n",
        "payments['transaction_created_at'] = payments['transaction_created_at'].dt.normalize()"
      ],
      "metadata": {
        "id": "c1ZzQp9vwSNK"
      },
      "execution_count": 36,
      "outputs": []
    },
    {
      "cell_type": "code",
      "source": [
        "payments.head(3)"
      ],
      "metadata": {
        "colab": {
          "base_uri": "https://localhost:8080/",
          "height": 143
        },
        "id": "1AGnTDuwIoB3",
        "outputId": "65dc2677-272b-4644-c542-a04180f200e1"
      },
      "execution_count": 37,
      "outputs": [
        {
          "output_type": "execute_result",
          "data": {
            "text/plain": [
              "  pk transaction_id transaction_created_at  _user_id currency   amount is_gift\n",
              "0  0        3807046             2021-05-16  12242732      RUB    390.0   false\n",
              "1  1        3807613             2021-05-16  12241834      RUB   7980.0   false\n",
              "2  2        3807673             2021-05-16  12241501      RUB  24880.0   false"
            ],
            "text/html": [
              "\n",
              "  <div id=\"df-08425f0c-9f3e-41d8-aa92-a178d4ead0c3\">\n",
              "    <div class=\"colab-df-container\">\n",
              "      <div>\n",
              "<style scoped>\n",
              "    .dataframe tbody tr th:only-of-type {\n",
              "        vertical-align: middle;\n",
              "    }\n",
              "\n",
              "    .dataframe tbody tr th {\n",
              "        vertical-align: top;\n",
              "    }\n",
              "\n",
              "    .dataframe thead th {\n",
              "        text-align: right;\n",
              "    }\n",
              "</style>\n",
              "<table border=\"1\" class=\"dataframe\">\n",
              "  <thead>\n",
              "    <tr style=\"text-align: right;\">\n",
              "      <th></th>\n",
              "      <th>pk</th>\n",
              "      <th>transaction_id</th>\n",
              "      <th>transaction_created_at</th>\n",
              "      <th>_user_id</th>\n",
              "      <th>currency</th>\n",
              "      <th>amount</th>\n",
              "      <th>is_gift</th>\n",
              "    </tr>\n",
              "  </thead>\n",
              "  <tbody>\n",
              "    <tr>\n",
              "      <th>0</th>\n",
              "      <td>0</td>\n",
              "      <td>3807046</td>\n",
              "      <td>2021-05-16</td>\n",
              "      <td>12242732</td>\n",
              "      <td>RUB</td>\n",
              "      <td>390.0</td>\n",
              "      <td>false</td>\n",
              "    </tr>\n",
              "    <tr>\n",
              "      <th>1</th>\n",
              "      <td>1</td>\n",
              "      <td>3807613</td>\n",
              "      <td>2021-05-16</td>\n",
              "      <td>12241834</td>\n",
              "      <td>RUB</td>\n",
              "      <td>7980.0</td>\n",
              "      <td>false</td>\n",
              "    </tr>\n",
              "    <tr>\n",
              "      <th>2</th>\n",
              "      <td>2</td>\n",
              "      <td>3807673</td>\n",
              "      <td>2021-05-16</td>\n",
              "      <td>12241501</td>\n",
              "      <td>RUB</td>\n",
              "      <td>24880.0</td>\n",
              "      <td>false</td>\n",
              "    </tr>\n",
              "  </tbody>\n",
              "</table>\n",
              "</div>\n",
              "      <button class=\"colab-df-convert\" onclick=\"convertToInteractive('df-08425f0c-9f3e-41d8-aa92-a178d4ead0c3')\"\n",
              "              title=\"Convert this dataframe to an interactive table.\"\n",
              "              style=\"display:none;\">\n",
              "        \n",
              "  <svg xmlns=\"http://www.w3.org/2000/svg\" height=\"24px\"viewBox=\"0 0 24 24\"\n",
              "       width=\"24px\">\n",
              "    <path d=\"M0 0h24v24H0V0z\" fill=\"none\"/>\n",
              "    <path d=\"M18.56 5.44l.94 2.06.94-2.06 2.06-.94-2.06-.94-.94-2.06-.94 2.06-2.06.94zm-11 1L8.5 8.5l.94-2.06 2.06-.94-2.06-.94L8.5 2.5l-.94 2.06-2.06.94zm10 10l.94 2.06.94-2.06 2.06-.94-2.06-.94-.94-2.06-.94 2.06-2.06.94z\"/><path d=\"M17.41 7.96l-1.37-1.37c-.4-.4-.92-.59-1.43-.59-.52 0-1.04.2-1.43.59L10.3 9.45l-7.72 7.72c-.78.78-.78 2.05 0 2.83L4 21.41c.39.39.9.59 1.41.59.51 0 1.02-.2 1.41-.59l7.78-7.78 2.81-2.81c.8-.78.8-2.07 0-2.86zM5.41 20L4 18.59l7.72-7.72 1.47 1.35L5.41 20z\"/>\n",
              "  </svg>\n",
              "      </button>\n",
              "      \n",
              "  <style>\n",
              "    .colab-df-container {\n",
              "      display:flex;\n",
              "      flex-wrap:wrap;\n",
              "      gap: 12px;\n",
              "    }\n",
              "\n",
              "    .colab-df-convert {\n",
              "      background-color: #E8F0FE;\n",
              "      border: none;\n",
              "      border-radius: 50%;\n",
              "      cursor: pointer;\n",
              "      display: none;\n",
              "      fill: #1967D2;\n",
              "      height: 32px;\n",
              "      padding: 0 0 0 0;\n",
              "      width: 32px;\n",
              "    }\n",
              "\n",
              "    .colab-df-convert:hover {\n",
              "      background-color: #E2EBFA;\n",
              "      box-shadow: 0px 1px 2px rgba(60, 64, 67, 0.3), 0px 1px 3px 1px rgba(60, 64, 67, 0.15);\n",
              "      fill: #174EA6;\n",
              "    }\n",
              "\n",
              "    [theme=dark] .colab-df-convert {\n",
              "      background-color: #3B4455;\n",
              "      fill: #D2E3FC;\n",
              "    }\n",
              "\n",
              "    [theme=dark] .colab-df-convert:hover {\n",
              "      background-color: #434B5C;\n",
              "      box-shadow: 0px 1px 3px 1px rgba(0, 0, 0, 0.15);\n",
              "      filter: drop-shadow(0px 1px 2px rgba(0, 0, 0, 0.3));\n",
              "      fill: #FFFFFF;\n",
              "    }\n",
              "  </style>\n",
              "\n",
              "      <script>\n",
              "        const buttonEl =\n",
              "          document.querySelector('#df-08425f0c-9f3e-41d8-aa92-a178d4ead0c3 button.colab-df-convert');\n",
              "        buttonEl.style.display =\n",
              "          google.colab.kernel.accessAllowed ? 'block' : 'none';\n",
              "\n",
              "        async function convertToInteractive(key) {\n",
              "          const element = document.querySelector('#df-08425f0c-9f3e-41d8-aa92-a178d4ead0c3');\n",
              "          const dataTable =\n",
              "            await google.colab.kernel.invokeFunction('convertToInteractive',\n",
              "                                                     [key], {});\n",
              "          if (!dataTable) return;\n",
              "\n",
              "          const docLinkHtml = 'Like what you see? Visit the ' +\n",
              "            '<a target=\"_blank\" href=https://colab.research.google.com/notebooks/data_table.ipynb>data table notebook</a>'\n",
              "            + ' to learn more about interactive tables.';\n",
              "          element.innerHTML = '';\n",
              "          dataTable['output_type'] = 'display_data';\n",
              "          await google.colab.output.renderOutput(dataTable, element);\n",
              "          const docLink = document.createElement('div');\n",
              "          docLink.innerHTML = docLinkHtml;\n",
              "          element.appendChild(docLink);\n",
              "        }\n",
              "      </script>\n",
              "    </div>\n",
              "  </div>\n",
              "  "
            ]
          },
          "metadata": {},
          "execution_count": 37
        }
      ]
    },
    {
      "cell_type": "code",
      "source": [
        "# начальная и конечная даты наблюдений\n",
        "payments['transaction_created_at'].agg(['min', 'max'])"
      ],
      "metadata": {
        "colab": {
          "base_uri": "https://localhost:8080/"
        },
        "id": "_iPNnQt1YygT",
        "outputId": "65f94542-0769-4746-a082-ede8e4a2e534"
      },
      "execution_count": 40,
      "outputs": [
        {
          "output_type": "execute_result",
          "data": {
            "text/plain": [
              "min   2021-05-15\n",
              "max   2022-03-15\n",
              "Name: transaction_created_at, dtype: datetime64[ns]"
            ]
          },
          "metadata": {},
          "execution_count": 40
        }
      ]
    },
    {
      "cell_type": "code",
      "source": [
        "# проверка наличия дубликатов\n",
        "payments.drop_duplicates().shape"
      ],
      "metadata": {
        "colab": {
          "base_uri": "https://localhost:8080/"
        },
        "id": "5UZ2yip8YRWM",
        "outputId": "8f871258-a086-4e89-dfc0-2801e8093e8b"
      },
      "execution_count": 38,
      "outputs": [
        {
          "output_type": "execute_result",
          "data": {
            "text/plain": [
              "(69803, 7)"
            ]
          },
          "metadata": {},
          "execution_count": 38
        }
      ]
    },
    {
      "cell_type": "code",
      "source": [
        "# проверка наличия пропущенных значений\n",
        "payments.info()"
      ],
      "metadata": {
        "colab": {
          "base_uri": "https://localhost:8080/"
        },
        "id": "X6O4bvVdYXEs",
        "outputId": "80c24363-4310-4726-e2b3-1692969e5408"
      },
      "execution_count": 39,
      "outputs": [
        {
          "output_type": "stream",
          "name": "stdout",
          "text": [
            "<class 'pandas.core.frame.DataFrame'>\n",
            "RangeIndex: 69803 entries, 0 to 69802\n",
            "Data columns (total 7 columns):\n",
            " #   Column                  Non-Null Count  Dtype         \n",
            "---  ------                  --------------  -----         \n",
            " 0   pk                      69803 non-null  object        \n",
            " 1   transaction_id          69803 non-null  object        \n",
            " 2   transaction_created_at  69803 non-null  datetime64[ns]\n",
            " 3   _user_id                69803 non-null  object        \n",
            " 4   currency                69803 non-null  object        \n",
            " 5   amount                  69803 non-null  object        \n",
            " 6   is_gift                 69803 non-null  object        \n",
            "dtypes: datetime64[ns](1), object(6)\n",
            "memory usage: 3.7+ MB\n"
          ]
        }
      ]
    },
    {
      "cell_type": "code",
      "source": [
        "# распределение по валютам, используемым для оплаты\n",
        "payments.currency.value_counts()"
      ],
      "metadata": {
        "colab": {
          "base_uri": "https://localhost:8080/"
        },
        "id": "NglYjgPYJrFN",
        "outputId": "f0648726-8385-4108-8a9b-cd1d02a247ec"
      },
      "execution_count": null,
      "outputs": [
        {
          "output_type": "execute_result",
          "data": {
            "text/plain": [
              "RUB    61882\n",
              "EUR     5220\n",
              "USD     2142\n",
              "PLN      447\n",
              "GBP       30\n",
              "UAH       25\n",
              "KRW       21\n",
              "CLP       18\n",
              "PEN        8\n",
              "JPY        7\n",
              "MXN        2\n",
              "UYU        1\n",
              "Name: currency, dtype: int64"
            ]
          },
          "metadata": {},
          "execution_count": 15
        }
      ]
    },
    {
      "cell_type": "markdown",
      "source": [
        "Валюты CLP, PEN, MXN, UYU отсутствуют в библиотеке `pycbrf`. Количество транзакций с использованием этих валют невелико, поэтому будем использовать среднегодовые курсы этих валют, чтобы перевести значение колонки `amount` в рубли.\n",
        "\n",
        "Для всех остальных валют будем использовать курс ЦБ РФ на время проведения транзакций для перевода в рубли."
      ],
      "metadata": {
        "id": "ujzQZkeuYh8F"
      }
    },
    {
      "cell_type": "code",
      "source": [
        "def currency_dates_df(inp_currency):\n",
        "\n",
        "  '''\n",
        "  Перевод курсов валют в рубли на момент проведения транзакции\n",
        "  '''\n",
        "\n",
        "  df_dates = payments[payments.currency == inp_currency].transaction_created_at.dt.normalize().unique()\n",
        "  df = pd.DataFrame({'transaction_date': df_dates})\n",
        "  df['currency'] = inp_currency\n",
        "  df['exchange_rate'] = df.transaction_date.apply(lambda x: float(ExchangeRates(x, locale_en=True)[inp_currency].value))\n",
        "  return df"
      ],
      "metadata": {
        "id": "Vs7eFR2Nrc1c"
      },
      "execution_count": null,
      "outputs": []
    },
    {
      "cell_type": "code",
      "source": [
        "# функция currency_dates_df работает медленно\n",
        "# поэтому запустим ее один раз и результат сохраним в csv\n",
        "# чтобы в последующем не требовалось запускать функцию снова\n",
        "\n",
        "concat_df = pd.DataFrame()\n",
        "\n",
        "for currency in ['EUR', 'GBP', 'PLN', 'USD', 'JPY', 'KRW', 'UAH']:\n",
        "  tmp_df = currency_dates_df(currency)\n",
        "  concat_df = pd.concat([concat_df, tmp_df])\n",
        "concat_df.shape"
      ],
      "metadata": {
        "colab": {
          "base_uri": "https://localhost:8080/"
        },
        "id": "_gvmoigTt7BA",
        "outputId": "cab04377-a590-463d-d0e8-004c585cfbe9"
      },
      "execution_count": null,
      "outputs": [
        {
          "output_type": "execute_result",
          "data": {
            "text/plain": [
              "(623, 3)"
            ]
          },
          "metadata": {},
          "execution_count": 258
        }
      ]
    },
    {
      "cell_type": "code",
      "source": [
        "concat_df.head(3)"
      ],
      "metadata": {
        "colab": {
          "base_uri": "https://localhost:8080/",
          "height": 143
        },
        "id": "E79PogXtxR_A",
        "outputId": "eb17ee58-705a-4119-9b05-2b5559a33e47"
      },
      "execution_count": 27,
      "outputs": [
        {
          "output_type": "execute_result",
          "data": {
            "text/plain": [
              "  transaction_date currency  exchange_rate\n",
              "0       2021-05-18      EUR        89.6584\n",
              "1       2021-05-19      EUR        89.9057\n",
              "2       2021-05-20      EUR        90.1006"
            ],
            "text/html": [
              "\n",
              "  <div id=\"df-c62005bf-3595-4f41-bbbf-3e5334669359\">\n",
              "    <div class=\"colab-df-container\">\n",
              "      <div>\n",
              "<style scoped>\n",
              "    .dataframe tbody tr th:only-of-type {\n",
              "        vertical-align: middle;\n",
              "    }\n",
              "\n",
              "    .dataframe tbody tr th {\n",
              "        vertical-align: top;\n",
              "    }\n",
              "\n",
              "    .dataframe thead th {\n",
              "        text-align: right;\n",
              "    }\n",
              "</style>\n",
              "<table border=\"1\" class=\"dataframe\">\n",
              "  <thead>\n",
              "    <tr style=\"text-align: right;\">\n",
              "      <th></th>\n",
              "      <th>transaction_date</th>\n",
              "      <th>currency</th>\n",
              "      <th>exchange_rate</th>\n",
              "    </tr>\n",
              "  </thead>\n",
              "  <tbody>\n",
              "    <tr>\n",
              "      <th>0</th>\n",
              "      <td>2021-05-18</td>\n",
              "      <td>EUR</td>\n",
              "      <td>89.6584</td>\n",
              "    </tr>\n",
              "    <tr>\n",
              "      <th>1</th>\n",
              "      <td>2021-05-19</td>\n",
              "      <td>EUR</td>\n",
              "      <td>89.9057</td>\n",
              "    </tr>\n",
              "    <tr>\n",
              "      <th>2</th>\n",
              "      <td>2021-05-20</td>\n",
              "      <td>EUR</td>\n",
              "      <td>90.1006</td>\n",
              "    </tr>\n",
              "  </tbody>\n",
              "</table>\n",
              "</div>\n",
              "      <button class=\"colab-df-convert\" onclick=\"convertToInteractive('df-c62005bf-3595-4f41-bbbf-3e5334669359')\"\n",
              "              title=\"Convert this dataframe to an interactive table.\"\n",
              "              style=\"display:none;\">\n",
              "        \n",
              "  <svg xmlns=\"http://www.w3.org/2000/svg\" height=\"24px\"viewBox=\"0 0 24 24\"\n",
              "       width=\"24px\">\n",
              "    <path d=\"M0 0h24v24H0V0z\" fill=\"none\"/>\n",
              "    <path d=\"M18.56 5.44l.94 2.06.94-2.06 2.06-.94-2.06-.94-.94-2.06-.94 2.06-2.06.94zm-11 1L8.5 8.5l.94-2.06 2.06-.94-2.06-.94L8.5 2.5l-.94 2.06-2.06.94zm10 10l.94 2.06.94-2.06 2.06-.94-2.06-.94-.94-2.06-.94 2.06-2.06.94z\"/><path d=\"M17.41 7.96l-1.37-1.37c-.4-.4-.92-.59-1.43-.59-.52 0-1.04.2-1.43.59L10.3 9.45l-7.72 7.72c-.78.78-.78 2.05 0 2.83L4 21.41c.39.39.9.59 1.41.59.51 0 1.02-.2 1.41-.59l7.78-7.78 2.81-2.81c.8-.78.8-2.07 0-2.86zM5.41 20L4 18.59l7.72-7.72 1.47 1.35L5.41 20z\"/>\n",
              "  </svg>\n",
              "      </button>\n",
              "      \n",
              "  <style>\n",
              "    .colab-df-container {\n",
              "      display:flex;\n",
              "      flex-wrap:wrap;\n",
              "      gap: 12px;\n",
              "    }\n",
              "\n",
              "    .colab-df-convert {\n",
              "      background-color: #E8F0FE;\n",
              "      border: none;\n",
              "      border-radius: 50%;\n",
              "      cursor: pointer;\n",
              "      display: none;\n",
              "      fill: #1967D2;\n",
              "      height: 32px;\n",
              "      padding: 0 0 0 0;\n",
              "      width: 32px;\n",
              "    }\n",
              "\n",
              "    .colab-df-convert:hover {\n",
              "      background-color: #E2EBFA;\n",
              "      box-shadow: 0px 1px 2px rgba(60, 64, 67, 0.3), 0px 1px 3px 1px rgba(60, 64, 67, 0.15);\n",
              "      fill: #174EA6;\n",
              "    }\n",
              "\n",
              "    [theme=dark] .colab-df-convert {\n",
              "      background-color: #3B4455;\n",
              "      fill: #D2E3FC;\n",
              "    }\n",
              "\n",
              "    [theme=dark] .colab-df-convert:hover {\n",
              "      background-color: #434B5C;\n",
              "      box-shadow: 0px 1px 3px 1px rgba(0, 0, 0, 0.15);\n",
              "      filter: drop-shadow(0px 1px 2px rgba(0, 0, 0, 0.3));\n",
              "      fill: #FFFFFF;\n",
              "    }\n",
              "  </style>\n",
              "\n",
              "      <script>\n",
              "        const buttonEl =\n",
              "          document.querySelector('#df-c62005bf-3595-4f41-bbbf-3e5334669359 button.colab-df-convert');\n",
              "        buttonEl.style.display =\n",
              "          google.colab.kernel.accessAllowed ? 'block' : 'none';\n",
              "\n",
              "        async function convertToInteractive(key) {\n",
              "          const element = document.querySelector('#df-c62005bf-3595-4f41-bbbf-3e5334669359');\n",
              "          const dataTable =\n",
              "            await google.colab.kernel.invokeFunction('convertToInteractive',\n",
              "                                                     [key], {});\n",
              "          if (!dataTable) return;\n",
              "\n",
              "          const docLinkHtml = 'Like what you see? Visit the ' +\n",
              "            '<a target=\"_blank\" href=https://colab.research.google.com/notebooks/data_table.ipynb>data table notebook</a>'\n",
              "            + ' to learn more about interactive tables.';\n",
              "          element.innerHTML = '';\n",
              "          dataTable['output_type'] = 'display_data';\n",
              "          await google.colab.output.renderOutput(dataTable, element);\n",
              "          const docLink = document.createElement('div');\n",
              "          docLink.innerHTML = docLinkHtml;\n",
              "          element.appendChild(docLink);\n",
              "        }\n",
              "      </script>\n",
              "    </div>\n",
              "  </div>\n",
              "  "
            ]
          },
          "metadata": {},
          "execution_count": 27
        }
      ]
    },
    {
      "cell_type": "code",
      "source": [
        "concat_df.to_csv('/content/drive/MyDrive/Colab Notebooks/career_factory/careerfactory_2022_1/concat_df.csv', index=False)"
      ],
      "metadata": {
        "id": "HVelAS5Xuwvz"
      },
      "execution_count": null,
      "outputs": []
    },
    {
      "cell_type": "code",
      "source": [
        "concat_df = pd.read_csv('/content/drive/MyDrive/Colab Notebooks/career_factory/careerfactory_2022_1/concat_df.csv', parse_dates = ['transaction_date'])\n",
        "concat_df.shape"
      ],
      "metadata": {
        "colab": {
          "base_uri": "https://localhost:8080/"
        },
        "id": "DfVQ6ut3ZR4o",
        "outputId": "8b7fd4b9-d15f-49da-d37a-de3d7f70c0fe"
      },
      "execution_count": 41,
      "outputs": [
        {
          "output_type": "execute_result",
          "data": {
            "text/plain": [
              "(623, 3)"
            ]
          },
          "metadata": {},
          "execution_count": 41
        }
      ]
    },
    {
      "cell_type": "code",
      "source": [
        "def exchange_rate_function(arr):\n",
        "\n",
        "  '''\n",
        "  Добавление курса валюты в датафрейм на момент проведения транзакции\n",
        "  '''\n",
        "\n",
        "  currency = arr[0]\n",
        "  date = arr[1]\n",
        "\n",
        "  # среднегодовые курсы валют, которые отсутствуют в pycbrf\n",
        "  cur_dict = {\n",
        "      'CLP': {2021 : 0.09734, 2022: 0.1150},\n",
        "      'PEN': {2021 : 19.039, 2022: 24.452},\n",
        "      'MXN': {2021 : 3.6347, 2022: 4.5174},\n",
        "      'UYU': {2021 : 1.6923, 2022: 2.1462}\n",
        "  }\n",
        "\n",
        "  if currency in concat_df.currency.unique():\n",
        "    return concat_df[(concat_df['transaction_date'] == date) & (concat_df['currency'] == currency)].iloc[0, 2]\n",
        "  elif currency in cur_dict.keys():\n",
        "    return cur_dict[currency][date.year]\n",
        "  elif currency == 'RUB':\n",
        "    return 1\n",
        "\n",
        "  return 'unknown_currency'"
      ],
      "metadata": {
        "id": "0CIhUCaqlnMH"
      },
      "execution_count": 42,
      "outputs": []
    },
    {
      "cell_type": "code",
      "source": [
        "# добавляем колонку exchange_rate - курс валюты на момент проведения транзакции\n",
        "payments['exchange_rate'] = payments[['currency', 'transaction_created_at']].apply(exchange_rate_function, axis=1)  # [payments.currency == 'PEN']"
      ],
      "metadata": {
        "id": "dq7jdIk8nw4b"
      },
      "execution_count": 45,
      "outputs": []
    },
    {
      "cell_type": "code",
      "source": [
        "# перевод формата колонки в float\n",
        "payments['amount'] = payments['amount'].astype(float)\n",
        "\n",
        "# добавляем колонку amount_rub - размер транзакции в рублях\n",
        "payments['amount_rub'] = np.round(payments.amount * payments.exchange_rate, 2)"
      ],
      "metadata": {
        "id": "DpJe84-UbgYF"
      },
      "execution_count": 50,
      "outputs": []
    },
    {
      "cell_type": "code",
      "source": [
        "payments.head()"
      ],
      "metadata": {
        "colab": {
          "base_uri": "https://localhost:8080/",
          "height": 206
        },
        "id": "2Z9_Rbvhb5Xe",
        "outputId": "b7a2318e-e71a-4c63-bedf-2b8169b95304"
      },
      "execution_count": 51,
      "outputs": [
        {
          "output_type": "execute_result",
          "data": {
            "text/plain": [
              "  pk transaction_id transaction_created_at  _user_id currency   amount  \\\n",
              "0  0        3807046             2021-05-16  12242732      RUB    390.0   \n",
              "1  1        3807613             2021-05-16  12241834      RUB   7980.0   \n",
              "2  2        3807673             2021-05-16  12241501      RUB  24880.0   \n",
              "3  3        3810405             2021-05-17  12242141      RUB   8520.0   \n",
              "4  4        3811432             2021-05-17  12251367      RUB  14360.0   \n",
              "\n",
              "  is_gift  exchange_rate  amount_rub  \n",
              "0   false            1.0       390.0  \n",
              "1   false            1.0      7980.0  \n",
              "2   false            1.0     24880.0  \n",
              "3   false            1.0      8520.0  \n",
              "4   false            1.0     14360.0  "
            ],
            "text/html": [
              "\n",
              "  <div id=\"df-845c82da-2d77-42a5-a611-09c6b45b4431\">\n",
              "    <div class=\"colab-df-container\">\n",
              "      <div>\n",
              "<style scoped>\n",
              "    .dataframe tbody tr th:only-of-type {\n",
              "        vertical-align: middle;\n",
              "    }\n",
              "\n",
              "    .dataframe tbody tr th {\n",
              "        vertical-align: top;\n",
              "    }\n",
              "\n",
              "    .dataframe thead th {\n",
              "        text-align: right;\n",
              "    }\n",
              "</style>\n",
              "<table border=\"1\" class=\"dataframe\">\n",
              "  <thead>\n",
              "    <tr style=\"text-align: right;\">\n",
              "      <th></th>\n",
              "      <th>pk</th>\n",
              "      <th>transaction_id</th>\n",
              "      <th>transaction_created_at</th>\n",
              "      <th>_user_id</th>\n",
              "      <th>currency</th>\n",
              "      <th>amount</th>\n",
              "      <th>is_gift</th>\n",
              "      <th>exchange_rate</th>\n",
              "      <th>amount_rub</th>\n",
              "    </tr>\n",
              "  </thead>\n",
              "  <tbody>\n",
              "    <tr>\n",
              "      <th>0</th>\n",
              "      <td>0</td>\n",
              "      <td>3807046</td>\n",
              "      <td>2021-05-16</td>\n",
              "      <td>12242732</td>\n",
              "      <td>RUB</td>\n",
              "      <td>390.0</td>\n",
              "      <td>false</td>\n",
              "      <td>1.0</td>\n",
              "      <td>390.0</td>\n",
              "    </tr>\n",
              "    <tr>\n",
              "      <th>1</th>\n",
              "      <td>1</td>\n",
              "      <td>3807613</td>\n",
              "      <td>2021-05-16</td>\n",
              "      <td>12241834</td>\n",
              "      <td>RUB</td>\n",
              "      <td>7980.0</td>\n",
              "      <td>false</td>\n",
              "      <td>1.0</td>\n",
              "      <td>7980.0</td>\n",
              "    </tr>\n",
              "    <tr>\n",
              "      <th>2</th>\n",
              "      <td>2</td>\n",
              "      <td>3807673</td>\n",
              "      <td>2021-05-16</td>\n",
              "      <td>12241501</td>\n",
              "      <td>RUB</td>\n",
              "      <td>24880.0</td>\n",
              "      <td>false</td>\n",
              "      <td>1.0</td>\n",
              "      <td>24880.0</td>\n",
              "    </tr>\n",
              "    <tr>\n",
              "      <th>3</th>\n",
              "      <td>3</td>\n",
              "      <td>3810405</td>\n",
              "      <td>2021-05-17</td>\n",
              "      <td>12242141</td>\n",
              "      <td>RUB</td>\n",
              "      <td>8520.0</td>\n",
              "      <td>false</td>\n",
              "      <td>1.0</td>\n",
              "      <td>8520.0</td>\n",
              "    </tr>\n",
              "    <tr>\n",
              "      <th>4</th>\n",
              "      <td>4</td>\n",
              "      <td>3811432</td>\n",
              "      <td>2021-05-17</td>\n",
              "      <td>12251367</td>\n",
              "      <td>RUB</td>\n",
              "      <td>14360.0</td>\n",
              "      <td>false</td>\n",
              "      <td>1.0</td>\n",
              "      <td>14360.0</td>\n",
              "    </tr>\n",
              "  </tbody>\n",
              "</table>\n",
              "</div>\n",
              "      <button class=\"colab-df-convert\" onclick=\"convertToInteractive('df-845c82da-2d77-42a5-a611-09c6b45b4431')\"\n",
              "              title=\"Convert this dataframe to an interactive table.\"\n",
              "              style=\"display:none;\">\n",
              "        \n",
              "  <svg xmlns=\"http://www.w3.org/2000/svg\" height=\"24px\"viewBox=\"0 0 24 24\"\n",
              "       width=\"24px\">\n",
              "    <path d=\"M0 0h24v24H0V0z\" fill=\"none\"/>\n",
              "    <path d=\"M18.56 5.44l.94 2.06.94-2.06 2.06-.94-2.06-.94-.94-2.06-.94 2.06-2.06.94zm-11 1L8.5 8.5l.94-2.06 2.06-.94-2.06-.94L8.5 2.5l-.94 2.06-2.06.94zm10 10l.94 2.06.94-2.06 2.06-.94-2.06-.94-.94-2.06-.94 2.06-2.06.94z\"/><path d=\"M17.41 7.96l-1.37-1.37c-.4-.4-.92-.59-1.43-.59-.52 0-1.04.2-1.43.59L10.3 9.45l-7.72 7.72c-.78.78-.78 2.05 0 2.83L4 21.41c.39.39.9.59 1.41.59.51 0 1.02-.2 1.41-.59l7.78-7.78 2.81-2.81c.8-.78.8-2.07 0-2.86zM5.41 20L4 18.59l7.72-7.72 1.47 1.35L5.41 20z\"/>\n",
              "  </svg>\n",
              "      </button>\n",
              "      \n",
              "  <style>\n",
              "    .colab-df-container {\n",
              "      display:flex;\n",
              "      flex-wrap:wrap;\n",
              "      gap: 12px;\n",
              "    }\n",
              "\n",
              "    .colab-df-convert {\n",
              "      background-color: #E8F0FE;\n",
              "      border: none;\n",
              "      border-radius: 50%;\n",
              "      cursor: pointer;\n",
              "      display: none;\n",
              "      fill: #1967D2;\n",
              "      height: 32px;\n",
              "      padding: 0 0 0 0;\n",
              "      width: 32px;\n",
              "    }\n",
              "\n",
              "    .colab-df-convert:hover {\n",
              "      background-color: #E2EBFA;\n",
              "      box-shadow: 0px 1px 2px rgba(60, 64, 67, 0.3), 0px 1px 3px 1px rgba(60, 64, 67, 0.15);\n",
              "      fill: #174EA6;\n",
              "    }\n",
              "\n",
              "    [theme=dark] .colab-df-convert {\n",
              "      background-color: #3B4455;\n",
              "      fill: #D2E3FC;\n",
              "    }\n",
              "\n",
              "    [theme=dark] .colab-df-convert:hover {\n",
              "      background-color: #434B5C;\n",
              "      box-shadow: 0px 1px 3px 1px rgba(0, 0, 0, 0.15);\n",
              "      filter: drop-shadow(0px 1px 2px rgba(0, 0, 0, 0.3));\n",
              "      fill: #FFFFFF;\n",
              "    }\n",
              "  </style>\n",
              "\n",
              "      <script>\n",
              "        const buttonEl =\n",
              "          document.querySelector('#df-845c82da-2d77-42a5-a611-09c6b45b4431 button.colab-df-convert');\n",
              "        buttonEl.style.display =\n",
              "          google.colab.kernel.accessAllowed ? 'block' : 'none';\n",
              "\n",
              "        async function convertToInteractive(key) {\n",
              "          const element = document.querySelector('#df-845c82da-2d77-42a5-a611-09c6b45b4431');\n",
              "          const dataTable =\n",
              "            await google.colab.kernel.invokeFunction('convertToInteractive',\n",
              "                                                     [key], {});\n",
              "          if (!dataTable) return;\n",
              "\n",
              "          const docLinkHtml = 'Like what you see? Visit the ' +\n",
              "            '<a target=\"_blank\" href=https://colab.research.google.com/notebooks/data_table.ipynb>data table notebook</a>'\n",
              "            + ' to learn more about interactive tables.';\n",
              "          element.innerHTML = '';\n",
              "          dataTable['output_type'] = 'display_data';\n",
              "          await google.colab.output.renderOutput(dataTable, element);\n",
              "          const docLink = document.createElement('div');\n",
              "          docLink.innerHTML = docLinkHtml;\n",
              "          element.appendChild(docLink);\n",
              "        }\n",
              "      </script>\n",
              "    </div>\n",
              "  </div>\n",
              "  "
            ]
          },
          "metadata": {},
          "execution_count": 51
        }
      ]
    },
    {
      "cell_type": "markdown",
      "source": [
        "Теперь в датафрейме есть колонка с размеров транзакции в рублях."
      ],
      "metadata": {
        "id": "vbUNt2r5bIE7"
      }
    },
    {
      "cell_type": "markdown",
      "source": [
        "### Выбор метрик"
      ],
      "metadata": {
        "id": "I1HuySLTN0AJ"
      }
    },
    {
      "cell_type": "markdown",
      "source": [
        "Нам нужны ежедневные метрики, поэтому выберем те, которые позволят отображать состояние продукта на текущий день:\n",
        "\n",
        "1. **Дневная выручка** - смотрим как распределяется выручка за последние 7 дней, сравниваем ее с выручкой за аналогичные дни прошлой недели и со средней выручкой за аналогичные дни последних четырех недель. В таблице `payments` показатели выручки представлены в разной валюте, поэтому еще потребуется перевести все показатели в рубли.\n",
        "\n",
        "2. **Новые пользователи** - смотрим какое количество новых пользователей мы привлекаем за последние 7 дней, сравниваем с количеством новых пользователей за аналогичные дни прошлой недели и со средним количеством новых пользователей за аналогичные дни последних четырех дней.\n",
        "\n",
        "3. **Статусы новых пользователей за последние 28 дней** - смотрим как новые пользователи проходят по этапам CJM."
      ],
      "metadata": {
        "id": "TkKSh1VQN2Ib"
      }
    },
    {
      "cell_type": "markdown",
      "source": [
        "### Метрика 1: Дневная выручка"
      ],
      "metadata": {
        "id": "4TLqWgxbxE98"
      }
    },
    {
      "cell_type": "code",
      "source": [
        "# команда для возможности создания повторного SQL запроса при ошибке\n",
        "# cursor.execute(\"ROLLBACK\")"
      ],
      "metadata": {
        "id": "OIZWXa_iuTmW"
      },
      "execution_count": null,
      "outputs": []
    },
    {
      "cell_type": "code",
      "source": [
        "def telegram_revenue():\n",
        "\n",
        "  '''\n",
        "  Расчет дневной выручки по дням:\n",
        "  last_week_revenue - дневная выручка за последние 7 дней (в рублях)\n",
        "  previous_week_revenue - дневная выручка за аналогичные дни прошлой недели\n",
        "  last_month_revenue - средняя дневная выручка за аналогичные дни последних четырех недель\n",
        "  '''\n",
        "\n",
        "  # SQL запрос к БД:\n",
        "  # берем данные за последние 28 дней\n",
        "  # с группировкой по дате и типе валюты\n",
        "  query = \"\"\"\n",
        "          SELECT\n",
        "            TO_DATE(transaction_created_at, 'YYYY-MM-DD') AS transaction_date,\n",
        "            currency,\n",
        "            SUM(CAST(amount AS FLOAT)) AS amount\n",
        "          FROM payments\n",
        "          WHERE\n",
        "            TO_DATE(transaction_created_at, 'YYYY-MM-DD') >= (SELECT TO_DATE(MAX(transaction_created_at), 'YYYY-MM-DD') FROM payments) - interval '27 days'\n",
        "          GROUP BY\n",
        "            TO_DATE(transaction_created_at, 'YYYY-MM-DD'),\n",
        "            currency\n",
        "          \"\"\"\n",
        "\n",
        "  cursor.execute(query)       # делаем запрос\n",
        "  result = cursor.fetchall()  # запрашиваем все строки, получаем результат в виде списка кортежей\n",
        "\n",
        "  columns = [desc[0] for desc in cursor.description]  # названия колонок возьмем из первого элемента cursor.description\n",
        "\n",
        "  group_payments = pd.DataFrame(result, columns=columns)  # из списка кортежей сделаем датафрейм\n",
        "  # перевод transaction_date в формат даты\n",
        "  group_payments['transaction_date'] = pd.to_datetime(group_payments['transaction_date'], format='%Y-%m-%d')\n",
        "\n",
        "  currency_list = group_payments.currency.unique()  # список валют в датафрейме\n",
        "\n",
        "  def exchange_rate(arr):\n",
        "    # !pip install pycbrf\n",
        "    # from pycbrf import ExchangeRates, Banks\n",
        "    '''\n",
        "    Перевод иностранной валюты в рубли\n",
        "    '''\n",
        "\n",
        "    transaction_date = arr[0]\n",
        "    transaction_currency = arr[1]\n",
        "    transaction_amount = arr[2]\n",
        "\n",
        "    # средние курсы за год для валют, которые отсутствуют\n",
        "    # в библиотеке pycbrf\n",
        "    cur_dict = {\n",
        "        'CLP': {2021 : 0.09734, 2022: 0.1150},\n",
        "        'PEN': {2021 : 19.039, 2022: 24.452},\n",
        "        'MXN': {2021 : 3.6347, 2022: 4.5174},\n",
        "        'UYU': {2021 : 1.6923, 2022: 2.1462}\n",
        "    }\n",
        "\n",
        "    if transaction_currency == 'RUB':\n",
        "      return transaction_amount\n",
        "    elif transaction_currency in cur_dict.keys():\n",
        "      return round(transaction_amount * cur_dict[transaction_currency][transaction_date.year], 2)\n",
        "    elif transaction_currency in currency_list:\n",
        "      rates = ExchangeRates(transaction_date, locale_en=True)\n",
        "      return round(transaction_amount * float(rates[transaction_currency].value), 2)\n",
        "    return 'error_unknown_currency'\n",
        "\n",
        "  # сохраняем сумму транзакции в рублях в колонке amount_rub\n",
        "  group_payments['amount_rub'] = group_payments[['transaction_date', 'currency', 'amount']].apply(exchange_rate, axis=1)\n",
        "\n",
        "  # выручка за текущую (последнюю) неделю\n",
        "  last_week = group_payments.transaction_date.max() + pd.DateOffset(-6)\n",
        "  last_week_df = group_payments[group_payments.transaction_date >= last_week]\n",
        "  group_last_week = last_week_df.groupby(['transaction_date'], as_index=False).agg({'amount_rub': 'sum'}).rename(columns={'amount_rub': 'last_week_revenue'})\n",
        "  group_last_week['dow'] = group_last_week['transaction_date'].dt.day_name()  # создаем колонку с днем недели для последующего merge\n",
        "\n",
        "  # выручка за предыдущую неделю\n",
        "  previous_week = group_payments.transaction_date.max() + pd.DateOffset(-13)\n",
        "  previous_week_df = group_payments[(group_payments.transaction_date >= previous_week) & (group_payments.transaction_date < last_week)]\n",
        "  group_previous_week = previous_week_df.groupby(['transaction_date'], as_index=False).agg({'amount_rub': 'sum'}).rename(columns={'amount_rub': 'previous_week_revenue'})\n",
        "  group_previous_week['dow'] = group_previous_week['transaction_date'].dt.day_name() # создаем колонку с днем недели для последующего merge'\n",
        "\n",
        "  # средняя дневная выручка за последние 4 недели\n",
        "  # last_month = group_payments[group_payments['transaction_date'] >= group_payments.transaction_date.max() + pd.DateOffset(-27)].copy(deep=True)\n",
        "  group_payments['dow'] = group_payments['transaction_date'].dt.day_name()\n",
        "  group_last_month = group_payments.groupby(['dow'], as_index=False).agg({'amount_rub': 'sum'})\n",
        "  group_last_month['last_month_revenue'] = np.round(group_last_month['amount_rub'] / 4, 2)  # делим сумму выручки на количество недель (4)\n",
        "  group_last_month = group_last_month.drop(columns=['amount_rub'])\n",
        "\n",
        "  # объединяем созданные датафреймы\n",
        "  df = group_last_week.merge(group_previous_week[['dow', 'previous_week_revenue']], on='dow', how='left').merge(group_last_month, on='dow', how='left')\n",
        "\n",
        "  # перевод колонки transaction_date в формат string (для создания heatmap)\n",
        "  df['transaction_date_str'] = df['transaction_date'].dt.strftime('%Y-%m-%d')\n",
        "\n",
        "  # удаляем лишние колонки\n",
        "  df = df.loc[:, ['transaction_date_str', 'last_week_revenue', 'previous_week_revenue', 'last_month_revenue']]\n",
        "  # установка колонки transaction_date_str в качестве индекса\n",
        "  df = df.set_index(['transaction_date_str'])\n",
        "\n",
        "  # создаем heatmap\n",
        "  plt.subplots(figsize=(12, 6))\n",
        "  ax = sns.heatmap(df, annot=True, fmt='.2f', cmap=\"Blues\")\n",
        "  ax.set_title('Дневная выручка', fontsize=24)\n",
        "  plt.savefig('viz.png')  # сохраняем диаграмму в файл\n",
        "\n",
        "  photo = open('viz.png', 'rb')\n",
        "  return bot.send_photo(user_id, photo)  # отправляем диаграмму юзеру"
      ],
      "metadata": {
        "id": "8QJYoZtktHBH"
      },
      "execution_count": 52,
      "outputs": []
    },
    {
      "cell_type": "markdown",
      "source": [
        "![image.png](data:image/png;base64,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)"
      ],
      "metadata": {
        "id": "Q9X_BwWWbcA_"
      }
    },
    {
      "cell_type": "markdown",
      "source": [
        "### Метрика 2: Новые пользователи"
      ],
      "metadata": {
        "id": "QHDGuSy4GAbu"
      }
    },
    {
      "cell_type": "code",
      "source": [
        "# команда для возможности создания повторного SQL запроса при ошибке\n",
        "# cursor.execute(\"ROLLBACK\")"
      ],
      "metadata": {
        "id": "VqVjQ3OkaJjk"
      },
      "execution_count": null,
      "outputs": []
    },
    {
      "cell_type": "code",
      "source": [
        "def telegram_new_users():\n",
        "  \n",
        "  '''\n",
        "  Расчет количества новых пользователей по дням:\n",
        "  last_week_users - количество новых пользователей за последние 7 дней\n",
        "  previous_week_users - количество новых пользователей за аналогичные дни прошлой недели\n",
        "  mean_new_users - среднее количество новых пользователей за аналогичные дни последнего месяца\n",
        "  '''\n",
        "\n",
        "  # SQL запрос к БД:\n",
        "  # находим максимальную дату наблюдений\n",
        "  query = \"\"\"\n",
        "          SELECT max_date\n",
        "          FROM\n",
        "            (SELECT TO_DATE(MAX(happened_at), 'YYYY-MM-DD') AS max_date FROM events\n",
        "            UNION\n",
        "            SELECT TO_DATE(MAX(transaction_created_at), 'YYYY-MM-DD') AS max_date FROM payments) AS t1\n",
        "          ORDER BY max_date DESC\n",
        "          LIMIT 1\n",
        "          \"\"\"\n",
        "\n",
        "  cursor.execute(query)            # делаем запрос\n",
        "  result = cursor.fetchall()       # запрашиваем все строки, получаем результат в виде списка кортежей\n",
        "\n",
        "  max_date = result[0][0]  # datetime.date(2022, 3, 15)\n",
        "\n",
        "  # количество дней, которые выгружаем из БД (последние 4 недели)\n",
        "  days_range = 27\n",
        "\n",
        "  # SQL запрос к БД:\n",
        "  query = f\"\"\"\n",
        "          SELECT\n",
        "            _user_id AS user_id,\n",
        "            TO_DATE(MIN(happened_at), 'YYYY-MM-DD') AS first_visit\n",
        "          FROM events\n",
        "          GROUP BY\n",
        "            _user_id\n",
        "          HAVING\n",
        "            TO_DATE(MIN(happened_at), 'YYYY-MM-DD') >= TO_DATE('{max_date}', 'YYYY-MM-DD') - interval '{days_range} days'\n",
        "          \"\"\"\n",
        "\n",
        "  cursor.execute(query)            # делаем запрос\n",
        "  result = cursor.fetchall()       # запрашиваем все строки, получаем результат в виде списка кортежей\n",
        "\n",
        "  columns = [desc[0] for desc in cursor.description]  # названия колонок возьмем из первого элемента cursor.description\n",
        "\n",
        "  events = pd.DataFrame(result, columns=columns)  # из списка кортежей сделаем датафрейм\n",
        "  \n",
        "  min_date = pd.to_datetime(max_date) + pd.DateOffset(-days_range)\n",
        "  max_date = pd.to_datetime(max_date)\n",
        "\n",
        "  # датафрейм с днями из колонки first_visit\n",
        "  days = pd.DataFrame(pd.date_range(min_date, max_date, freq='D'))\n",
        "  days.columns = ['first_visit']\n",
        "\n",
        "  # датафрейм с количеством новых пользователей по дням\n",
        "  group_events = events.groupby('first_visit', as_index=False).agg({'user_id': 'nunique'})\n",
        "  group_events['first_visit'] = pd.to_datetime(group_events['first_visit'], format='%Y-%m-%d')\n",
        "\n",
        "  # объединяем датафреймы days и group_events\n",
        "  merged_df = pd.merge(days, group_events, on='first_visit', how='left')\n",
        "  merged_df['user_id'] = merged_df['user_id'].fillna(0)\n",
        "  merged_df['dow'] = merged_df['first_visit'].dt.day_name()\n",
        "\n",
        "  # количество новых пользователей за текущую (последнюю) неделю\n",
        "  last_week = merged_df.first_visit.max() + pd.DateOffset(-6)\n",
        "  last_week_df = merged_df[merged_df.first_visit >= last_week]\n",
        "  last_week_df = last_week_df.rename(columns={'user_id': 'last_week_users'})\n",
        "\n",
        "  # количество новых пользователей за предыдущую неделю\n",
        "  previous_week = merged_df.first_visit.max() + pd.DateOffset(-13)\n",
        "  previous_week_df = merged_df[(merged_df.first_visit >= previous_week) & (merged_df.first_visit < last_week)]\n",
        "  previous_week_df = previous_week_df.rename(columns={'user_id': 'previous_week_users'})\n",
        "  \n",
        "  # среднее количество новых пользователей за последние 4 недели\n",
        "  group_last_month = merged_df.groupby(['dow'], as_index=False).agg({'user_id': 'sum'})\n",
        "  group_last_month['mean_new_users'] = np.round(group_last_month['user_id'] / 4, 2)  # делим количество пользователей на количество недель (4)\n",
        "  group_last_month = group_last_month.drop(columns=['user_id'])\n",
        "\n",
        "  # объединяем созданные датафреймы\n",
        "  df = last_week_df.merge(previous_week_df[['dow', 'previous_week_users']], on='dow', how='left').merge(group_last_month, on='dow', how='left')\n",
        "\n",
        "  # перевод колонки first_visit в формат string (для создания heatmap)\n",
        "  df['first_visit_str'] = df['first_visit'].dt.strftime('%Y-%m-%d')\n",
        "\n",
        "  # удаляем лишние колонки\n",
        "  df = df.loc[:, ['first_visit_str', 'last_week_users', 'previous_week_users', 'mean_new_users']]\n",
        "  # установка колонки transaction_date_str в качестве индекса\n",
        "  df = df.set_index(['first_visit_str'])\n",
        "\n",
        "  # создаем heatmap\n",
        "  plt.subplots(figsize=(12, 6))\n",
        "  ax = sns.heatmap(df, annot=True, fmt='.2f', cmap=\"Greens\")\n",
        "  ax.set_title('Количество новых пользователей', fontsize=24)\n",
        "  plt.savefig('viz.png')  # сохраняем диаграмму в файл\n",
        "\n",
        "  photo = open('viz.png', 'rb')\n",
        "  return bot.send_photo(user_id, photo)  # отправляем диаграмму юзеру"
      ],
      "metadata": {
        "id": "5XyZBXnsS9qC"
      },
      "execution_count": 53,
      "outputs": []
    },
    {
      "cell_type": "markdown",
      "source": [
        "![image.png](data:image/png;base64,iVBORw0KGgoAAAANSUhEUgAAAsIAAAGBCAIAAADjVEDRAAAgAElEQVR4nOzdeVxM6/8A8M/MtE57dNOihUxUlESIkC1Luva+FyFcFdl+iki5JVrs1Q1xXdtVhDYp6+VrSUiurCGVNu011TTTzPz+OPfOd+60j5qpfN6v/jg95znnfM7pTPOZ53nOMyQulwsIIYQQQu1HFncACCGEEOquMI1ACCGEkJAwjUAIIYSQkDCNQAghhJCQMI1ACCGEkJAwjUAIIYSQkDCNQAgh1NXR6XRDQ8PExEReSWJioqGhIZ1OF2NUCDCN6DG2bt1qaGi4ZMmSJtfeu3fPxMTE0NBw6dKl9fX1Io4NIYS+kby8vJqa2qFDhzIyMurr61++fHnw4MEffvhBXl5e3KF97yTEHQDqdKmpqW5ubiwWa+jQoeHh4dLS0uKOCCGE2m3VqlW7d++eO3cur2THjh1ijAcRMI3o4V68eOHs7MxgMIyMjCIiIqhUqrgjQgghYSxdulRRUfHy5cv5+fmamppz58798ccfxR0UwjSiR3v79u2qVatqamr69+9/4sQJBQUFcUeEEELCmz179uzZs8UdBfoXTCN6rE+fPjk5OVVWVuro6Jw8eVJVVbXJaikpKWfPnn3+/HllZaWSkpKZmdnixYtHjRrVZOWtW7deuXKlyVWnT5+2tLTkr7Z27Vo3Nzf+OmfOnNm1axcAzJ49OyAggCgMCQkJDQ3lLyFcvnzZ09NzxIgRZ86cETjW06dPz5079+zZs7KyMjk5uUGDBs2bN2/GjBkkEkmgJpfLvXbtWkxMzKtXryorK1VUVHR0dCZPnmxvb6+iokIcosnTafLUbGxs8vLyeOUSEhIqKirm5ubLly8fOnRo4w3bdW0FtHD6jx8/dnR01NLSun37tsCq69evR0VFvXr1ik6nq6qqDh8+3MnJydjYmL/Oly9fJk6cyF8iJSWloaExevTo1atXa2ho8K8yNDQEgFu3bmlrazcXqsBfkMPhLF68+NmzZxYWFmfOnCGT/zcAq7y83M7Orri4eMmSJV5eXi2cPnGOLVQAgHfv3gmUiPJmbuzu3bsJCQlv3779+vVrTU3NDz/80K9fv//85z82NjaN78w2hkpcfx5JSUk1NbXhw4f//PPPBgYG/KvKysquXbt2//79rKysoqIiLperqak5duxYJycndXV1XjXij9XyiUCjv3jbX3HQ6GXCr/Gf7P379ydPnnz8+HFxcbG0tLSBgYG9vf28efMkJSV5dXh3rMDmDAbD1ta2oKCgccBIlDCN6Jlyc3OXLVtWWlrap0+fkydP8v8f4XfgwIEjR44AAIlEUlBQKC0tvXnz5s2bN3/++ef/+7//a27nVCqVv3OkrKyMw+G0GlJlZWVb/n+1Kjg4+Pjx48SyvLx8ZWXlo0ePHj16dPv27b179/K/aVVXV69bt+7hw4cAQCKRFBUVKysrnz59+vTpU0VFxTlz5sjIyPTu3ZtXn81ml5eXAwB/IQDw/0cDACUlJaKktra2uLg4OTn55s2bYWFhEyZM4K8m3LUVGofD8fT0jImJAQAKhSInJ1dUVJSQkJCYmLhjx46ffvqp8Sa806ysrMzOzs7Ozk5OTo6OjtbS0vqWSMhkcmBgoL29/dOnT48fP/7zzz/zVvn4+BQXF/fv33/z5s1t3FXj9Jf3ZxIgypu5SdevX4+LiwMAGRkZWVnZvLy8vLy8//73v/PmzfP39/+WUFVUVCgUCgBUV1fn5+fHxsZev379zJkzgwcP5tWJiIj47bffAEBCQkJeXr66uvrjx48fP36Mi4s7efLkwIEDeefLf3uzWKzKysrG15k4HKHtrzh+vJcJNP8nO3v2rL+/P3HBqVRqbW3t8+fPnz9/npiYeOzYMVlZ2Sb3zHP8+HEih0BixkU9wpYtW2g02uLFi7lcbmFhoY2NDY1GGzVq1MePH5vbJCEhgUaj0Wg0X1/f0tJSLpdbVlbm5+dHFMbExDTexMPDg0ajHT58mL9wwoQJNBotJSVFIBiBav7+/jQazcjIiEajbdmyhVd++PBhgRLCpUuXeGfE8/vvv9NotNGjR0dFRVVVVXG53Lq6uqtXr1pZWdFotCNHjvBX/vnnn2k02pAhQ06dOlVZWcnlcjkczocPHw4dOnTjxo3GZ5ebm0uce3NXrPGZvn//fu7cuTQazc7Ojr+mENe2LadPSElJodFoEyZM4C88evQojUYzNDQMCwurrq7mcrmFhYXr1q2j0WgDBw5MTU1t4TQ5HM69e/dGjBhBo9H8/Pz4d0vUzM3NbSHUJv+CRPzGxsavX78mSq5cuUKUvHz5stXTb/Icm4ufK/KbuUmPHz9OTU0lLj6Xy62srDxy5MjAgQNpNBrvIrQ31MbXPz09fdKkSTQazdnZmb/mqVOnjhw58vbtWxaLxeVyGxoaXr586eTkRKPRZsyYweFwmoy5hetMaNcrjjB+/HiBa9jkn+zGjRs0Gm3o0KERERHEdaivr793796UKVNoNNqOHTta3rywsNDMzIz4f9LqLYo6FT7w2dOUlZUtW7bsy5cvAGBgYNCvX78mq3G53EOHDgHAjBkzduzYQXwWUVFR8fLymjlzJgAcOnSo8ceyhoYGAGiyJbNlnz9//uOPP2RkZOzt7QVWEXtjMBit7qSqqurgwYPS0tInTpxYsGABMdRDRkZm+vTpISEhJBLpxIkTTCaTqHz37t0///yTRCKFhIQ4OjoqKioSx+rfv/+6desmTZrU3lNo0oABA4jG+aysLF6hcNf2W9TU1Bw9ehQAVq1a5erqSjwCp66uvn///mHDhnE4nIMHD7awOYlEGjt27IoVKwRO5FvMmTNn6tSpLBbL3d29vr4+Pz/fz88PANasWWNiYtIhh+AR8c3cnBEjRgwfPpz3/KGiouLq1av79+8PfFf12+8NU1PTDRs2QKO/lKOj4+rVqw0NDSUkJACAQqGYmJiEh4cbGBhkZmY+efJEiDNq1yuOh8ViAUBzrRQENpu9e/du4nxXrlxJXAcpKamxY8dGRETIyspeunTp69evLezhwIEDtbW1CxcuFOK8UMfCNKJHqa6udnJy+vTpE5VKpVAojx8/vnjxYpM137x5k52dDQAuLi4Cq9asWQMAeXl5f/31l8Aq4h+ElJRUewMLDAxksVjLly8X6HoHAGVlZQDIzMxsdSfJycm1tbWjR4/mtdDyDB06VFtbu7Ky8tWrV0QJ0bw/ZswYa2vr9kbbLrW1tfDvfhDhru23ePjwIZ1Ol5SUXLlyJX85hUJxdXUFgKdPnxYXF7e8k5qaGmjUofMtfvnlFzU1tczMzODg4C1bttDp9KFDh/L3cXQUEd/MbVRTU3Pq1KmPHz+SSKQBAwZ8S6gCGt9yzZGSkho9ejQApKWltf8M2veK4yHys5YvbGpqal5eHo1GGzt2rMAqHR0dU1PThoaG1NTU5jbPyMiIiYlRVFRcu3ZtO84HdQ4cG9GjvHnzBgCkpaXDw8Pv3r3722+/BQYGWltbNx4bQbz4VVVVef/gePr166eurl5UVPTq1SszMzP+VcT/r/b+5yW6UdXU1FatWkV03/IjBid++PDh119/XblyZQs7f/78OQCkpKRYWVk1XltZWQkABQUFxA5fvHgBAOPGjWtXqO1SU1Pz/PnznTt3AgD/s+zCXdtvQRxx4MCBSkpKAquGDx9OoVDYbPbr16+buxplZWW3bt06efIkmUzuwGHwKioqe/bsWbVqFTFKlEqlBgcH83e6dxRR3sytOnHixG+//dbQ0ED0o5FIpLVr1/IC+8Z7o6qq6uHDh3v37oV/33KEjx8/njt37smTJ3l5ebW1tVwul7eq5U/2zWnXK46nLReWSGs+f/7c5J6rq6uJPTe3eUBAAJfLdXV1bW7kOBIlTCN6GklJyZCQkJEjR5qZmd26dSs7O9vHx4cYz8WPGPHU3NDLPn36FBUVNR4VRfzjINoP2ojD4RAD+Ddu3CgnJ9e4grGxsa2tbVJS0qFDh8LCwng7b9zNQXyerqurq6ura+5wvK1KSkoAoHHjx7cTeIJAWVnZ29ubfwyjcNe2SampqQJj9ZtUVlbW3BGlpaVVVFRKSkqIOvwE9jxgwABPT8+RI0c23gnvyQ4KhaKoqDhw4MBZs2b9+OOPLTdcA8DYsWNnzJiRkJAAAJs3b+7bt2+r5yIEEdzMoaGhvAHCVCpVW1ubeAiicZNAbW0tce8BgKysrLu7+6JFi74xVIEnazQ1NX18fKZPn85fePXq1S1btvA6FBQUFIg38tra2tra2hZeMi1o1yuO9ysxT27jjLbxnplMJu9atbpnnuTk5CdPnujq6vJfWCRGmEb0KBQKZd++fcSHThkZmV27djk6Ot65cychIYHoeRXQ3omxidd8uz4BXLp06e3bt8bGxi18zN23b9/AgQMvX76cl5fXwr8Vos/Y0dFx+/bt7Ym6g/GGoDc0NFRUVFRUVBw7dkxbW1vgs36HTDouKSnZ+N8xMbq+ceX2HpH3FlhXV1dTU5OZmXno0CEtLS09PT2BmrwnBerr68vLy4mB+n/++efhw4dbPkRRUdH9+/eJ5bS0tE79v9+pNzPvgQ4Oh1NZWfn+/fv379/HxsaeP39eR0eHv6abm5ubmxuDwcjNzT1z5oyvr+/Dhw8PHjzI/7xPe0Plv/7EwxohISHa2tpDhgwhKpSVlXl5ebFYrOnTp69YscLQ0JB3uIMHD4aHh/O3TLSdEK84Xt9Zr169Wt3zxIkTf/3113aFxGQyg4ODAcDDw6PzOqRQu2Aa0aOYm5tPnTqV9+uIESMcHBzOnz+/a9eu0aNH8//HVFFRAYDCwsIm90OUE3V46uvriWbGxm8zzaHT6cTgvq1bt7bwyVVCQsLFxUWgt7jxpA7E214bH/Hq3bt3Xl5efn5+G0Ntu5CQEN6kAjU1NZGRkcHBwWvWrLly5QrRUi3EtW3O0KFDm5s3gr+E+Ms2eWXq6+srKiqgqffLBw8e8JaLioqCg4Pj4+NXrlx59epVgRnTo6OjeQ/ll5WVhYeHnz59Ojk5+dGjRy1Mg8Hlcrdt21ZRUaGvr5+bm5uQkDBx4kSBz9AdQgQ3s5OTE2/eCDabfefOna1bt5aUlISEhBDvagJkZGQGDBjg6+tbWVmZlJR07ty5ZcuWCRcq/Pv6l5eXHzt27LfffluxYkVSUhLxbn3v3r3a2loDA4N9+/YJvNBKS0vbcoJNatcrjkCM/OjTp0/Lk+4LsWfCqVOncnNzLS0tO2qUNPp2OMSyR2k87Hzz5s2amprl5eXEvE88xJREtbW1jcdzEdPX8OrwvHjxgsvlysvLt71p+ujRoyUlJVOmTBkxYkS7TqRJRIdxampqWx7rMDU1BYC7d+9++3FbICcnt2LFipEjR7JYrNjYWKJQiGv7jYi9ZWdnEzvn9+TJE2LIm5GRUQt7UFdX37Nnj4yMTG5u7uPHj1uoqaqqun37duJdjeg7b87Zs2fv378vKyv766+/Ejnizp07G0f47URzM/NQKJRJkyYRaUF6enrLlYcNGwYAvEv67feGiorKli1bdHR0qqqqrl+/ThQS+YehoaFADsHlclNSUtp8ZoLa9YojEBdk0KBBbdnzu3fv2nU/lJaWHjlyhEwmt2XWOCQymEb0cPLy8r6+vgBw9erVW7du8coHDRqkq6sLAI2HTRB9wFpaWrwmUwIx5d+YMWPa+IxcXl7e77//Likp6e7u/m0n8TdbW1sqlVpZWRkWFtZkBf6mfmKy/QcPHty7d69Djt4q3sc+Ia7tN7KyspKXl2exWLxpgghsNptoNLawsFBTU2vj3try+VVgSq7GPn78SIwEdHd379evn7Oz85AhQyorKz09PYVrYG+BCG7mxtrYok48acmr3LH3Bu8vRTyKmZmZKXBtL1y4kJOT08a9NdauVxwAsFgsYhxM4+cvBIwaNUpDQ4PNZgcFBbVlz4RDhw7R6fQ5c+a0mqYgUcI0oucbO3bsnDlzAGDnzp3EEGgAIJFIxNPnt27d8vPzI0Z1EY0WxD+CDRs28D7ZlJSU7N69+/LlyyQSaenSpW08blxcHJPJdHR0FOg8FpqKisqmTZsA4NixY15eXrzn5hkMxtOnT318fBwcHHiVra2tra2tuVzuunXrzpw5U1VVBQBcLvfDhw8BAQE3b97skJBqa2tPnDhBfODjfYhs17XtEFQqdfXq1QBw5syZ8PBw4tHNoqKiTZs2PXv2jEwmE/G0oKioyNPTk/jQ2XK7BZGsEBe/ySnAiTru7u4MBmPMmDHEeAgJCYmgoCBZWdkHDx407qb5RiK4mQW8fPny9OnT8M+nagCg0+nu7u6PHz+m0+kAwOVyc3JyvL29iQYD3gyn335vVFRUBAYGEskB75YbNWoUiUR6//79rl27iFudTqcfP37c19e3XQOiBbTrFff+/fvVq1dnZWX16tXLzs6u5T1LSkru2LGDRCIlJCS4uroSj5gBAIvFevnyZVBQkMCoUkJ0dLScnNzGjRuFPiPUGXBsxHdh69at//3vf79+/RoQEMCbl3f69Onv3r07cuTI2bNn//jjDwUFherqamLo088//zxr1iyi2vv372fNmkU8uubh4WFubt7Gg7LZbFVV1cbPx3+LJUuWVFdXHz58+OLFixcvXqRSqZKSkryw+WdxJpFI+/btW7NmTWpq6q5du3bv3q2oqFhXV0eMbqPRaELH4Obmxj/Ekig0NTWdP38+r04br20HWrFixcePH2NiYg4ePBgSEiIvL0/MOUgmk728vIYPH954E96zdsQQS2LZ0dGx8bMhLi4uxCmzWKz8/HzinXLq1KnNDYwIDQ199eqVsrIyMcUQQV9f393d3dfXd9++fVZWVsS8TB2ls2/mqKioO3fuAACXyy0tLSWa4nv16rVu3TqiAofDiYuLIybDlpOTY7FYvHmZpk2bxj/rmhD3xrx584ghlkwmk8gSAGDSpEnjx48nlvv167d06dLff//97NmzZ8+eVVRUpNPpHA5nzJgxJiYmjVs+2q6Nr7hz584RrZ4KCgr79+8nZntr2cSJE/39/X18fG7dunXr1i0ZGRkZGZnq6mo2m93cJmw2e/Xq1R04tQnqEJhGfBeUlJR27ty5Zs2a6OjoGTNmEDPSAMDGjRtHjhx55syZ9PT0qqoqZWVlMzMzR0dH/rcHDoejpaU1bNiwxYsXt7cpft26dR3+taKurq4TJ048d+7c48ePCwsLa2tr1dTUBgwYMGrUKIGnURQVFU+dOhUXFxcbG/vmzRvi26p0dXUnTZpkY2MjdAC85lbiCxEMDAxsbW1/+ukngVbutlzbDkShUAIDA21sbC5cuJCRkVFTU6OmpjZixIjly5c3N2sk76EYCoXSq1cvY2Pj+fPnT5kypXHN9+/fEwtkMllRUdHS0nLWrFlEE1djaWlpERERALBz506BJxsXLVp0+/bt+/fvu7u7R0VFtdoz0i6dejMXFxfznkGQlZUdMGAA8cAnr6uISqVu3bo1JSUlMzOTmNpZQ0PD2Nj4xx9/nDx5shCh8uM9Akomk5WVlQ0NDYnrz98j4+np2b9///Pnz3/48IHNZg8aNMje3n7x4sXtfRSisTa+4oi5pBwdHfv06dPGPc+dO9fS0vL06dMPHz7My8uj0+nKysr9+/e3tLScMWNG4/paWlrEkBTUpZA6vJ8SIYQQQt8JHBuBEEIIISFhGoEQQgghIWEagRBCCCEhYRqBEEIIISHhkxqt+2HnGHGHgLqcQQN1xR0CQqjbuOtwrrMPQZqs3d5NuDe+fPtxsTUCIYQQQkLC1giEEEKo+xN2ZvdvhGkEQggh1P2JqXcBOzUQQgghJCRsjUAIIYS6P+zUQAghhJCQxJNFYBqBEEII9QDYGoEQQgghIeEQS4QQQgh1L9gagRBCCHV/ndCpUV9fv3v37kePHklLS5uZmfn5+TWug2kEQggh1P11wtCI4OBgaWnp5ORkEolUUlLSZB1MIxBCCKHuj9zuPKKqqqqqqoq/RFFRUVFRkViuqamJiYm5e/cuiUQCgN69eze5E0wjEEIIoe6v/a0Rp06dCg0N5S9Zu3atm5sbsZybm6usrBwaGvr48WM5Obn169dbWFg03gmmEQghhND3aOnSpbNnz+Yv4TVFAACbzc7NzTUyMtqyZcuLFy+cnZ1v3LghLy8vsBNMIxBCCKHur/1DLPm7MBrT0NCQkJCYOXMmAJiamqqoqGRlZQ0ePFigGj7wiRBCCHV/pPb/tEhVVdXS0vLBgwcAkJWVVVpaqqur27gatkYghBBC3V/7h1i26pdfftm2bVtgYKCEhERQUFCTTReYRiCEEEKoCX379j1z5kzLdToyjSgvL/fw8MjJyZGSktLV1fX19VVVVU1PT/f29q6vr9fS0goODu7Vq1dWVpa3t3dxcbGEhMTgwYN9fHxkZGTS0tKCgoKIJ0/GjRvn4eFBatTNc+HChYiICC6Xa21t7eXlRSaT37x5s23bNg6H09DQYG5uvmPHDikpqVa3YrPZAQEBjx49YrFYNjY2TR7r+3RlWcgwbSM2hw0ABVUlo0N/EqiwY5LLIvOZAHAuLcHvZjhRaNLH4MAszwFqupnF2Rvj9mQUfhBx2Eg0tOTVT04LuJub6p8SLrBqtanDjH7jAeDqpz+PvogkCg2UdT1GrNJV1Myuyg9KjfhQkS3qiFHnw7uiCxHT+1hHjo0gkUgrV65MTk6Oj4/v27fv3r17ORyOu7u7t7d3cnKyhYXF3r17AUBSUtLT0zMpKSkuLq6uru7EiRMAIC8vHxAQkJiYGBMTk56eHhsbK7Dz3Nzc0NDQqKio69evZ2dnx8XFAYC+vn5UVFRsbGx8fHxFRUVkZGRbtoqOjv706dOVK1euXr2amZmZmJjYgRehu/NMPKC/e4r+7imNcwjHYfbTBo6dcGTZ+PClUwxHL7WwBwBJisQph4Dov5JpAdOiXlw75RAgScEmrp5po8Xyd2WfGpfb9bcZozVsRdI2pyTP0Zrms/pPBAAJMsV/7KYbn+/PvPxzctZ//cdukiBTRB4y6nR4V3QhJFK7fzpCR6YRysrKlpaWxLKZmVl+fn5GRoa0tDTxpKmDg0NSUhIAaGtrGxkZAQCZTB4yZEh+fj4A0Gg0PT09AJCSkjIyMiIK+SUnJ0+aNElVVZVMJs+fP59475eRkSGaHxoaGhgMBpkseDpNbvX27dtRo0ZJSkpKSEhYWVnFx8d34EXowRaa2YY/iiyoKi6sLgl/GLnQbDoAWOkNlSBTjqZcYLJZxx9Hk0ikMfrDxB0p6ng2OiPpzJpnRa8ar7LVH3vhXWJxXVlJXXnUu6u2+tYAYPaDEYVEvvg+icVpuJSZTAIw/8FY5FGjzoV3RddCJrX7p0MO2yF7EcDhcM6fP29jY1NQUKCpqUkUqqqqcjiciooKXjUGg3Hp0iUbGxv+bUtLS5OTk8ePHy+wT/5daWpqFhQUEMtFRUX29vaWlpZycnILFixoy1bGxsa3b9+ura2tra29efNmXl5eh5x1z7B94uo3HgkJTr+O1hsqsMpQTf/VPx0Wr4o+DFTTJwpfF33k1Xn9TznqSagSsk4m88Ken2tyrZ6i9ofyHGL5Y3mOvpIWAOgran2qyOXV+ViRq6ekLYJQkcjgXdHldPSTGm3UKWmEn58flUpdvHhxC3UaGho2btw4cuTIiRMn8grpdLqLi4uTkxPRXNEW6urqsbGxDx48YLFYN27caMsmc+bMGT58+H/+859Vq1YNGTJEQgIb4f/mdyN8+KEFpvtmn3kWd/Y/gXoqmvxr5aRkq+rpxHIVo0ZemipQCADV/5SjnmTF4HlXP/1ZXFfW5FpZCZkaVi2xTGfVUiVlAUBWUob+TyEA1LBqqZIyIggViQzeFYjQ8WlEYGBgdnb2wYMHyWSyhoYGr3uirKyMTCYrKysDAJvN3rx5s5KSkpeXF2/Duro6Z2dnKysrJycnomTNmjX29vb29vZ0Op1/V/n5+RoaGvwHpVKp06dPJ7onWt2KTCZv3LgxNjb23Llzqqqq/fv37/CL0E2l5b2uYdYx2ayoF0mpuS8nDhjFv7aGWacgLUcsK0jL0etrBQoBQP6fctRjGCjrDutjcvH9teYq1DUwiDcJAJCTlK1l1QFAHYsh90/hP+WMzg4ViQzeFV1RDxgbAQD79+/PyMgICwsjhiyYmJgwGIynT58CQGRkpK2tLQBwOJytW7dSKBR/f3/eIxL19fXOzs6mpqbr16/n7S0sLCw2NjY2NlZeXn7q1Kk3b94sKyvjcDgXL16cNm0aAOTm5jKZTABgMpm3bt2i0Wht2aq+vr66uhoA8vPzz58/v3z58o69CD0Dl8sVeIDlXXGWsboBsWzcx+BtcRZRaKT+vzzMSL0/UY56DLMfBvWR633B7vBl+7CFhjPGaY+ImLKLv8Lnqi8Gyn9PSmOgrJtVmQcAWVV5/ZR1eHX6Ket8rvwiyrBRp8K7oisSU6dGR7bnZ2ZmHj16VE9Pz8HBAQC0tbXDwsKCgoJ8fHx4D3wCwL179+Li4mg02pw5cwDA3Nzcx8cnOjo6NTW1oqLi/v37AGBra+vi4sK/8759+7q6uhKjH6ysrGbNmgUAaWlpx48fJ5FIHA5n+PDhrq6uAiE1uVV1dfWSJUuI8ZibN282NsYxPgAAijLyw7SMHmanN3DYPxrbjNQ13Z50iL/ChRdJzqMW3sx8xAWuyyiHE6nRAPDg83M2h7PKcv6ppzGLh9kBwP2sZ+I5AdQ54j/evp3ziFheOHBGHzm1/U9/46+QnHV/geG0lIJ0Lpe7YOD0y++vA0D619ccLmcubWrch1sz+08AgLSvTQzEQ90U3hVdUSdMP9UWJC6XK5YDdyM/7Bwj7hBEoRdV+Y9FwQN667K57MySnMDbEXc/PbXUGRK5eK/+7ilEHe/JLovM7QDgXFq87w3evBEDDszaSlPTyyz5vCE2IKMwU2znIEKDBjYxKZYttEkAACAASURBVGyPt8xkjpa8un9K+BA1w0Brj2mXVhDlzqb/4c0QcOTFeaJwgLKu+4hVeopa2VV5QakRmThDQA+Fd0Vb3HVoeixqByItM2zvJtzf33XAcTGNaNV3kkagdvk+0wiEkHB6cBqBDykghBBC3Z+YpmPGNAIhhBDq/sT0jd2YRiCEEELdn5haI8SUvSCEEEKo+8PWCIQQQqj7E9M3fGIagRBCCHV/OMQSIYQQQkLCIZYIIYQQEhIOsUQIIYRQ94KtEQghhFD3h0MsEUIIISQkMX01F6YRCCGEUPeHYyMQQggh1L1gawRCCCHU/eHYCIQQQggJh4TTTyGEEEJIOJhGIIQQQkhIYsoiMI1ASCj3LjwUdwioK9Kz7C/uEBASKUwjEEIIoW6PjJ0aCCGEEBIOjo1ACCGEkJAwjUAIIYSQkMSVRuAslgghhBASErZGIIQQQt0ePvCJEEIIISHh2AiEEEIICQnHRiCEEEKom8HWCIQQQqjbI4npKz4xjUAIIYS6PRwbgRBCCCEh4ZMaCCGEEBKSuL5TA4dYIoQQQkhI2BqBEEIIdXs4NgIhhBBCQuqMNMLGxkZKSkpaWhoANm/ePHbs2MZ1MI1ACCGEur1Oaow4fPgwjUZroQKmEQghhFC3J0RrRFVVVVVVFX+JoqKioqJiu3aCaQRCCCH0PTp16lRoaCh/ydq1a93c3PhLNm/ezOVyhw0btmnTpiYzjI5MI8rLyz08PHJycqSkpHR1dX19fVVVVdPT0729vevr67W0tIKDg3v16pWVleXt7V1cXCwhITF48GAfHx8ZGZm0tLSgoCAiLRo3bpyHh0fjxOrChQsRERFcLtfa2trLy4tMJr9582bbtm0cDqehocHc3HzHjh1SUlL8mxQVFW3evPn169e6urqXL19uYVcdeB26ryvLQoZpG7E5bAAoqCoZHfqTQIUdk1wWmc8EgHNpCX43w4lCkz4GB2Z5DlDTzSzO3hi3J6Pwg4jDRiKw0Gqmz8L1Or01CyuKl4W433/zhH/thplOW2Y7U6Vloh9dczm6g9nABABdNa2Ta4MtaWY5xflrj/vc+uuBmGJHnUhPRSvJKeLau3sbEwL4y0/O3z1cezCxLEmR+FT2ZdpvqwDgv85ne1NV2FwOAKTlvXK8sFX0MfdUQrRGLF26dPbs2fwlAonCuXPnNDQ0mEymv7+/r6/v3r17G++kI98+SSTSypUrk5OT4+Pj+/btu3fvXg6H4+7u7u3tnZycbGFhQUQgKSnp6emZlJQUFxdXV1d34sQJAJCXlw8ICEhMTIyJiUlPT4+NjRXYeW5ubmhoaFRU1PXr17Ozs+Pi4gBAX18/KioqNjY2Pj6+oqIiMjJSYCsqlbp+/fp9+/a1uitE8Ew8oL97iv7uKY1zCMdh9tMGjp1wZNn48KVTDEcvtbAHAEmKxCmHgOi/kmkB06JeXDvlECBJwSaunmaS6ZhAx63LQ90VFplYey38VJTDv3aKmfXWOS4Tdy7SXT2mn7rOLw4biPLzmw4/z3rVa+nQ7X/sjXb/tbeiqjhiR53Ld7LbXwXvGpcvv7jN5IAd8ZOW9zrx7V3eqpWXdhDlmEN0LFL7KSoqav+bQBqhoaEBAFJSUj/99FNaWlqTx+3INEJZWdnS0pJYNjMzy8/Pz8jIkJaWtrCwAAAHB4ekpCQA0NbWNjIyAgAymTxkyJD8/HwAoNFoenp6RLhGRkZEIb/k5ORJkyapqqqSyeT58+cnJiYCgIyMDNH80NDQwGAwGjcqKCgoWFhYyMrKtror1KqFZrbhjyILqooLq0vCH0YuNJsOAFZ6QyXIlKMpF5hs1vHH0SQSaYz+MHFHijrYLws3+F44/Ph9OpfLzS8ryi8r4l+7dPycE7eiXudmVtRU+V0MWTZhHgAM0NA372fsE3mQway/nJL0Mvvd3JG2YgofdZaZg8ZX1dc8yH7eQh0tRfXh2iaXM26ILKrvlhBpRMs7rK2tra6uBgAul5uYmDho0KAmq3VKYz6Hwzl//ryNjU1BQYGmpiZRqKqqyuFwKioqeNUYDMalS5dsbGz4ty0tLU1OTh4/frzAPvl3pampWVBQQCwXFRXZ29tbWlrKycktWLCgLeE1tysEANsnrn7jkZDg9OtovaECqwzV9F/902HxqujDQDV9ovB10Udendf/lKMeg0wmW/QfrKaomhl2JzfiYcjKX2SkpPkrGOvQXnx+Qyy/+Pymj4qaqryysc6AT0W5dEYNr9xYp6XB3qjbkZeibhqzbNft8JarzTGZ/ORLRl7V/1LPg3aeT92iTy8IGKTWr5NjRN+ktLR0yZIldnZ2M2fOzMrK8vHxabJap7Q/+/n5UanUxYsX37jRbAba0NCwcePGkSNHTpw4kVdIp9NdXFycnJyI5oq2UFdXj42Nra2tdXd3v3HjxowZM741+u+Y343wd8VZLHbDbJOJZ/8TaHNk2efy/zULyUnJVtXTieUqRo28NFWgEACq/ylHPYa6Um8pSal5o6aN9VrAamiI9TzmNc/N64//dZHKy1Ara6uJZWJBQVZOXkaOV0iUa6mqizhy1Kk2jV0W9de1wuqSlqvNMZkc+vAc79cN8XsyijJJQFpuMefUgoCJx5dX19d0cqTfiw5/4LNv374xMTGtVuv41ojAwMDs7OyDBw+SyWQNDQ1e90RZWRmZTFZWVgYANpu9efNmJSUlLy8v3oZ1dXXOzs5WVlZOTk5EyZo1a+zt7e3t7el0Ov+u8vPziQ4bHiqVOn369Pj4eIGtmoyw5V19z9LyXtcw65hsVtSLpNTclxMHjOJfW8OsU5CWI5YVpOXo9bUChQAg/0856jHqmAwACEk8VVheXFpdvj/uxHTzfzUW0hm1irIKxLKirDwAVNfV0Bk1xPLf5VT5aga+W/Qcg37ob6Vn/tuTSy1Xs9AyUZNTvfbuHq/kWd6r+gYmo6E+POV8VT19xD/DMNG36/BOjTbq4DRi//79GRkZYWFhxJAFExMTBoPx9OlTAIiMjLS1tQUADoezdetWCoXi7+/PO436+npnZ2dTU9P169fz9hYWFhYbGxsbGysvLz916tSbN2+WlZVxOJyLFy9OmzYNAHJzc5lMJgAwmcxbt24RU2Twb9VkkE3uCgngcrkCN9m74ixjdQNi2biPwdviLKLQSL0/r46Ren+iHPUYFTVVuSX53H9+5XK5AhVe5bw31fu709RUb1BheXEZveJVTmY/dR15mb9TTFPdQa9y3osoYtT5RuqYaiuqP3D5I3XNhVUj5tvSxsYvbaJ3Y+7gKcnv79eyGE3uhAuC/2TQtxBXGtGRnRqZmZlHjx7V09NzcHAAAG1t7bCwsKCgIB8fH94DnwBw7969uLg4Go02Z84cADA3N/fx8YmOjk5NTa2oqLh//z4A2Nrauri48O+8b9++rq6uxOgHKyurWbNmAUBaWtrx48dJJBKHwxk+fLirq6tASGw2e8KECUwmk06nW1tbz58/383NrcldIUUZ+WFaRg+z0xs47B+NbUbqmm5POsRf4cKLJOdRC29mPuIC12WUw4nUaAB48Pk5m8NZZTn/1NOYxcPsAOB+1jPxnADqNCdvR7tNd0x6fpfVwNpotyLh2W3+tafvXv597d5z92Lyy4q85q/9/U40AGQWZKV/fu2zcL3XH3unmY8fojdwbrBLM7tH3c/59Kvxb+4Qyz+PmK+t1Mcr+ZBAHWkJqekDxzlf/l+HuqbCDxqKan8VvCORSMuGzVaRVXr65ZXogu7pxPUNn6TGny2QgB92jhF3CKLQi6r8x6LgAb112Vx2ZklO4O2Iu5+eWuoMiVy8V3/3FKKO92SXReZ2AHAuLd73Bm/eiAEHZm2lqelllnzeEBuQUZgptnMQoeK/8sQdguhIUCQOrfD+aaw9g1l/4eFVj9N7flDq/frQdaP1U3JL8gFgo92KLbOdZaWkL6UkOR/x4s0b8bvbXssBZjkl+WsivL+TeSP0LPu3XqlnWW/lqKeiuTEhYLi2ycn5e0wO2BHldoMmbBm3csyRRbyaA3rrHrbbrqOsUc9mvS76EHj3+MvC76WNKmvLzc4+RN/dE9q7Se62O99+XEwjWvedpBGoXb6rNAK13XeYRqC2EEEaobOn3WlEjmcHpBE4UxBCCCHU7YlroAmmEQghhFC3RwJMIxBCCCEkFHG1RuBXUiGEEEJISNgagRBCCHV7ODYCIYQQQkIS11RemEYghBBC3R6OjUAIIYRQN4OtEQghhFC3h2MjEEIIISQkTCMQQgghJCQcYokQQgghIeEQS4QQQgh1M9gagRBCCHV7ODYCIYQQQkLCNAIhhBBCQsIhlgghhBASErZGdF2DBuqKOwTU5eBdgZp078RdcYeAuqQt4g6g02AagRBCCHV72BqBEEIIISFhGoEQQgghIYlriCVOP4UQQgghIWFrBEIIIdTtYacGQgghhISFaQRCCCGEhIOtEQghhBASEg6xRAghhFA3g60RCCGEULeHnRoIIYQQEhKmEQghhBASEqYRCCGEEBISDrFECCGEUDeDrREIIYRQt4edGgghhBASEqYRCCGEEBKSuNIIHBuBEEIIISFhawQSpCWvfnJawN3cVP+UcIFVq00dZvQbDwBXP/159EUkUWigrOsxYpWuomZ2VX5QasSHimxRR4xEAm8MJGDh+Fk+SzbqqGkVln9dFrzpfkYqb5Xj5HnrfnQaoKVfVUv/43bMtt8C2Bw2ANzZe3HkoKENbDYA5JUUDnQaJ7boe5ye0KlRXl7u4eGRk5MjJSWlq6vr6+urqqqanp7u7e1dX1+vpaUVHBzcq1evrKwsb2/v4uJiCQmJwYMH+/j4yMjIpKWlBQUFVVVVAcC4ceM8PDwaX5ELFy5ERERwuVxra2svLy8ymfzmzZtt27ZxOJyGhgZzc/MdO3ZISUnxb1JUVLR58+bXr1/r6upevny5hULEs9Fi+buyT43L7frbjNEatiJpGxe4+8Z7FtCL4z7ekiBT/Mduin53LebDzVn9J/qP3bTo6qYGDlv0YaPOhjcG4jfJfGzgym0L/V1T3z7XUFUXWEuVlt0QvvPx2+dqSr3ifH/bPN85MCqMWLU2dMeJa+dFHm/P1xMe+CSRSCtXrkxOTo6Pj+/bt+/evXs5HI67u7u3t3dycrKFhcXevXsBQFJS0tPTMykpKS4urq6u7sSJEwAgLy8fEBCQmJgYExOTnp4eGxsrsPPc3NzQ0NCoqKjr169nZ2fHxcUBgL6+flRUVGxsbHx8fEVFRWRkpMBWVCp1/fr1+/bta7UQEWx0RtKZNc+KXjVeZas/9sK7xOK6spK68qh3V231rQHA7AcjCol88X0Si9NwKTOZBGD+g7HIo0adDm8MJOAXx//zPXvw8Zs0LpebX1qYX1rIv/ZIwpn7GamsBlZ+aeG521esjC3EFef3g9R+HXLcjkwjlJWVLS0tiWUzM7P8/PyMjAxpaWkLCwsAcHBwSEpKAgBtbW0jIyMAIJPJQ4YMyc/PBwAajaanpwcAUlJSRkZGRCG/5OTkSZMmqaqqksnk+fPnJyYmAoCMjAzR/NDQ0MBgMMhkwdNRUFCwsLCQlZVttRABAFVC1slkXtjzc02u1VPU/lCeQyx/LM/RV9ICAH1FrU8Vubw6Hyty9ZS0RRAqEiW8MZAAMplsQRuiptQr8/f7uX88CVm7S0ZKprnK1oMtX2W/5/26x2lrcfRf9w9eGTdklEiC/V50XhoRGhpqaGj4/v37Jtd2yhBLDodz/vx5GxubgoICTU1NolBVVZXD4VRUVPCqMRiMS5cu2djY8G9bWlqanJw8fvx4gX3y70pTU7OgoIBYLioqsre3t7S0lJOTW7BgQWeczvdjxeB5Vz/9WVxX1uRaWQmZGlYtsUxn1VIlZQFAVlKG/k8hANSwaqmSzf43Qd0U3hhIgLqKmpSk1Dzr6WM3zTFznjLUwNhr0bomay6futCCZrr34hHi1y3Hd/dzHK31H4tjV8/F+53sp6ErwqiRMF69epWenq6lpdVchU5JI/z8/KhU6uLFi1uo09DQsHHjxpEjR06cOJFXSKfTXVxcnJyciOaKtlBXV4+NjX3w4AGLxbpx48Y3xf19M1DWHdbH5OL7a81VqGtgEO8QACAnKVvLqgOAOhZDTvJ/7TpykrK1LEZnh4pECW8M1FhdPQMAQmJOFpZ9La0q3x8dMX2ETeNq9qOn7lmxddq2JaVV5URJ6tvn9LoaJot5+kb0g1dPm9wKCUeI1oiqqqov/0aMUORhMpm+vr47d+5s4bgd/6RGYGBgdnb2kSNHyGSyhoYGr3uirKyMTCYrKysDAJvN3rx5s5KSkpeXF2/Duro6Z2dnKysrJycnomTNmjVfvnwBgHPnzvHvKj8/X0NDg/+gVCp1+vTp8fHxM2bM4N9KXl6+w0+wpzL7YVAfud4X7A4DgKyEDIVE1puiter6//5An6u+GCjrvi37BAAGyrpZlXkAkFWVt2DgDF6dfso6VzIxmetR8MZAjVXQK3O/5nO5XOJXLnAb15lqMT5iY9AMr6UZn982uRMul9tR3fMIhBpieerUqdDQUP6StWvXurm58X49dOjQrFmztLVb6pHs4DRi//79GRkZx44dI4YsmJiYMBiMp0+fWlhYREZG2traAgCHw9m6dSuFQvH39+fdQ/X19c7OzqampuvXr+ftLSwsjLc8derURYsWrV27VllZ+eLFizNnzgSA3NxcdXV1KSkpJpN569YtGo0msBVqu/iPt2/nPCKWFw6c0UdObf/T3/grJGfdX2A4LaUgncvlLhg4/fL76wCQ/vU1h8uZS5sa9+HWzP4TACDtaxOj8FD3hTcGatLJ6xfcflye9PRPVkPDxjkrE1Ju8q+dYDb6nGfI7J0rn7xL5xUqySlaDhp690VKA7th4fhZ1oMt1//qLfLAeywhcrKlS5fOnj2bv0RRUZG3/Pz584yMjM2bN7e8k45MIzIzM48ePaqnp+fg4AAA2traYWFhQUFBPj4+vAc+AeDevXtxcXE0Gm3OnDkAYG5u7uPjEx0dnZqaWlFRcf/+fQCwtbV1cXHh33nfvn1dXV2J0Q9WVlazZs0CgLS0tOPHj5NIJA6HM3z4cFdXV4GQ2Gz2hAkTmEwmnU63traeP3++m5tbk4UdeB26qXo2s57NJJbrGhhMNrOyvnqImmGgtce0SysAIO7jLU35H07aBgDA1U9/xn28BQANHLbXf/e7j1i1eohDdlWe13/340N9PQzeGKhJfmcP9lZUeX/yHoNZf+Fugv8fIX3VNF+fuGO0YkJucf6ORRuU5BQS/U8Tlf/7MnX69iWSEhK7lrkP7GvA5rDf5n78ceeKzLws8Z5Fj9L+NEJRUZE/bxDw5MmTjx8/EgMPCgsLV6xYsWfPnjFjxggeltcqhZozLnKRuENACHUP907cFXcIqCvi3vjS2YcYf2FJezf5c8GZNta0sbE5cuQI0eQvAGexRAghhLo9cQ00wTQCIYQQ6vbInZlF3L59u7lVmEYghBBC3Z64WiPwGz4RQgghJCRsjUAIIYS6PTKOjUAIIYSQcLpipwabzZ40aRKTyRRZNAghhBASArn9Px2ipdYICoVCoVDq6+uJKSkRQggh1DV10U4NR0fHDRs2rF69uk+fPrwGk759+3Z+YAghhBDq6lpJI/z8/ADgwYMHvBISifTmzZvODQohhBBC7dFFp596+7bpb2ZDCCGEUNchrk6NVsZY7Nq1S6DE39+/04JBCCGEkDBI7dchx20ljbh8+bJASVxcXIccGCGEEELdXbOdGtHR0QDAZrOJBUJubq6ysrIo4kIIIYRQm4lrUupm04jY2FgAYLFYxAIAkEik3r17BwYGiig0hBBCCLVNl3vg88yZMwBw4MCBjRs3ijAehBBCCLVbF31SY+nSpTU1NXJycmw2OyYmhkKhzJo1i0zGL/RCCCGEupAu+qTG6tWrs7OzAWD//v2//fbbyZMnAwICRBIYQgghhLq6VlojPn/+PGjQIACIj4+PjIykUqkzZ87ctm2bSGLrKqz1+4k7BNTl7Ao8K+4QUFekZqUn7hDQd0o8bRGtphFkMpnFYmVlZSkoKGhqanI4nJqaGtFEhhBCCKE26nJDLAnW1tbr16+vqKiYPn06AHz48EFdXV0kgSGEEEKorbpoGuHv73/lyhUJCYkff/wRAMrLy93c3EQSGEIIIYTaqos+qSElJbVw4ULer5aWlrxlOzu7+Pj4zooLIYQQQl1eK2lEC758+dKBcSCEEEJIaF20U6MF4mo/QQghhJCALvqkBkIIIYS6vi46/RRCCCGEUHOEb43gcrkdGAdCCCGEhNZFWyNOnDghUHLy5EliwdfXt1MiQgghhFA7kdqvQ47bShoRFhYmUBIeHk4s2NnZdUgECCGEEPpGZBKpvT8dctxmOzUePXoEABwOJyUlhdd/8eXLFzk5uQ45MEIIIYQ6Spd7UmP79u0AUF9fz/siLhKJpKam5uXlJaLQEEIIIdS1NZtG3L59GwA8PDyCgoJEGA9CCCGE2q2LTj+FOQRCCCHU9XWtNGLatGnXrl0DgHHjxjUezPnnn392elwIIYQQarOu9dVcfn5+xEJwcLAIg0EIIYSQMMQ1m2TTaYSFhQWxMGLECBEGgxBCCKHupJWxESdPnhw5cuSgQYPS09M3bNhAJpP37ds3dOjQJiuXl5d7eHjk5ORISUnp6ur6+vqqqqqmp6d7e3vX19draWkFBwf36tUrKyvL29u7uLhYQkJi8ODBPj4+MjIyaWlpQUFBVVVVADBu3DgPD4/G7TMXLlyIiIjgcrnW1tZeXl5kMvnNmzfbtm3jcDgNDQ3m5uY7duyQkpLi36SoqGjz5s2vX7/W1dW9fPkyUXjz5s1ff/2VyWRyudy5c+c6OTkJefF6nJQjKV9ffW2ob5BRkhk4Y2C/8f0EKrxLevfu6ruG+gbt4drDlg2jSFIAoKa4JvV4atnHMmovqvkSc3UTdXHEjjrXQquZPgvX6/TWLKwoXhbifv/NE/61G2Y6bZntTJWWiX50zeXoDmYDEwB01bROrg22pJnlFOevPe5z668HYooddYory0KGaRuxOWwAKKgqGR36k0CFHZNcFpnPBIBzaQl+N/+ecMikj8GBWZ4D1HQzi7M3xu3JKPwg4rB7MHF1arTSCvL7779ra2sDwL59+5YtW+bi4rJ79+7mKpNIpJUrVyYnJ8fHx/ft23fv3r0cDsfd3d3b2zs5OdnCwmLv3r0AICkp6enpmZSUFBcXV1dXR0yUKS8vHxAQkJiYGBMTk56eHhsbK7Dz3Nzc0NDQqKio69evZ2dnx8XFAYC+vn5UVFRsbGx8fHxFRUVkZKTAVlQqdf369fv27eMvVFNTCw8PT0hIiIyMPH/+/NOnT9t6tXq6QTMHzdg/Y86xOWM2jsm4lFGWVca/tvCvwrcJb8dtGTfzwMya4ppXl18R5Sm/pqjoqNj/aj943uCHoQ8ZVQxxxI460STTMYGOW5eHuissMrH2WvipKId/7RQz661zXCbuXKS7ekw/dZ1fHDYQ5ec3HX6e9arX0qHb/9gb7f5rb0VVccSOOpFn4gH93VP0d09pnEM4DrOfNnDshCPLxocvnWI4eqmFPQBIUiROOQRE/5VMC5gW9eLaKYcASQp+PWSHEdf0U62kEdXV1QoKCnQ6/d27d0uWLJk/f35WVlZzlZWVlS0tLYllMzOz/Pz8jIwMaWlpoovEwcEhKSkJALS1tY2MjACATCYPGTIkPz8fAGg0mp6eHgBISUkZGRkRhfySk5MnTZqkqqpKJpPnz5+fmJgIADIyMkTzQ0NDA4PBIJMFT0dBQcHCwkJWVpa/0NTUVF1dnVjbv3//vLy81q7S90JJW4loYCDmMan5WsO/9vP9z/rj9JW0laTkpIzsjT7f/wwA1QXV5dnlxnOMJaQktIdrK2krfXn6RQyho870y8INvhcOP36fzuVy88uK8suK+NcuHT/nxK2o17mZFTVVfhdDlk2YBwADNPTN+xn7RB5kMOsvpyS9zH43d6StmMJHYrDQzDb8UWRBVXFhdUn4w8iFZtMBwEpvqASZcjTlApPNOv44mkQijdEfJu5Ie44umkZoaGikpaUlJiZaWFhQKBQ6nU6hUFrdKYfDOX/+vI2NTUFBgaamJlGoqqrK4XAqKip41RgMxqVLl2xsbPi3LS0tTU5OHj9+vMA++XelqalZUFBALBcVFdnb21taWsrJyS1YsKDV2Ph9/PgxPT195MiR7dqqZ3v2+7NLKy8lbUmSUZbpY9qHf1VlXqVyX2ViWVlHmVHJqK+ur8yrlFOTk5SV5JVXfakSddCoM5HJZIv+g9UUVTPD7uRGPAxZ+YuMlDR/BWMd2ovPb4jlF5/f9FFRU5VXNtYZ8Kkol86o4ZUb69BEHTrqZNsnrn7jkZDg9OtoPcGebkM1/Vf/dFi8KvowUE2fKHxd9JFX5/U/5ahbayWN8PDwWLdu3ZEjR1xdXQHgzp07gwcPbnWnfn5+VCp18eLFLdRpaGjYuHHjyJEjJ06cyCuk0+kuLi5OTk5Ec0VbqKurx8bGPnjwgMVi3bhxo41bAcDXr19dXV19fHyIlglEGLZs2Oxjsydsn6BtoU2R+FfK2FDfIEn9O10g8oYGRgN/IVHewGgQZcCos6kr9ZaSlJo3atpYrwVmm2YM7WfkNc+Nv4K8DLWytppYJhYUZOXkZeR4hUS5ggzOo9+j+N0IH35ogem+2WeexZ39T6Ceiib/Wjkp2ap6OrFcxaiRl6YKFAJA9T/lqEN00a/mGjdu3P3792/fvm1iYgIAtra2vK/mak5gYGB2dvbBgwfJZLKGhgave6KsrIxMJisrKwMAm83evHmzkpIS/9TadXV1zs7OVlZWvDGPa9assbe3t7e3p9Pp/LvKz8/X0NDgPyiVSp0+fXp8fLzAVs0FWVpadrje/gAAIABJREFUunz58pUrV06bNq3l0/kOkclkNUO12rLaD7f/NfpJQlqioe7vFIFVxwIACRkJ/kKiXEIGOzt7lDomAwBCEk8VlheXVpfvjzsx3fxfjYV0Rq2irAKxrCgrDwDVdTV0Rg2x/Hc5Vb6a8a8+MtTdpeW9rmHWMdmsqBdJqbkvJw4Yxb+2hlmnIP134qggLUevrxUoBAD5f8pRhyADqb0/HXTcpnz58nf3du6/FRYWFhYWtrC7/fv3Z2RkhIWFEUMWTExMGAwGMYYxMjLS1tYWADgcztatWykUir+/Py8bqq+vd3Z2NjU1Xb9+PW9vYWFhsbGxsbGx8vLyU6dOvXnzZllZGYfDuXjxIvH2n5uby2QyAYDJZN66dYtGowls1WSQ5eXly5cvX7Ro0fz589t3tb4nXA5XYGyEkpZSRc7ffVIVuRUySjLSCtJKWkr0YjqRVRDlitqKoo4VdaaKmqrcknzuP7/yvqiP51XOe1O9QcSyqd6gwvLiMnrFq5zMfuo68v+0QJjqDnqV815EESOR43K5Ah9t3xVnGasbEMvGfQzeFmcRhUbq/Xl1jNT7E+WoQ4irNaLpD452dnbPnz8HgMmTJ5NIJP5/HCQS6c2bN01ulZmZefToUT09PQcHBwDQ1tYOCwsLCgry8fHhPfAJAPfu3YuLi6PRaHPmzAEAc3NzHx+f6Ojo1NTUioqK+/fvA4Ctra2Liwv/zvv27evq6kqMfrCyspo1axYApKWlHT9+nEQicTic4cOHEz0v/Nhs9oQJE5hMJp1Ot7a2nj9/vpub27Fjxz5//hwVFRUVFQUAjo6Oc+fOFe7y9SSMKsbX1181zDQoUpSvGV9zHuWMdP3XqBHdMbpPIp7ojNaRVZZ9E/tGb4weAChoKCjrKL+KeTV47uCCvwoqcyu13bTFdAaos5y8He023THp+V1WA2uj3YqEZ7f5156+e/n3tXvP3YvJLyvymr/29zvRAJBZkJX++bXPwvVef+ydZj5+iN7AucEuzewedT+KMvLDtIweZqc3cNg/GtuM1DXdnnSIv8KFF0nOoxbezHzEBa7LKIcTqdEA8ODzczaHs8py/qmnMYuH2QHA/axn4jmBnkhck2GTGn+2QAJ2PN4h7hBEgVHFeBTyqCK3gsvhyvWWM5hs0H9C/5qSmmTP5Kl7psr1lgOAd9fevb36ls1kC84bEfHPvBGO38u8EbsCz4o7BNGRoEgcWuH901h7BrP+wsOrHqf3/KDU+/Wh60brp+SW5APARrsVW2Y7y0pJX0pJcj7ixZs34ne3vZYDzHJK8tdEeH8n80aoDdESdwii0Iuq/Mei4AG9ddlcdmZJTuDtiLufnlrqDIlcvFd/9xSijvdkl0XmdgBwLi3e9wZv3ogBB2ZtpanpZZZ83hAbkFGYKbZzEK2vO+939iE8H21r7yZ7RjU7gwPB1dX1y5cvZDKZSqXu2LFj0KBBjeu0kkbcvHlz/PjxEhLfdW/3d5JGoHb5rtII1HbfSRqB2ksEacS2R9vbu8nuUf4tVyAmfQCAmzdvhoWFXblypXGdVvKDkJCQbdu2TZ482c7ODh+MRAghhLomIcY6VFVVEZNH8ygqKioq/m98G5FDAACdTm9u/62kEbGxsR8+fIiPj/fy8mIymdOnT585cybx1AZCCCGEugghxkacOnUqNDSUv2Tt2rVubv96onv79u0PHjzgcrnHjx9vciftGBuRnp5++PDhR48eNTfEsqfCTg3UGHZqoCZhpwZqkgg6Nbwf+7R3k82D/q/l1giemJiYq1evRkRENF7VpkEPBQUFV69eTUhIyM/PJx6vQAghhFC31lzS0NiPP/7o7e1dXl6uoqIisKqVNOLcuXMJCQlv374dN27c2rVrra2tBb5CEyGEEEJi1+EPfNbU1FRVVRGTPd6+fVtJSYmYQFJAK2nEn3/+uXDhwsmTJ8vJ4US2CCGEUBfV4V8UXldXt379+rq6OjKZrKSkdOTIkSYP0Uoa0WRHCMHOzo6YfBohhBBC4kXqoMmteXr37n3hwoVWq7XynRot4E2YjRBCCKHvk/DzSnV4+wlCCCGEhCOuybC/6+kpEUIIoZ5BXJ/tMY1ACCGEuj3yN4xS+BbCpxH4nV4IIYRQFyGu1ohWkpcTJ04IlJw8eZJY8PX17ZSIEEIIIdRNtJJGhIWFCZSEh//9fa92dnadEhFCCCGE2onUfh1y3GY7NR49egQAHA4nJSWF13/x5csXnIcKIYQQ6mrIHT1vRBs1m0Zs374dAOrr67dt20aUkEik3r17e3l5iSg0hBBCCLVNl3tS4/bt2wDg4eERFBQkwngQQggh1G5ddN4I/hwiJSWFQqEMHz68k0PqcvAroVFjH08liTsE1BXtTzsm7hAQEqlWhlguXrz42bNnAHDs2LFNmzZt2rTpyJEjIgkMIYQQQm1FAlJ7fzrkuK2kEZmZmWZmZgBw8eLF06dPX7hwITIyskMOjBBCCKGOQiaR2/vTIcdtpVODw+GQSKScnBwul2tgYAAAlZWVHXJghBBCCHWULjfEkjBs2DBfX9/i4uLJkycDQE5OjoqKikgCQwghhFBX10qbxp49exQVFQ0NDd3c3ADg06dPjo6OIgkMIYQQQm0lrrERLbVGsNnsgIAAPz8/KSkpomT8+PEdclSEEEIIdaCu+MAnhUJ58OCBuLpbEEIIIdRGHdW60F6tdGosXbo0JCSExWKJJhqEEEIICYFMIrX3p0OO28oQy7Nnz5aUlJw8eVJVVZXXLPHnn392yLERQggh1K21kkYEBweLJg6EEEIICY3UQfNAtFcracSIESNEEwdCCCGEhCausRFNpxHh4eEuLi4AcOjQocZr169f37lBIYQQQqg9utaTGiEhIUQakZOTw3vaEyGEEEJdU9eaxVJGRoZYuHPnTlpamgjjQQghhFC30XQaoaOjExAQYGBgwGazL126xOVy+dfOmzdPJLEhhBBCqE3IXWpsxIEDB44fP3716lUWixUTE8O/ikQiYRqBEEIIdSldq1NDX1/f398fAJYuXXrq1CnRhoQQQgih9hHXA5+tHBVzCIQQQgg1p5V5I9D3ZqHVTJ+F63V6axZWFC8Lcb//5gn/2g0znbbMdqZKy0Q/uuZydAezgQkAumpaJ9cGW9LMcorz1x73ufXXAzHFjjpFXFTCzYTbWR8+j59q/X87NzSucOVc7MXTlxiM+jE2o9d6ukpJSQJAUX7R/l8Ov8t4p9ZHzdVj9VBLM5EHjjrXyxPPy96UsJlsaUVp3an9tcfq8K/Nf5ibc/tz7dcaCRmJPiM0DWYPJFPIAPB078PKTxUkCgkApJVlrPwmiCf6nqhrjY0QTnl5uYeHB/GMqK6urq+vr6qqanp6ure3d319vZaWVnBwcK9evbKysry9vYuLiyUkJAYPHuzj4yMjI5OWlhYUFFRVVQUA48aN8/Dw+P/27j0upvR/APhnZrpO00UuKV1VUxKSUkSUW6WaCpU77bK5hg0h5U7uS7Eu+/3yWxaFJKzcFkslaVmXVJIuulGmmmamaWbO749j5ztbWWqrMfV5v/rjzHM/M1N9znOec07j0zyxsbFHjhwhCMLZ2Tk8PJxKpWZmZq5evVosFguFQltb27Vr1za4PLWsrCw0NPTFixdGRkbnz58nEz9bq9MaPWBY1IywgF0L03Ke6Hbp0SB3rI1zmN8818gpxZVl8SsPrQ9csurEdgA4tWxfSlaGx+bZHrYuZ5cfMF/g8r66UhbDR22ia3ftwG/8H6VkCOoEjXMfpWTEHj+77eBm7e7aG0O3nDj0S9CimQCwbc3OPv0sN/wQ8fD+o80ro47G/6jVRbPdx47akIm7Wd8Z/amKtNoSTvquFA1DDQ0jLUmuSCCyCLDSNOkiqKl7HJOef+21ibsZmWUx2bpBzIFahazWRrTmqRQKhfLtt98mJSUlJiYaGBjs3LlTLBYvX748IiIiKSnJzs5u586dAKCoqLhq1aqrV69evHiRx+P99NNPAMBgMLZt23blypULFy48fvw4ISGhQeOFhYXR0dFnzpy5du1afn7+xYsXAcDExOTMmTMJCQmJiYlsNvv06dMNatHp9JCQkF27dkknfrZWp7U+YMmG2H0Psh8TBFFcWVZcWSadO3Ok3083z7wozGHXVm+M2z/LZSIAmOua2PbuG3l6L19Qdz716tP8rAmObjIaPmoTTq5Dh4501NDUaDL3xqVb41hjjEwN1TUYk78NuHHpJgAU5b999TJ32neTlVWUh40aamxmdP9mcvuOGrU5hp46VZEGAOQxMPcdVzrXYKRxF/OuVAWqShdVXYde7Fw8tGhzFKA096dV+m3NMEJLS8vBwYHctrGxKS4ufvbsmbKysp2dHQAEBgZevXoVAPT19a2srACASqX279+/uLgYAJhMprGxMQAoKSlZWVmRidKSkpJGjx6tra1NpVInTZp05coVAFBRUSEnEoRCIZ/Pp1Ib7o66urqdnZ2qqqp04mdrdU5UKtXOtF93De2cmN8KjyTv/3a9ipKydIG+hswnbzLJ7SdvMnt26a7N0OpraP66rJDDr5Wk9zVktvfQkezkvy4wMTcht3szTT5UsKvZ1fmvC3R79aSr0T+mmxvnvy6Q3RhRW8k8+fTmgivJEbeVNZW7WTecv5T4kF3B0FOXvHwV//L20qS0qPuVWe/bZZidBaX5WqXfNvkPKhaLT5065erqWlJSoqenRyZqa2uLxWI2my0pxufzz5075+rqKl23oqIiKSlp5MiRDdqUbkpPT6+kpITcLisrY7FYDg4Oampq/v7+XzjCltXq2HQ0uykpKk0c4j483N9m2fiBva3CJy6SLsBQoVdxa8htckNdVY2hoiZJJNPVVdTac9hItnhcvhrjY7hAbvC4PD6XT/8rEQDoDDUelyeb8aG21GdqP9f97nbLh/aw1aUqNP3f5O29gur8KqMxpuRLc78+w7a4Om8frT/c8HH0Q255bTuOF7WJNgkjNm7cSKfTp02b9g9lhELh0qVLHR0dR40aJUnkcDjz5s0LCgoipyu+hI6OTkJCwv379+vr669fv96mtTo2noAPAPuvHC/98K6i5sPuiz952P4tmOPwuRqqHw8pNFQZAFDDq+Xwa8ntj+l0Rg0f/y50Iqp0FW7txxCBy+ECgCpdVUUqEQC4tVxVumrT9ZGco1ApXcy1+R94RXfyG+eW/1H6Kv7lwMWDldQ/rj/T7N1FQUWBqkjTG2qgZab9/ll5+463I6MCpbk/rdRva4uKisrPz9+7dy+VStXV1ZWcnqisrKRSqVpaWgAgEolCQ0M1NTXDw8MlFXk8XnBwsJOTU1BQEJmyYMECFovFYrE4HI50U8XFxbq6utKd0ul0Dw+PxMTEBrX+eajStRC7trrwfbHkfqUNbl0KAM8LsgcY9yG3Bxj3Kf3wrpLDfl6Q01vHkPHXDMQAoz7PC7LbacToK2DU2/B1dh65/Tonr0tXLQ0tDaPehqVvS7m1H0+W5+XkGfXGJXUdGSEmuO8aHj+8f1b+4uc/bRbaq+s3vbAGAKDhnxnUchQKtbk/rdJvK4cRu3fvfvbsWUxMDLn4wNrams/np6enA8Dp06fd3NwAQCwWh4WF0Wi0zZs3S87N1NXVBQcHDxgwQPrxoTExMQkJCQkJCQwGY9y4cTdu3KisrBSLxXFxce7u7gBQWFgoEAgAQCAQ3Lx5k8lkNqjV5CCbrIUA4L+3zi7ymNFds6uWmsZSr28uPbolnft/d85/M8q/j76ZJl09fNLCY7+dBYCckrzHb15EBoQoKyr5OIztb2x5LvWqjIaP2oRIKBLUCcRikVgkFtQJREKRdO6o8S7XLl7Pf13AqeGc/il2tOcoANA36tWbaXLyyGlBneD+byl5OflOo4bKaPioTQiq60rT3gr5QkJMvH9eXppWrG3ZTbpA5cv3z376Y0DwIE2TLpLEem79++flonqRWCQueVD0Iaeyq3X3dh97hyWrJZaUxgedLZaTk+Pp6WlsbEw+2UtfXz8mJiYjIyMyMlJywWe3bt1u37793XffMZlMcm2jra1tZGTkyZMnN23aJPmP7ubmRj5iVNrp06ePHj0KAE5OThERETQaLSEh4ejRoxQKRSwW29vbr1y5UvJQMZJIJHJxcREIBBwOR1tbe9KkSYsWLfpsrYbvkZ9Ja71FXzkFmsIP30RMGc7iC+piky+v+L+tPTS7vfjhmlXI2ML3xQCw1Oublb7BqkrK51KvBv8YLrlvxLFFOx3MbQreFy84EtFJ7huRe7yzREsnDv1y8sj/rmaaOidwLGvMd5MWHIqL6dGzOwCcP3Eh7v/O1dUJGtw3Yte6H7KeZ3fX6b5gZSe6b8TujMOyHkJ7ENTUPfnxEaeomiBAVVvVYJSx/nAjXgUvZd3tIetGqnZVTd+Zwn5VSVX8eKSqZaZtG+IgqKn7Y19abSmHQqWo9WSYsiy6WnWWMCJ6xK7PF/p3YnNPNLeKv+k/rT34Qq0ZRnRUnSeMQF+u84QRqFk6SRiBmqsdwoi41yebW2VS76n/vl+8iyVCCCEk91rrJEVzYRiBEEIIyb2v6wmfCCGEEJIjsnqmBt7AESGEEEIthLMRCCGEkNxr9ZMaTT5us3ExnI1ACCGE5B4FqM39+UyDjR632WQxnI1ACCGE5F4LZiOqq6urq6ulUzQ0NDQ0Pt51tMHjNk+dOtVkIxhGIIQQQnKvBRd8Hj9+PDo6Wjpl4cKFixYtalBM8rjNJhvBMAIhhBDqjGbOnOnr6yudIpmKkPbPj9vEMAIhhBCSe9Tmn9SQPoXxKeTjNn/88Ufy+RWNYRiBEEIIyb22uIsl+bjNw4cPk4/bbBKGEQghhJDca/ULPnNycg4dOmRsbBwYGAh/PW6zcTEMIxBCCCHUkLm5eVZW1meLYRiBEEIIyb3P3geijWAYgRBCCMk9fDQXQgghhFpIVo/mwjACIYQQknuymo3AZ2oghBBCqIVwNuLzeHHPZT0E9NUx3DhW1kNAX6M+lkayHgLqpNrivhFfAsMIhBBCSO7hEkuEEEIItRBe8IkQQgihFmrBMzVap1+Z9IoQQgihDgBnIxBCCCG5h0ssEUIIIdRCuMQSIYQQQi0kq9kIXBuBEEIIoRbC2QiEEEJI7uFJDYQQQgi1EBXvG4EQQgihlsHZCIQQQgi1EC6xRAghhJCcwdkIhBBCSO7hSQ2EEEIItRDexRIhhBBCLYRhBEIIIYRaCp/wiRBCCCH50pqzER8+fFixYkVBQYGSkpKRkdGGDRu0tbUfP34cERFRV1fXq1evHTt2dO3aNS8vLyIi4t27dwoKCv369YuMjFRRUcnIyNi+fXt1dTUAjBgxYsWKFY1Xi8TGxh45coQgCGdn5/DwcCqVmpmZuXr1arFYLBQKbW1t165dq6SkJF2lrKwsNDT0xYsXRkZG58+fl86qq6vz8/NTVlZukN6ZVbGrIteuT0lO6aKltXjpYg9Pd+lcgiD27t4XfzYeAHwn+i5Ztpj8jF5mZq1buz7vdZ5Jb5N1GyMt+1jIZvSozcTP2j9I30okFgFASfX7odFTGhRYO3reVFtPADiZcWnjjYNkonVPsz3eq8y7G+W8y196ceuz0lftPGzUDnoxdP7rvu1OYdrm1IMNsr4bEDi+90gAuPz69qEnp8lEMy2jFYPnGGno5VcXb0878oqd394j7rg6wgWfFArl22+/TUpKSkxMNDAw2Llzp1gsXr58eURERFJSkp2d3c6dOwFAUVFx1apVV69evXjxIo/H++mnnwCAwWBs27btypUrFy5cePz4cUJCQoPGCwsLo6Ojz5w5c+3atfz8/IsXLwKAiYnJmTNnEhISEhMT2Wz26dOnG9Si0+khISG7du1qPNo9e/YMGDCgFXe/A9iyaauiouJvd29u2b5l84Ytr3JypXPPxp777eZvcfFn4i7E3v3tTtyZswBQL6hfsnDJeC+P31PveLE8lyxcUi+ol9HwURtadWWPyZaxJlvGNo4hZgxiuVsOd/lx1siDM8daDJ1pxwIARZrC8cBtZ/9MYm5zP/Pk1+OB2xRpeAq1A1pqNzur8nXjdC9T12G9Bn1zdXXQ1VVD9Wy9TUcBgAKVtnn4sutv7nmen5uU9/vm4csUqLR2H3KHRWm+Vum3NcMILS0tBwcHctvGxqa4uPjZs2fKysp2dnYAEBgYePXqVQDQ19e3srICACqV2r9//+LiYgBgMpnGxsYAoKSkZGVlRSZKS0pKGj16tLa2NpVKnTRp0pUrVwBARUWFnH4QCoV8Pp9Kbbg76urqdnZ2qqqqDdLT09PfvHnDYrFacfflHZfLu3Ht5oLF8+lqdNtBA0e4jLiUeEm6QGJC4oxZ03V66ujo9Jg+e/rFC4kA8PBhulAkmjZjqpKS0tTpUwgC0h6kyWgPkGwE2LgdTDldUv2utOb9weTTATYeAOBkPFCBSjuUGisQ1R99cJZCoQwzGSTrkaJW5mroyBHUPip73jjLzWR4bNaVd7zK97wPZ7Iuu5k4A4BNDysahRqXfbVeLDyXk0QBsO3Rt91H3WFRgNLcn1bpt03WRojF4lOnTrm6upaUlOjp6ZGJ2traYrGYzWZLivH5/HPnzrm6ukrXraioSEpKGjlyZIM2pZvS09MrKSkht8vKylgsloODg5qamr+//5cMj8vlbtmyZf369S3bu44q/02+goKCsbER+dLCgpn76m8HGbmvXjMtmFK5uQCQ+yqXyTSXRLXmFuavXv1tDgN1DGtGfZe54tKloANDjQc2yLLobvL8rxMWz8teWXY3IRNflP3vm/Dir3TUYdAVVIOsJ8b8cbLJXGMN/VcfCsjt3A8FJpq9AMBEo9drdqGkTC670FhTvx2GitpUm4QRGzdupNPp06ZN+4cyQqFw6dKljo6Oo0aNkiRyOJx58+YFBQWR0xVfQkdHJyEh4f79+/X19devX/+SKtu3b58yZYqOjs4XdtFJ8LhcNTU1yUuGOoNbWytdgMvlqqszPuYyGFwulyAILpfL+CsRANQZDG4tt30GjNrNxusH7X/wH7DL9+dHF09MjjLuoiedq6akWl3HIber+bUMZXqDRACo+SsddRjf9Jt4+fXtd7zKJnNVFVRq6z/+KeDUc+mKqgCgqqjCqf/f34faei5dUaUdhtpJdJzZiKioqPz8/L1791KpVF1dXcnpicrKSiqVqqWlBQAikSg0NFRTUzM8PFxSkcfjBQcHOzk5BQUFkSkLFixgsVgsFovD4Ug3VVxcrKurK90pnU738PBITExsUKvJET569OjAgQOurq7Lli3Lzs728vJq7fdALqnS6bVScQOHw6FLRRUAQKfTOZyPBWpra+l0OoVCodPptRypWrW1dDX8b9HRZLx9USvgCUT1Z55cTSt8Osp8iHRurYCnrvzxq6KurMap4zZIBADGX+moYzDTMhrU0zou+9dPFeAJ+WToAABqiqrceh4A8Or5aor/O8WspqjKree39VA7j46wNgIAdu/e/ezZs5iYGHLJgrW1NZ/PT09PB4DTp0+7ubkBgFgsDgsLo9FomzdvluxGXV1dcHDwgAEDQkJCJK3FxMQkJCQkJCQwGIxx48bduHGjsrJSLBbHxcW5u7sDQGFhoUAgAACBQHDz5k0mk9mgVpODTExMvHXr1q1bt3bv3s1kMsngAxkZGwmFwvw3HxdOZ2dlm5r1li5gatY7Oyub3M56mW1qZgoApmam2dk5BEGQ6TlZ2WZmpu04atTeCIJo8Ncn611eXx0zcrtvT7OX7/LIRCud/30TrHRMyXTUMdj06NNTrVus177zrJgAi/Ej9AcfGbtJusCb6iIzrY9nSM20jPKq3gJAXvXb3lqGkjK9tQzfVBW157A7NlnNRrTm2umcnJxDhw4ZGxsHBgYCgL6+fkxMzPbt2yMjIyUXfALA3bt3L168yGQy/fz8AMDW1jYyMvLs2bNpaWlsNvvevXsA4ObmNm/ePOnGDQwM5s+fT65+cHJy8vb2BoCMjIyjR49SKBSxWGxvbz9//vwGQxKJRC4uLgKBgMPhODs7T5o0adGiRa24yx0Jna46aozrgeiDkRsis15m3b515/jJY9IFPL09fz5+YpjzMAoF/u/Yz5OnBgKAvb0djUr95cSpSQETz8WdB4DBDoNlswOobWioMAb1skrOfywUi3z6ujoaDVhz9QfpArFPrgYPCbiRk0IAMW9I4E9pZwHg/ps/RGLxHIdJx9MvTBvkBQD38h7JZgdQG0jMvXWrIIXcDrAc31Ot++70/0gXSMq752/hnlrymCAIf0uP89nXAOBx+QsxIZ7AHHfx1U1PUxcAyChvYnkmahlZXfBJkRxHok/hizrLZGwVuyoyfF1KSqqWplbIssUenu4Z6Rnzv1uY+igZyPtG7Prh/Nl4APCb6Lvk+xDyqDTzxcv1ERte574m7xvRx8pSxrvRLgw3jpX1ENpJV7rWL1N3mHczEhGinPcFUbeO3Hmd7mDY//S0nSZbPr4JEWPmTbX1AoCTGYkbrkvuG2G+xzuM2d045/2bJQnbnpXmyGwf2lEfSyNZD6G9zbL268XQ2Zx6sH93iyjnFe7nviHTgwdMltw34scnp8hEcy2j5YPnGGv0yq9+uz3tSE6nuW/EncCm16K2oqeVzY7U+2m3wvVTGEZ8XucJI9CX6zxhBGqWThhGoC/RDmHEsw8Zza1i3cX23/eLN4RBCCGE5B4+mgshhBBCLdRaV140F4YRCCGEkNzrCM/UQAghhFCngrMRCCGEkNzDtREIIYQQaiFcG4EQQgihFsK1EQghhBCSMzgbgRBCCMk9nI1ACCGEUAu1+hM+o6KiXF1dLSwssrOz/6EYhhEIIYRQB0Bp/s8/GTVq1MmTJ3v16vXPxfCkBkIIIST3WnClRnV1dXV1tXSKhoaGhoYGuW1nZ/cljWAYgRBCCHVGx48fj46Olk4Zo81bAAAbVElEQVRZuHDhokWLmtUIhhEIIYSQ3GvBEsuZM2f6+vpKp0imIr4chhEIIYSQ3GtBGCF9CqPFMIxACCGE5J6s7mKJV2oghBBCco8ClOb+/HODmzZtcnZ2Li0tnT179vjx4z/ZL0EQrb0vHQ1fxJX1ENBXZ3P6VlkPAX2N8tiVsh4C+hqdGBfT1l3kc141t4oRw+zf94snNRBCCCG5h0/4RAghhFAL4RM+EUIIIdRC+EwNhBBCCMkZnI1ACCGE5B6e1EAIIYRQC+ESS4QQQgi1GIYRCCGEEGoR2QQRuMQSIYQQQi2GsxEIIYSQ3MMllgghhBBqMQwjEEIIIdQislobgWEEQggh1AHgXSwRQgghJFdwNgIhhBCSe7JaYomzEQghhBBqIZyNQAghhOQePuETIYQQQnIGZyMQQgghudcRHs314cOHFStWFBQUKCkpGRkZbdiwQVtb+/HjxxEREXV1db169dqxY0fXrl3z8vIiIiLevXunoKDQr1+/yMhIFRWVjIyM7du3V1dXA8CIESNWrFjReLVIbGzskSNHCIJwdnYODw+nUqmZmZmrV68Wi8VCodDW1nbt2rVKSkrSVcrKykJDQ1+8eGFkZHT+/Hky8cGDB3PnzjU2NgYAJSWluLi4VnwT5FoVuypy7fqU5JQuWlqLly728HSXziUIYu/uffFn4wHAd6LvkmWLyc/oZWbWurXr817nmfQ2Wbcx0rKPhWxGj9pM6o+p5c/LhXVCFU0Vy/GWvUf2blAg62pW1uUsYZ1Q315/0KxBNEUaANS+q007mlaZW0nvSredbqtjrSOLsaO2Mq/fzL5dLZRpSuy66st5N26/TZbOHa7nOMd6qkBUT77clXEw80MOAHRT0Z7bb7qppnEFr/J4ZuzzyiwZDB21KgpBEK3VFpvNzsrKcnBwAICoqKiqqqpNmzaNGzdu69atdnZ2Bw4cKCws3Lp1a1FRUXV1tZWVlVgsXrZsmbm5+YIFC7Kzs5WUlIyNjQUCwcyZMwMCAnx8fKQbLywsnDp16oULF7S0tObMmePl5eXj48Pn86lUqpKSklgsDgkJsbe3nzFjhnStmpqarKwsDoezb98+6TAiKipK8vKz+CJua7w9cmBlaJhYTKzfGPnyZdaieYuPnzxmZm4qyY07c/bn4yeO/OcQUCjB3wRPnjbZP3BSvaDey9176oypAZP9486c/fnYz4m/XlRUUpThXrSPzelbZT2E9lNVVMXQYdAUadXF1be33h62bJi2ibYkt/TP0geHH4wMG6naRfX+D/e7mnbtH9AfAG6uv9nVrKv1JOvSJ6UPf3rovt1dRUNFdjvRTvLYlbIeQjvppaZbxn0nJIS6ajpr7JfszDjwprpQkjtcz3Gk/tCNabsb1Ip0+P4VOy82J9Gme99v+04N/X19TT2nfQcuGyfGxbR1FxV1Zc2t0lW5FYL71lwboaWlRcYQAGBjY1NcXPzs2TNlZWU7OzsACAwMvHr1KgDo6+tbWVkBAJVK7d+/f3FxMQAwmUzJ9ICVlRWZKC0pKWn06NHa2tpUKnXSpElXrlwBABUVFXL6QSgUkiFFg1rq6up2dnaqqqqtuJsdFZfLu3Ht5oLF8+lqdNtBA0e4jLiUeEm6QGJC4oxZ03V66ujo9Jg+e/rFC4kA8PBhulAkmjZjqpKS0tTpUwgC0h6kyWgPUFvR1NckJxjISdPa8lrp3Df33piMMNHU11RSU7JiWb259wYAakpqPuR/6OvXV0FJQd9eX1Nfsyi9SAZDR23mbW2JkBACABAEAKGj2v2zVXrSexhrGJx7dbleXP+w7HERp9hex6bNB4raWJusjRCLxadOnXJ1dS0pKdHT0yMTtbW1xWIxm83W0tIiU/h8/rlz55YtWyZdt6KiIikp6fDhww3alG5KT0+vpKSE3C4rK5s7d25BQcGIESP8/f2/cIRv3rzx9fVVUFCYMmWKr69vy3azg8l/k6+goGBsbES+tLBgpqc/ki6Q++o104Ipyc19lQsAua9ymUxzyRkocwvzV69ynYY7tePAUXt4dOzRm3tvRAKRlpFWzwE9pbOq3lbp2X783dQy1OJX8etq6qreVql1V1NUVZSkVxdVt/egURub1SdgeC9HZZrSm+qCx++fN8g1Utc/6BLFqa+9X5x2Me+amBDrM3TLuRV8UR1ZIL/mrT5Dt91HjVpZm4QRGzdupNPp06ZNu379+qfKCIXCpUuXOjo6jho1SpLI4XDmzZsXFBRETld8CR0dnYSEBC6Xu3z58uvXr48fP/6zVfr27Xvnzh11dfXCwsLZs2fr6OgMHTr0C7vrwHhcrpqamuQlQ53Brf3bQSeXy1VXZ3zMZTC4XC5BEFwul/FXIgCoMxjc2s5yDqhTGTRr0MAZAytyKt69fEdToElnCeuEivSP4QIZNwj5QulEMp33gdeeA0bt4FjmmeOZseZavftomwvF9dJZLz/krEre/J5X2Yuhu2hAkIgQJ+ZdU6Yp84T/+xrw6nldVLTafdQdVse54DMqKio/P3/v3r1UKlVXV1dyeqKyspJKpZJTESKRKDQ0VFNTMzw8XFKRx+MFBwc7OTkFBQWRKQsWLGCxWCwWi8PhSDdVXFysq/u3GJZOp3t4eCQmJjao1eQIGQyGuro6ABgYGIwePTojI6OV3wL5pEqn10rFDRwOhy4VVQAAnU7ncD4WqK2tpdPpFAqFTqfXcqRq1dbS1ejtM2DUzqhUaneL7txK7qtbr6TTFZQVhDwhuV3PqwcABRUF6UQyXUEFrwvrgAggstm52ipaowycpdPf8Sre8SoIIIo4xfG5vw7WGQgAdaI6VYX/rY9RVVDhC/ntPeKOjNL8n1bQymHE7t27nz17FhMTQy5ZsLa25vP56enpAHD69Gk3NzcAEIvFYWFhNBpt8+bNksnwurq64ODgAQMGhISESFqLiYlJSEhISEhgMBjjxo27ceNGZWWlWCyOi4tzd3cHgMLCQoFAAAACgeDmzZtMJrNBrSYHWV5eTi4sZbPZ9+/ft7S0bN03QU4ZGRsJhcL8N/nky+ysbFOzvy3INzXrnZ2VTW5nvcw2NTMFAFMz0+zsHMlC3ZysbDMzU0AdFyEmGqyN0OylyS5gk9vsQraKpoqyurJmL03OOw4ZVZDpGvoa7T1W1F5oFKoOvduncgkgyL/0RZyS7qrdVGjKZLqhun4Rp6R9RtgZyCaIaN0wIicn59ChQ+Xl5YGBgSwWa8GCBVQqdfv27evXrx87duzDhw+///57ALh79+7Fixezs7P9/PxYLNb69esB4OzZs2lpaffu3SMnEg4ePNigcQMDg/nz5/v7+48dO1ZfX9/b2xsAMjIyJkyY4O3t7efnp6mpOX/+/Aa1RCKRs7NzSEhIdna2s7Pz/v37AeDatWuenp4sFmvatGksFmv06NGt+CbILzpdddQY1wPRB7lc3h8Zj2/fuuPp5SldwNPb8+fjJ8rKysvLy//v2M/ePl4AYG9vR6NSfzlxSiAQnDp5GgAGOwyWzQ6gtsGv5hekFtTz68VicemfpQUpBT2sekgXMBpmlHc3r+ptlaBWkJmQaTzMGADUddW1DLWeX3guEoiK0ouqCqv07fRltAeo9WkoMRx7DlKmKVOA0q9rH8eeds8r/nbpZv9uVhpK6gCgq6bj09v9UflTACjllhfUFPmaeihSFex6DDBQ13tY9lg2O4BaT2te8NlRdZ4LPqvYVZHh61JSUrU0tUKWLfbwdM9Iz5j/3cLUR8lA3jdi1w/nz8YDgN9E3yXfh5CTSZkvXq6P2PA69zV534g+Vp1idqfzXPDJr+an7E9hF7IJMaHWTc1sjJmpi2nt+9qkVUnjto5T66YGAFm/Zr28/FIkEDW8b8SRv+4bMaOz3Deik1zwqa7IWGzzraF6LyqF8p5XmVRw+3ZRcleVLlFOa1fe31jB/zCZ6TtMb7AyTblaUHO/JO1C7q8iQgwA3VS0vyPvG8H/cOzFmc5z34h2uOCTLXjf3CpaSp+cQ/pyGEZ8XucJI9CX6zxhBGqWThJGoOZqlzCiorlVtJS6/vt+cdETQgghJPdkc50GhhEIIYRQh9BRLvhECCGEUCeBsxEIIYSQ3Gv8PMv2gbMRCCGEEGohnI1ACCGE5J6sboaNYQRCCCHUAeBJDYQQQgjJFZyNQAghhOQe3jcCIYQQQi0kqys1MIxACCGEOgBcG4EQQgghuYKzEQghhJDcw7URCCGEEGoxPKmBEEIIoRahNN9n28zLywsICBg3blxAQMCbN2+aLINhBEIIIYSaEBkZOWXKlKSkpClTpkRERDRZBsMIhBBCqDOqrq4u+rvq6mpJbkVFxYsXLzw9PQHA09PzxYsXlZWVjRvBtRGfp0Kjy3oI6Kuz0WGjrIeAEEL/o0pTa26Vo8f3R0dHS6csXLhw0aJF5HZJSYmOjg6NRgMAGo3Wo0ePkpISbW3tBo1gGIEQQgh1RjNnzvT19ZVO0dDQaG4jGEYghBBCnZGGhsY/xA26urplZWUikYhGo4lEovLycl1d3cbFcG0EQgghhBrq2rVrnz59Ll26BACXLl3q06dP4zMaAEAhCKLdx4YQQgihr11ubm5YWFh1dbWGhkZUVFTv3r0bl8EwAiGEEEIthCc1EEIIIdRCGEYghBBCqIUwjEAIIYRQC2EYgRBCCKEWwjACIYQQQi2EYQRCCKGORiQSyXoInQWGEfLEwsKitrb2CwtnZmZeuXKlTcczffr03377rU27QP/e06dPv//+e1mPogn79++PioqS9Sg6GgsLi4MHD06YMGHUqFEpKSm7du3y8fHx9PTMzc0lC8THx0+aNMnPz2/GjBmvX78GgKysrClTpvj6+np4eBw7dowsFhYWFhERMWPGjLFjx65YsaLJWwMUFRU5ODjs2bPHx8dn3Lhx6enpZPqdO3cCAwP9/PwCAgIeP34MAMuWLfv1118B4MiRI4MGDSL/x3t4eOTl5TVu1tXVNTs7W3pbLBavW7fOzc3N29s7MDDwU708ePDAy8tr1apVLBbr7t27Z86ccXd3Z7FYXl5ekt1HrY9A8oPJZHI4nC8sfO7cuUWLFrXpeKZNm3br1q027YIkFArboRf5Ul9fL+sh/Fv79u3btm1bO3TUAd6rL8dkMk+cOEEQxJUrV2xsbMjf0MOHD3///fcEQTx8+HDOnDl1dXUEQdy+fTsgIIAgiJqaGjKFw+G4u7u/evWKIIiVK1cGBgby+fy6ujoPD4979+417quwsJDJZJJdJCQkkK3l5+f7+/vX1NQQBJGdnT1ixAiCIGJjY9euXUsQRFBQUEBAwB9//FFWVkZmNebi4pKVlSW9/fz5czc3N5FIRBAEm83+VC+pqamWlpYZGRlkXVtb27KyMoIg6urquFxu67y/qBGcjZBLUVFREyZM8Pb2njlz5tu3bwGgoqJi1qxZXl5eXl5eW7Zs+fDhw759+5KTk1ks1qZNmxq3MHz48IqKCgCYM2fO3LlzyRacnZ0BQCAQREVFTZw40dvbe/ny5eT8B4fDWbNmzcSJE728vDZt2tRgwvDy5csTJkwoLS1t3JH0DAq5zePxFi9e7OHh4e3tHRISQmY1PkI6f/78rFmzFixY4OnpmZ2dHR0d7ebmxmKxfHx8pB9l24FZWFjs27ePxWKNGzcuKSlJkrh///4JEyZER0c3/lDS09N9fHwkLfj5+aWlpT148MDPz49MuXDhAvklWbBgAfkFkJ4SkGzfuHHDy8uLxWJ5eno+ePCg8dj++eCy8acJAIcPH544caKvr29wcPC7d++kW8vKyvLy8kpLS2vckfSMl2S78ZfhyZMn06dP9/Pz8/Pzu337Nvx1oBwVFeXr6xsXF/fZPepI3N3dAaBv374A4OLiAgDW1tYFBQUAcOvWrZcvX06aNInFYu3atYv8neXz+atXr/by8po8eXJ5efnLly/JdkaPHq2srKykpGRlZUVWb4xOp5Nd2NjYFBYWAsDvv/9eUFAwdepUFosVGhoqFArfv3/v6OiYkpIiEAhKS0v9/f2Tk5OTk5MdHBy+cI8MDAyEQuGaNWsuXLhApjTZCwAYGRkNHDiQLOPo6BgWFvbzzz+XlZWpqqq27M1En4WP5pJLc+bMWblyJQDExcXt3Llzz549iYmJhoaG5IRkVVWVpqbm4sWLb9++vW/fviZbcHBwSE1NHTt2bFFREYVCqa+vT0lJIX+rjx49qq6ufvbsWQDYsWPH4cOHly5dunXrVnt7+82bN4vF4tDQ0HPnzvn7+5NNHTly5P79+8eOHVNXV/+Swd+7d6+2tpY84VJVVQUA6enpv/7668mTJ5WUlO7cubN69erTp08DwJMnTxISEgwNDdls9rFjx+7du6eiosLhcFRUVP79eygXqFRqQkLC69evJ0+ebGdn17VrVwBQVlY+d+4cAKxZs6bxh8Llcl++fGlpaZmVlVVdXW1vby/595ydnb1z587z58/36NFj7969Gzdu3Lt3b5P97tu3b8OGDQMHDhSJRDwer3GBIUOGpKSkuLu7p6ammpubP336VE9Pj8vlmpiYNPlpJiQkFBYWxsbGUqnUX375Zdu2bbt27SKbSk5O3rp16549e8zMzL7kPWn8Zaiuro6MjDx8+HCPHj3Ky8snTpxIPgWAzWb369eP/E3x9vb+5z3qSJSVlQGASqUqKSmRKVQqVSgUAgBBEBMmTJCE76Tdu3d3795927ZtCgoKQUFBdXV10u0AAPlkpib7atwFAAwfPnz79u0NSorF4suXL9vY2AwZMmTFihW9evUaMmRIk23SaDSxWExuk4NRV1e/fPnygwcPkpOTd+7cGR8f32Qvubm5dDpd8jI6Ovrp06epqakzZsxYt27diBEjPvWOoX8Dwwi5dPfu3V9++YXL5Up+bwcMGHDs2LGoqKjBgwcPGzbssy0MGTIkOTlZR0fHxsaGIIgnT54kJyc7OjoCwK1btzgcDnn4KxAILC0tycQ///zzv//9LwDw+XwdHR2ynf379+vp6R0+fFjy1+SzLC0tc3Nz169fP3jw4JEjR4LUERIAEAQhmWywtbU1NDQEAHV1dUNDwxUrVgwbNmzkyJEMBqMZb5Y8I9+T3r17W1lZPX78eNSoUQAgebBvkx+Kj49PfHz8qlWr4uPjfXx8KBSKpLUHDx6MGDGiR48eABAYGMhisT7Vr6Oj49atW8eOHevs7MxkMpsscPjwYfLg8ptvvklOTtbT0yPD0CY/zVu3bj179owcuUgkknyC9+7d+/3333/66SfJN+qzGn8Z/vjjj6Kiojlz5pAFKBRKfn5+ly5dlJWVyePyL9mjTsLV1XXlypUBAQE9e/YUiUSZmZnW1tY1NTUWFhYKCgrZ2dnp6emenp7/pgsnJ6fo6OicnBxzc3MA+PPPP/v37w8Ajo6O+/fv//7773V1ddlsdl5e3tKlS5tswdDQ8OnTp5aWlikpKeQcQ2VlJY1GGz58+NChQ2/fvl1YWPipXiSEQmFxcXH//v379+9fUFCQmZmJYUQbwTBC/rx9+3br1q1nz541MDDIyMgIDQ0FgIEDB8bHxycnJyckJBw+fPjUqVP/3Iijo2NMTEzPnj0dHR0JgkhNTU1NTV24cCEAEAQRGRnZ4ECBIIgDBw4YGBg0aMfGxub+/fvFxcXGxsZNdkSj0QiCgL+OKgDAwMDg0qVLqampd+/eJedRmjxCAgA1NTVJI7GxsRkZGampqX5+fkePHiWDm85JcrzV5Ifi4+Pj7++/bNmyS5cunTlz5rOtNT7yA4DVq1dnZWWlpqaGhITMnj1bMvMkYWBg8KmDyyY/TYIg5s2bN3HixAbtmJiY5OTkPHv27FNhROPhNf4yEARhYWFx8uRJ6YpFRUWqqqqSKOqze9RJ2NvbL1myZN68eSKRqL6+3s3Nzdraet68eStWrDh79qyJiYm9vf2/7MLY2HjHjh1r1qzh8/n19fW2trbkP/ghQ4acO3eOPFYZNGhQSkrKpz70kJCQsLCwEydOODo66unpAUBJScnatWuFQqFIJHJ2draxsaFSqU32IiEWi8PCwmpqaigUiq6u7te5yriDkMmKDNQy5BLLly9fOjk58Xg8kUi0fPlyFxcXgiAKCgoEAgFBEKWlpf369ROJRElJSbNmzfqH1kaPHu3i4lJWVlZaWuri4jJmzBgyPTo6eu7cuTwejyCImpoacr3VqlWrwsPDyaWOFRUVBQUFxF9LLJOTk8eMGZOdnd1kL+PGjUtOTiYIIi4ujhx/SUkJudyJy+UOGjSotLQ0LS3NxcWlpKSEIAihUPj06VPi70tEa2pqyKVSBEHMnj374sWL//atlAdMJjMmJoYgiLy8vMGDB79//574+zLbJj8UgiBmzpwZHh4+c+ZM8mVqaqqvry9BEFlZWU5OTuXl5QRB/PDDD0uWLCEI4tKlS1OnThWJRDU1NePHjyfXPObm5pJ1Dxw4EB4e3uTwVq9e7eLicunSJYIgPD09nZycSktLCYJo8tOMj4/39fUlF8fV1dVlZmYSfy2xLC4u9vDwuHz5cpO9rF27ds+ePQRB5OTkWFtb37p1q/GXgc1mOzk5paSkkIlPnjwRi8WFhYWDBw+WtPMle4QQagGcjZA/FhYWbm5uHh4eXbp0GTFiBHmRVVpa2rFjx6hUqlgsXr9+PZVKHTJkyH/+8x9vb+/BgweHh4c3bmfIkCGPHj0ip7hVVFTs7OzI9Llz50ZHR0+cOJFCoVAolIULF5qamq5evXrHjh0sFotCoSgqKq5evVpyEDxkyJCtW7fOmzdv3759VlZWDXpZtWpVRESEurq6m5sbmZKVlUWeFxeLxXPnztXR0dHR0Wl8hCTdCIfDWbRoEZ/PJwjCyspq7NixrfmGfsVEIpGPjw+Px9uwYQO5MELapz4UX1/fFStWND45zWQyQ0NDg4KCAMDAwGDDhg0AMGbMmCtXrri7u+vp6ZGL8gBg165d+fn5NBpNQ0Nj8+bNTY7tUweXTR7v+vj4sNnsadOmAQBBEJMnT5bMJ+nq6h47duybb77h8/mSpaASc+bMCQkJuXnzppWVFfntavxlUFZWPnDgwI4dO7Zs2VJfX29gYPDjjz82aOdL9ggh1AL4oHCEvlIWFhYZGRmSMzsIyVZERMSTJ08kL2k02vnz5/9lm3fu3Nm9e7d0yrJly3ARg3zBMAKhrxSGEQihrx+GER1fRUUFOY8tMWbMGHI1ZeuKi4s7ceKEdMq2bdv69OnT6h2hdhYcHFxSUiJ5qaur2/iswb+XmZkZFhYmnTJt2jTyig+E0FcLwwiEEEIItRDexRIhhBBCLYRhBEIIIYRaCMMIhBBCCLUQhhEIIYQQaqH/B5URVLeIHv8rAAAAAElFTkSuQmCC)"
      ],
      "metadata": {
        "id": "oR-l9t01bkEy"
      }
    },
    {
      "cell_type": "markdown",
      "source": [
        "### Метрика 3: Статусы новых пользователей за последние 28 дней"
      ],
      "metadata": {
        "id": "uxfRUVa8jpEA"
      }
    },
    {
      "cell_type": "code",
      "source": [
        "# команда для возможности создания повторного SQL запроса при ошибке\n",
        "# cursor.execute(\"ROLLBACK\")"
      ],
      "metadata": {
        "id": "qUBWmp81PPIj"
      },
      "execution_count": null,
      "outputs": []
    },
    {
      "cell_type": "code",
      "source": [
        "def telegram_new_users_status():\n",
        "\n",
        "  '''\n",
        "  Количество новых пользователей за последние 28 дней прошедших разные этапы CJM\n",
        "  с разбивкой Оплатившие / Все пользователи\n",
        "  '''\n",
        "    \n",
        "  # SQL запрос к БД:\n",
        "  # находим максимальную дату наблюдений\n",
        "  query = \"\"\"\n",
        "          SELECT max_date\n",
        "          FROM\n",
        "            (SELECT TO_DATE(MAX(happened_at), 'YYYY-MM-DD') AS max_date FROM events\n",
        "            UNION\n",
        "            SELECT TO_DATE(MAX(transaction_created_at), 'YYYY-MM-DD') AS max_date FROM payments) AS t1\n",
        "          ORDER BY max_date DESC\n",
        "          LIMIT 1\n",
        "          \"\"\"\n",
        "\n",
        "  cursor.execute(query)            # делаем запрос\n",
        "  result = cursor.fetchall()       # запрашиваем все строки, получаем результат в виде списка кортежей\n",
        "\n",
        "  max_date = result[0][0]  # datetime.date(2022, 3, 15)\n",
        "\n",
        "  # количество дней, которые выгружаем из БД (последние 4 недели)\n",
        "  days_range = 27\n",
        "\n",
        "  # SQL запрос к БД:\n",
        "  # описание события и количество пользователей\n",
        "  # прошедших это событие\n",
        "  query = f\"\"\"\n",
        "          WITH a1 AS (SELECT\n",
        "                        event_id,\n",
        "                        COUNT(DISTINCT CASE WHEN _user_id IN (SELECT DISTINCT _user_id FROM payments) THEN _user_id ELSE NULL END) AS n_paid_users,\n",
        "                        COUNT(DISTINCT _user_id) AS n_users\n",
        "                      FROM\n",
        "                        events\n",
        "                      WHERE\n",
        "                        _user_id IN (SELECT _user_id\n",
        "                                    FROM events\n",
        "                                    GROUP BY _user_id\n",
        "                                    HAVING TO_DATE(MIN(happened_at), 'YYYY-MM-DD') >= TO_DATE('{max_date}', 'YYYY-MM-DD') - interval '{days_range} days')\n",
        "                      GROUP BY\n",
        "                        event_id\n",
        "                      )\n",
        "\n",
        "          SELECT _description, n_paid_users, n_users\n",
        "          FROM events_dict AS t1 LEFT JOIN a1 ON t1.id = a1.event_id\n",
        "          \"\"\"\n",
        "\n",
        "  cursor.execute(query)            # делаем запрос\n",
        "  result = cursor.fetchall()       # запрашиваем все строки, получаем результат в виде списка кортежей\n",
        "\n",
        "  columns = [desc[0] for desc in cursor.description]  # названия колонок возьмем из первого элемента cursor.description\n",
        "\n",
        "  df = pd.DataFrame(result, columns=columns)  # из списка кортежей сделаем датафрейм\n",
        "  df = df.fillna(0)  # заполняем нулями отсутствующие значения\n",
        "  df['n_paid_users'] = df['n_paid_users'].astype(int)\n",
        "  df['n_users'] = df['n_users'].astype(int)\n",
        "  df.columns = ['Описание', 'Оплатившие пользователи', 'Все пользователи']\n",
        "\n",
        "  # функция для сохранения датафрейма в png\n",
        "  def render_mpl_table(data, col_width=3.0, row_height=0.625, font_size=12,\n",
        "                      header_color='#40466e', row_colors=['#f1f1f2', 'w'], edge_color='w',\n",
        "                      bbox=[0, 0, 1, 1], header_columns=0,\n",
        "                      ax=None, **kwargs):\n",
        "      if ax is None:\n",
        "          size = (np.array(data.shape[::-1]) + np.array([0, 1])) * np.array([col_width, row_height])\n",
        "          fig, ax = plt.subplots(figsize=size)\n",
        "          ax.axis('off')\n",
        "\n",
        "      mpl_table = ax.table(cellText=data.values, bbox=bbox, colLabels=data.columns, **kwargs)\n",
        "      ax.set_title('Статусы новых пользователей за последние 28 дней', fontsize=24)\n",
        "\n",
        "      mpl_table.auto_set_font_size(False)\n",
        "      mpl_table.set_fontsize(font_size)\n",
        "\n",
        "      for k, cell in  six.iteritems(mpl_table._cells):\n",
        "          cell.set_edgecolor(edge_color)\n",
        "          if k[0] == 0 or k[1] < header_columns:\n",
        "              cell.set_text_props(weight='bold', color='w')\n",
        "              cell.set_facecolor(header_color)\n",
        "          else:\n",
        "              cell.set_facecolor(row_colors[k[0]%len(row_colors) ])\n",
        "      return plt.savefig('viz.png')\n",
        "\n",
        "  render_mpl_table(df, header_columns=0, col_width=5.2)\n",
        "\n",
        "  photo = open('viz.png', 'rb')\n",
        "  return bot.send_photo(user_id, photo)  # отправляем диаграмму юзеру"
      ],
      "metadata": {
        "id": "0kPfvfSmjsAv"
      },
      "execution_count": 54,
      "outputs": []
    },
    {
      "cell_type": "markdown",
      "source": [
        "![image.png](data:image/png;base64,iVBORw0KGgoAAAANSUhEUgAAA3QAAAHhCAIAAACpxms1AAAgAElEQVR4nOzdeVyM2/8A8DNTTfuqtKMwUUnTailEVCiVLJcSobhkXyIX17Vd67UvoYhrVykpyy0VisgW2qN90d7UbM3vj3Pv85vvzDRGBpf7eb/6oznzLOc5z/Z5znPOGRKXy0UAAAAAAABIAvlbZwAAAAAAAPw4ILgEAAAAAAASA8ElAAAAAACQGAguAQAAAACAxEBwCQAAAAAAJAaCSwAAAAAAIDEQXAIAwL+al5fXhg0biI+1tbX9+vW7e/fuN8wSAD8GOzu748ePEx9fvHhhYmLy9u3bb5ilH4P0t87AD6KtrS0qKiolJeXt27f19fUkEklDQ8Pc3HzUqFEuLi5ycnLfOoMAgO+VsbFxVFSUg4ODg4NDXV3db7/9xuVye/fu/a3zBb5vBQUFt2/ffvToUW5ubkNDg6ysrJGR0ahRo6ZPn66ioiJ0ltu3b1+5ciU7O7u+vp5CofTo0cPR0XHmzJmamppfOfOSYmxsHB4ePnDgQEtLy9LS0s2bN8vIyPTo0eNb5+u7R4JB1D/fX3/9tX79+pqaGvxRQUGBRCK1trbij927d9+xY8fgwYO/XQYBAN+x7OxsHx+fjo4OIsXFxWX//v3fMEvge/fkyZNp06bh/0kkkrKycktLCz7GdHR0wsLCqFQq7/QdHR2rVq2KjY3FHxUVFdvb2zkcDkJITU0tLCzMwsLi626BZNy5c2fBggW8KQEBAatXr/5W+flhQHD5ua5duxYaGtrR0WFkZDR//vxhw4apq6sjhJqbmx88eHD27NlHjx4tXLgwODj4W+cUAPC9ysrKOnbsWGFhoYqKyrBhw4KCgmRlZb91psB3LCMjY/bs2WPGjJkwYYKNjQ0OFm/fvr1169a6ujp9ff34+Hjed24XLlzAbTP8/f2DgoK6devGZrMfPny4fv368vLyHj16JCYmksnfZUO75OTkM2fOvH//XlNT09XV1c/PT0pK6ltn6rsHweVnefv27aRJk5hM5vDhw/fv3y/09Xd8fHxlZWVAQMDXzx4AAAAgqKqqislkGhoa8qVnZGTMmDEDIbR9+3YvLy8i3dfX9/Hjx4MGDTp9+rTQ6aOjo/v37//lMw6+D9Dm8rP88ccfTCZTW1t79+7dnTWsHDt2LI7gDxw4cPDgwY8u8+7duwYGBgihysrKGzduPHjwoKSkpKqqSkpKqkePHiNHjpw5cyZvg5iQkJCoqKiPLjYnJyc6Onr16tWampr37t2Tlubf9enp6f7+/nJycmlpacrKykR6QUHB6dOnMzIyKisrZWRkdHV17e3tPT09zc3NeTMguna2tLR01KhROBui8yl6ShMTE8RTRITXr1+fOnXq8ePHHz58UFRUNDc3nzx5souLC9/sI0eOLCsrIz5KS0urq6tbWVnNmjWLRqPxTunn5/fo0aNt27Z5e3t3llV8VdXX1//rr79wyp49e44dO6amphYXF6elpUVMyeVy58yZk5aWZmZmdvHiRRkZGRElgLdRhDNnztjb2/OmvH///sSJE/fv36+urpaTk6NSqZ6ent7e3kKfv69du7ZmzRqhS+bdiXgyOzu7yMhI0fnJz8+PjIx88+ZNeXl5Q0ODmpqavr6+h4eHt7e3vLw838RiZhWXP/GRTCarqamZm5v7+voOHz6cd0omk3n37t2kpKS3b99WVVXR6XRNTU28T4lDFPHcAkXj2+OlpaXh4eFpaWmVlZVkMtnIyMjV1dXX11dBQUFwXhFnouAuq6urCw8PT05OLi0t5XK5BgYGo0aNmjVrlpqaGu9k+IgVnD04OPjWrVuCGRYKn7/5+fkfPnzgcDg6OjoWFhYzZ840NTXlnUzMC44IH70WeXl5bd++nTeFyWSeO3cuPj6+sLCQxWLp6uqOGDFizpw5vKcPgcViXbt2LT4+Picnp6WlRUtLy8jIyMXFxd3dnW+P8B0/vASvHp+0l8U8fZDIM0jw0oG6tK+ZTOalS5fi4+Pz8/PpdLqWltagQYPmzJkjTntcbW1toen29vb6+vplZWXZ2dm8wWVtbS1CiO+YQQiZmZnhf+h0+kdXiok4GfmOEKEFhYm4U4i5Q4XeTbhcro+Pz6tXr5Cw0xaID4LLrquqqkpOTkYI+fn58UZjgkgkEkJIQUGBt9Uzi8VqbGwkk8kaGhq8ExN32a1btyYmJiKEZGRkFBUVm5qa3rx58+bNm9jY2MjISB0dHTyZkpIS72Lb29tbWlpkZGRUVVX5suHq6rp58+ba2tqUlJSRI0fyfXv16lWE0OjRo3m3JTIyctu2bbhhDW5Lmpubm5ubm5OT89GY46u5ePHixo0bcWshFRWV5ubmtLS0tLQ0Dw+P7du3CwZYqqqqOLyj0+k1NTWJiYl37tw5dOiQk5PTZ+YkODg4NTX19evXa9euDQsLI9LPnTuXlpYmJye3c+dO0ZElQV1dXTDndXV1vA3vsKSkpMWLFzMYDISQsrJyW1tbZmZmZmZmfHz8oUOHhN4gEUJ8R0hzczNeQhdkZ2dfuHABISQtLa2kpPThw4eamppnz55dunTp/PnzvBn41KwqKSnhZ7b29va6urqUlJSUlJQNGzYQbcUQQvfv31+yZAlCiEQiqaiokEik8vLy8vLyhISELVu2eHp6EtvL1+cA3yz5ypn3EfHWrVsrVqzAuZWXl2exWNnZ2dnZ2bGxseHh4Z31YFBQUODdEKG7LDMzc8GCBQ0NDThjZDI5Ly8vLy8vJibm1KlTxsbGIssbPX78GEcbYjp79uz79+8RQkpKSiQSqaioqKioKDY2dtu2bUT5ILEvOB/FVwIYnU4XDD7q6upmz579+vVrhBCFQpGRkSkuLo6IiIiKijp+/LilpSXvxFVVVUFBQW/evEEIkclkFRWVmpqa8vLy+/fv9+rVS2gQQBw/GN7jfLq2lyV4+ogmYl9XV1fPnTsX92smk8ny8vLl5eXXrl27cePGrl27xowZ0+WVqqmplZWV4cs+QV9fv6ioCO8sXtnZ2QghCoXSp0+fT1oL371P6BHSBV3boYSYmBgcWYLPxQVdFRMTQ6VSqVRqfn5+F2ZPT0+nUqlOTk6dTbB3794zZ84UFRVxOBwul8tkMjMyMiZOnEilUufOndvZXFevXqVSqb6+vkK/3bBhA5VKXbBgAV96c3PzwIEDqVTqgwcPiMT4+Hi8gcHBwcQ21tfXx8TEbNu2jZhs9erVVCp1//79Ija2pKQEL0rENOJMib8qKSkhUp48edKvXz+cyYqKCi6X29LScvjwYRMTEyqVeujQId7ZnZycqFRqeno6kZKbm4uL1N3dnXdKX19fKpV69epVEVkVugfz8/MtLCyoVOrZs2dxSkFBAU45c+bMRzdf6DaKyP+7d+8sLS3xHi8oKOByuQwG48KFC+bm5lQqde3atYILuXLliuARIrgTRR9IvAoKCpKSkqqrq/FHJpN58+ZNOzs7KpUaHh7etawKln9JScncuXOpVKqtrS2bzSbS09PTf/vtt8ePH9PpdJxSVla2ZcsWKpU6YMCAsrKyzrItopy5XO7z58/NzMxMTU337NlTWVnJ5XLZbPbTp0+9vb2pVGpAQIDgLKtWrRI8EQR3WWlpqY2NDZVK3bBhQ3FxMYfD4XA4OTk5AQEBVCp17NixvFsnOHtHR4eXlxeVSjU1Nf3oIYolJCRkZ2czGAz88f3798uWLaNSqXZ2drzr6toFh5eIS8H+/fupVOrq1at5E2fPno13aHx8PM7Jixcvxo8fT6VShwwZ8uHDB2JKBoPh6elJpVLt7e2joqJaW1u5XC6bzX716tWWLVuePXvGt7rp06cLFo7gHu/CXhZ6XgjdcBFnkNBLxyftayaTiXeNv7//06dPmUwml8utqqrCR/7AgQPfvXsnuF5x1NfX41Py3LlzvOkJCQm4ALds2VJbW8vlclksVkpKyogRI6hU6pEjR8RfhdDNF3qEiLhLCr1TfNIOFTwe6HS6o6MjUeC8+wJ8qu+y+e2/REFBAUKIQqF8tKaha5YsWeLn59erVy/cSlpGRsbOzu7EiRMaGhopKSmlpaVdWObkyZMRQsnJyXV1dbzpN27caGtrMzAwGDRoEE5hsVjbtm1DCI0fP37//v3EexY1NTUPD4+QkJDP2TQJ2rdvX0dHh5WV1d69e3HliqKi4vz58wMDAxFCYWFhLS0tImbv27fvunXrEEJFRUUSyU/v3r1XrFiBENq5c2dhYSGbzV65cmV7e7uDg4Ovr69EVsHr6NGjdDq9R48ex48fx8chhUKZMmUK3qirV6++e/eObxY2m43+qU2XCGNj4xEjRhDvMWVkZFxdXceNG4cQKi4u/pys8jIwMNiyZQtCqLGxkffotbe3X7dunY2NDfEKXk9Pb+3atRMnTmQwGNeuXevaRm3bto3FYv3yyy9Lly7FLxClpKRoNNrJkye1tLTS0tJevnzJN4uYBbt3796mpqbAwMCNGzf27NmTTCaTyWR8ezYxMcnPz799+7aI2aOiorKzs01MTPgq9kRwcXExNTWlUCj4o6GhYWhoKEKooaEB155iX+KCI0JmZmZqaipCaPfu3W5ubrj+eMCAAeHh4aqqqrW1tbzvRi5fvvz69WsKhRIREeHp6YlrRqWkpMzMzNauXTtw4EC+heN98dH+JV3Yy0wm83O3XGwi9nV0dPTLly9tbGzCwsJoNBp+H9K9e/e1a9dOmTKlra0tIiKiays9fPgwk8lUVFR0dXXlTXdxcVm6dKmUlNTp06eHDBliZWVlYWExZ84cRUXFbdu2zZs3T/xVfLky7MIO5XXixImqqqoRI0Z01mYAiA+Cy67D12VVVVUJ3qc/Sk1NjUajcbncrKysLsxuampqZmbGYrGuX7/Om47vwV5eXsS2PHz4ELe7WrVq1edn+wtpaGjIyMhACAUFBfG9RJ47d66srCydTr93757oheB3MRIcp83X19fBwaGtrW3lypX79+9/9eqVmpra1q1bJX6ccLlc/Mps5syZfK0bJ02apK2tzeVy8YtOXvi+S4QaEsfhcJKTk2/evIkQ6tu37+dklQ/eU1JSUnwNE4XCDT+ePn3ahU14//7906dPVVRUfHx8+L5SU1MbNmwYQujBgwd8X7FYLPSxgm1ra0tISCCTybNmzeL7ikKh4FbCgksm0On0vXv3IoTWrFnT5Z65VVVVO3fuRAhpamrytckR9JkXHBESEhIQQubm5o6OjrzpmpqaU6dORQjhQwiLiYlBCHl7e/fr10+chYuzL7q2l/H71q/QVV/0vsZtW2fMmCHYzMbDwwMhdP/+/S6sNDU1Fcf0ixYtEjw2goKCtm3bhiP71tZW/N6cTqfX19cLtv0Q4QuVYdd2KKGqqurkyZPS0tL/5lvedwTaXP6rvXjx4vz581lZWbinAu9X1dXVXVumj49Pdnb21atXZ86ciVMKCgqePXtGJpN5W4s/f/4cIdSvX79/8zPcmzdvuFwuiUSytbXl+0pZWdnMzOzp06fZ2dm4Fk1Qa2trVlbWxo0bEUITJ06UVK5IJNK2bdvc3d1fvXqFm+9s2LDhSxRjSUlJc3MzQkiwwRmZTLazs4uNjcUtonjhEVglHlw+ffo0ODi4o6OjqakJx6+Ojo6TJk36nKwS2tvbs7Ozcc3lhAkT+G6oDQ0N586dS01NLSoqam5u5m0r1rXTBIekdDqdr/MQhs/EiooKoemiCzY7O5vFYpFIJHd3d8Fv29vbhS6ZEBYWVl1d7eTkNHjw4MOHD398S3gsXLgwKysLt8lGCCkoKAg+8HyJC05ncOs9oW0lBw0adOzYseLiYjqdrqCggJvNIYSE7g6hxNkXXdvLuPS+wu9iiNjXbDb7xYsXCKH169dv2rSJb0Z8/FdWVn7qGvPz81esWNHR0eHk5OTv78/3bUtLy/Lly5OTk52cnH7++WdjY+PGxsbU1NS9e/fu2LEjOzt7z549Yq7oC5Vh13YoYffu3W1tbX5+fvDzBBIBwWXX4eqTxsZGHN9IfPknT57cuXMnl8tFCElJSRHdUHDj8ba2tq4t1t3dfceOHbm5ua9evcLdaa9cuYIQGjJkiJ6eHjEZbvyuq6sr5mIPHjxI9IVXUFAwMDBwdHQMCAjoco3gRztNI4Tw61FlZWVFRUXBb/Fb8vr6er50vo6Kampq69ev5+0jQlizZg3uGUoikRQVFXv16jVy5Eh/f38lJSXRGevevfuyZcvWr1+PEHJ1dR07duxHt6ULiLfDQiNXvPl87R8QQo2NjQghwf5eQj169IjYEbKyst27d7e2tvb39xfsNMpisXg7TEydOjUkJIS4u3ctq0T5Y/Ly8sHBwUFBQbzT5Ofn+/v7E6tWVFSUk5MjkUi4w1zXugjgH0Rgs9lCu4BgOBDkhQtWdK0qDtG4XO4nLRmrqKg4deqUjIxM10Z4bmxsJFaqr6+/fft2Ozs73gm+0AWnM3h3Cz0ecCKXy62vr1dQUGhsbMSPK7wXKNHEOci7tpfxXHgwY3HwnkHiE72vGxsbcdUsb6sGPp0dRZ0pKSkJCAhoaGig0Wh79uwRvKNt3749OTl5yJAhR48exSlKSkpTp041NjaeMWPGjRs3JkyYIGb0/6llWFZWJk4Zdm2HYi9fvrx+/bqqqurChQvFzBUQDYLLrsPPN0wms7CwUOLPOnl5ebt27eJyub6+vj/99JORkRHx2nflypXXr1/ndnWAUmVlZVdX16ioqGvXrpmbm7PZbPyK/DOr7oguoh0dHY2NjbhTeUxMzPnz57v2U1pCo1KhV41PbcFD3DXZbDZudnb8+HEDAwPBKyPR25TD4TQ0NOCayOvXr1+8eFF0DMHhcIgxWd6+fYsrYD4pk5+EwWCIHq+AFy7Dbt26iTMxb6/YpqamkpKSkpKSuLi4ffv2OTs7805pb2+fk5PDZrOrqqoSExP37duXmZkZFhbGFxB8Ulb5yr+trS0yMlJPT4+3in3NmjW1tbVmZmZLly61srIiHjMePnxI1M1/Knxy9evXD7+NFRMuWNEvmvGSlZWVMzMzPzVXu3fvbm9v9/f3NzIy+tR5EUL4dWdzc3NOTs6+ffv8/f2XLVs2d+5c/O2Xu+CI9iU6WbNYLBx1ibMvPnUv47HMxA9zhQ7cgZ98RMwlel8T76AlNbRkZWXlzJkzq6qq+vfvf/z4ccGLVUtLC246JVijaWdnZ2pqmp2dfffuXTGDy08tQ8ExVRBCHA6Hr+KgazsUw11UFyxYIE6TGyAOCC67zs7OjkQicbncv/76S+LBZWJiYkdHh4ODwy+//ML31YcPHz5z4T4+PlFRUXFxcSEhIampqbW1tWpqanyxAo7tysvLxVxmQEAAMcYbh8NJSkoKCQmpra09cOAAbuD1qYS2GeJ7fsVXHDxOjeDVB78YEnw+PnDgAPEyrrW19cKFCzt37lywYEFUVBTRRhALDQ0l4hgmkxkTE/Prr7/i0VLw8DedOX78eFZWlrKyspKSUnFx8fbt2wXfXn0+YpPLy8sFY3G8+YLFgvvN9OzZU5xV0Gg0ol8Fl8vNzs5eu3ZtTk7O5s2bR40aJVi9IS0tra+vHxAQICsru2nTpt9+++3IkSNdzipf+d+4ceOXX35Zs2ZN9+7dHRwc8NJevHghJSV15MgRvjowEbUXH4Uj7096schgMPAbt169en10yS0tLc3NzeIH2Qih58+fx8XFqamp8f1U3adSVlbGvUDGjh27e/fuwYMH49cXX/SCI5SGhkZRUZHQ15RVVVUIIRKJhE9eVVVVaWlpNptdVlYmTpvL0tJSDocjLS0tOEI4ry7sZfTPyDviX/B5zyCC6FFXP7qv1dTUpKSkOBxOeXn55weXNTU1/v7+paWlxsbGp06dEjqmKR7WACHEN0QoZmhomJ2dzTuEsGifWoa6uroixrkkdG2HIoTi4+OfPHnSq1cvoe+vQNdAh56u09HRwQ9qZ8+eFd0luQsP/fjyKvjykU6nP3v27FOXxsfGxga3mLlz5w5+Hh0/fjxf+yTcATMnJwfn5JNISUk5OzvjeqPPz60I/fv3x/FNeno631fNzc34EkaM8SuUoqLi7NmzBw0axGKxRD/vUiiUSZMm4aZyojcqOzv70KFDCKF169Zt376dRCJdvHjxo/2KusDQ0BDfCXCvJl4dHR14EGm+zWcymXikwC7ck0gkkrm5Oe7cXVFRIfrAsLa2RggRA1l3Iat8KBSKl5fXhAkT0D9jsiKeqFTw7aqIlvsfhTvnNjQ04JbH4nj+/DmXy1VSUhId0Jibm0tLS3O5XNxRWny4ZmXhwoVitmcQTU5OztTUlMvlEhWoX/SCIxRe1+PHjwUvj/h07tWrF65Ck5GRwceGmCcRzrCxsbHoNpdd2Mt5eXk41MaH9xfy0X0tIyODHwlSUlI+c111dXWzZs0qLi42NDSMiIjorK6X6FEktLoBJwptmySosbERX4IkXoZd2KEIISaTuWvXLoTQ6tWrxRyEGIgDgsvPsmTJEgqFUllZuXz58s7e78THx4eHh3/qknGrvtzcXL70o0eP4g4Znwn3tAgPD8fXa8HudYMHD9bW1uZwODt27OjaKr5cf2SCmpoaroM8ceIEX3fFsLAwBoOhoKAgficAcWpoPnr1aW9vX7lyJYvFcnFx8fT0HDRoEA6yQ0NDBdsUfiYSiTR69GiE0JkzZ/iaxF2+fLmqqopEIvGNJxIfH9/e3q6pqSkYRohJzN36+PFj3om7kFURiFpJXPlXW1vLt+9ycnLi4uLEXJqg3r174xvVzp07ceM2Pu3t7XyNMXArCAcHB9HNr5WUlPDo1vv27RP6RMpmswVP8Bs3bmRlZRkbG//000+fuCnCtbW14a5mxPH8pS84gvDuzsvLu3v3Lm96bW0tHpPfzc2NSMQPFVFRUXjMcNGio6MRQnyd0AV1YS/jR3EbGxsxW5V0gZj7Gv92jogCEf3aHWtubp4zZ05eXp6uru7p06dFdDo0MjLC5/Lly5f5vsrOzsZ9swQHhBIqLi6OxWLp6+vz/oCWRHRhhyKEIiIiysrKhgwZIvjDIuBzQHD5Wfr3779+/XoSiZScnOzp6RkTE0O0sG5ubr5165afn9/SpUu7cHUeOnQoQig5OfnYsWP4ZlxXV/f777/jXxf8/Jx7enrKyMi8ePGCxWKZmpoK1mPJyMjgwSzj4uIWL16MB/VECDU0NFy6dGnz5s2il//y5cszZ86gf54mv5zFixeTyeTs7OylS5fieqzW1tajR48eP34cIRQYGCi68w2dTj958iSuKRFdc4YQSk1NjY2NRSI3ateuXQUFBVpaWsR78GXLlvXt27empmbDhg2fuHEfN2/ePAUFherq6sDAwMLCQvTPL8LhHeTj40M0eG1ra8M/ZYQQmjFjRtcGsqmqqtq9ezdCSFdXl7gVbd68OT4+ngid6+vrw8PD8TPJiBEjupBVoZhMZlRUFK5dJm5LvXv31tHR4XK5S5Yswa/7WSzWrVu3AgICPrORa2hoKIVCefz48cyZMzMzM/GjCx7t/ODBg87OzkTv6dra2q1bt167do1EIgm2SBO0fPlyNTW14uLin376KSUlBd8FuVxucXFxeHi4m5ub4A+E4C53ISEhgr/a+lGPHj3auXNnTk4Ofvpls9lZWVmBgYEVFRXS0tJEBPalLziCbGxs8NrXrl2bkJCA37q+evUqICCgsbFRU1OT98XxpEmT+vfvz2QyZ86cGR0djXPI4XBevny5bt06oqaqtLR0+fLl6enpsrKy4gTi4u9lhFBSUhJ+wS2pEF8oMfe1j4+PpaUlg8Hw9/e/dOkS8aBSU1Nz/fp1X19ffPkVgU6nBwYGZmdna2lpnT59Wl9fX8TE8vLyOJy9devWunXrcGMGBoNx586dBQsWsNlsJSUl3t+K7Mzz58//+OMPhNCUKVO6PJaWCJ+0Q7ErV65ISUn9e0Zu/mFAm8vPNWnSJHV19fXr1xcWFuLxsfDPJBIBpb6+PjEyufgcHBzGjBlz69atPXv27N27V0VFpampicvl+vj48HYW6TINDY2RI0fikQU768ozduzYqqqqHTt2JCQkJCQkKCgoSEtLNzU1IYT4+pkihC5evJiUlIQQ4nK5Hz58wG/ZunXrtmjRos/MqmhWVlYbNmz49ddfExISEhMTVVRUWlpa8I3K3d0dD6XOJzg4mLdDD04cOHAgMW4O4eDBg2fPnkUIdXR0VFdX4+qxXr16CQ5SiKWlpeHpt27dStySKRTKzp07J02adOvWrWvXrn30l6A/SY8ePXbv3r1kyZJHjx65ubmpqKi0tbXheGXw4MFr164lpnRycsLt311cXAICAsRc/qtXr4gMNzU1VVRUsNlsaWnpdevWEVV0jx8/xjddCoUiLS1NdNDu06cPHk/+U7NK2LJlC45lORxOY2MjvlX07NmT6IZCJpPXrVu3aNGiR48ejRkzRlFRkclkslgsPT29VatWfc54dRYWFgcPHly+fHlmZub06dMpFIqCgkJraytRI4I3Pzc318PDA48XsWrVKisrq48u2cDAICwsbMGCBbm5uXPnzsW/tSi4ZF4cDsfBwUH8OnheTU1NJ06cOHHiBEIInx24GEkkUkhICBHQf+kLjlA7duwICAh48+bN4sWLZWVlpaWl8WVTVVX14MGDvK2lKRTKkSNHAgMDc3NzV69evXbtWmVlZaLQcGOV5ORkPJKAjIzMtm3bRLdPwMTcywihiRMnEkH/li1b8A9MEPAwW6dOnbpw4cKBAwfEOQw6I+a+lpGROXz48MKFC58+ffrLL79s2LBBRUWFyWQSZ99Hbzq3bt3CY/e0trYKbWtIo9GIAUAQQqtXr87Pz3/y5Mnly5cvX76soKDQ3t6OjyVFRcV9+/Z9dMzUhQsX/vXXX/jifOrUKb7wF+c8Pj4+NTU1NDS0ayNsiL9DCRwOZ8qUKV3o0Q9Eg+BSApydnYcMGRIVFXXv3r2cnI0Pg8wAACAASURBVJz6+noSiYSr/ceMGTNmzJiuvSDeu3fvqVOnoqOj379/z+VyraysJk+e7OnpKalnrDFjxiQmJlIoFKFD7mGzZs0aPHjw6dOnMzIyampqZGRkTExM7O3tBR9Sa2pq8EgQCCF5efm+ffvioYiIH275cqZOnTpgwIBTp049evSovr4ej3A5efLkzl6zEi+MSCSSsrJynz59XF1dp02bJribysrKcCt1EokkLy9vZmaGhyIS2hWjsbFxzZo1XC532rRpeMBeQv/+/YODg/fs2bNlyxY7OzuhjeK7bOTIkbGxsSdOnLh//351dbWcnJyFhYWnp+fEiRN5B5ZXVVW1sLCYOHHimDFjxB85i06nE8NPysjIaGtrW1tbz5w5k7eW9+eff75z586LFy9qa2vb29vV1dX79u07ZsyYyZMn842TLGZWCS0tLbhKBpe/kZGRYPmPHj369OnTR48effbsGZvN1tfXHzlyZFBQUE5OjthFKNzw4cMTExMjIyNTUlLevXuHu+AYGRnZ2tq6urrimp6Ojg59fX1ra2tfX18LCwsxl2xhYXHz5s3z58/fvXu3sLCwublZUVHRxMSERqO5uLgIDtoqJSXVteGHEEIDBgz4+eefMzIy3r9/39DQICsrq6OjY21tPW3aNL6q+i99wRGkoaFx8eLFc+fO3bhxo6ioiMVi9erVa/jw4XPmzOnevTvfxLq6ulevXr148eLNmzfz8vLodHr37t2NjIxcXV1xyXd0dBgZGdnb2/v7+4v/q2ni7GX0vyOadda+Bf86ttAXsuITf19369bt7Nmz8fHxeIzYxsZGGRkZY2NjCwuLESNG8HV2EUS0I+rsR735XqwrKipGRkZGR0fHx8e/fv26qalJTk7OwMBgyJAhM2bMEF3xSSyQGIO2s0GUGAwGg8H41HGUeIm5Q3m3a/HixV1eHegM6QsNMAH+/datW3f58uWxY8fi34EAAAAgFG6QJ9hnmdeBAwcOHjx45swZoSPDAz8/v0ePHol+6rt27dqaNWu2bdsm2Tc84OuDNpf/Uc3NzTdu3ED//No4AAAAAIBEQHD5X8RkMrdt20an001MTAYPHvytswMAAACAHwe8Fv9vSUhI2LFjR319PZ1OJ5FIp06dGjJkyLfOFAAA/Kvhdpai+6y0trbS6XRVVdWvMArb96ihoYHFYoluhd/e3o5bSX6FX28HXxR06PlvodPpZWVlFArF1NR0wYIFEFkCAMBHfbQrNEJIUVFRzIHE/5vEGdNKTk4OwsofA9RcAgAAAAAAiRHe5pLJ/KzBFAAAH8Vg8P9WBABA4uBEA+BLEwwaO625dHKBkZ8A+IKSEvfBWQbAlwYnGgBfWlLiPr4U6C0OAAAAAAAkBoJLAAAAAAAgMRBcAgAAAAAAiYHgEgAAAAAASAwElwAAAAAAQGIguAQAAAAAABIDwSUAAAAAAJAYCC4BAAAAAIDEQHAJAAAAAAAkBoJLAAAAAAAgMdLfOgP/IYPtzab4jOzT20BamlxWXnszMeNq9L3Ofn4TgG8LDlcAvmvnT6/X0emGEOJwOhobW7LfFB85Hl1R+eFb5wv8J0Bw+ZV4jB+6NHgyQij90euWFrrDEIsF87xMqIZbfo/81lkDgB8crgD8GB6kv6qs/GBj3c9xqIWiotzy1Ye+dY7AfwIEl1+DvLxsYIAHQijyz8RTp+MRQrY2/XZsme880iYu/sFMPzfLgX15p4+IvHn6bIK/r+tMP7eEWxm/7/5z+eIp48cOqaz88JP/JoRQD0PtObPG9+/XU1lJvqS0et3GE1XV9etCZlgM6K2qosRms9/mvj945FpRcQX65/l1ycoDz1/k792x0HJg3+27ziXefrR6+TTXMfZ4XTu2zre17vfsed7SVQcRQuZmxrP9x/Y21mcwWY8z3xwNi2lqpn+DggPfgujD9fnLAnwU8c6CjyKEkMtou5AV03m/wgfeZB8n97FDu3VTkSJLlZRWnTmXmJL2HB/hfGvfvuucjraG0CNfW1vjwpkNeDI6vT2/sGzv/kvF7yp5z5SBFn3+2BlMnClJifsQQlNn/FpVVUcc/LfvPj55NKRXTx08C0JoyCBz32ljehhoN7fQU9Kenzp9g8Fg8eaKd9UEvFhVVcW5s9xtrPspKcq/e18Zcfbm48y3eALBDcSz8J6SxFe2Nv2WLJyk2U2VzeYUFlccOHQlN78UIeQwxGL61NE9DLs3NdPTM7JPRNxobW3rrCisrUyCZnvo6naTk6XUfmhMvP0oIvImLhO+zONtF3Gm46Ljmx7vX3yhmD519JxZ4xFCTi6LEfi3ik9Iv//w5WB7s62bAnsYauNEZWWFmb6u9nZmWpqqtR8aDxy5lp6RLSsrM2O663DHgRoaKiUl1WfOJd5/+JJvaYKHNHHXsDDvHTBzbG8jvXYG69nzvKNhMR/qmvA0RB0q7yx8pyphycJJI4ZZKirKN7fQH6Zn/3HwMovFlpOl+Pu5Og4dqKGuXFZec+lq0u27mbz54XA6GptaU9Oe7z98taOjY36g57ChFhoaKh0d3MKi8uOnYp+/yMe3PL4tWrLywMtXhZMnjnAdY9+9u3pVVf3VqOS4mw/xt51d0ERcTAAGbS6/BnNTI0VFOYTQjX8O2ceZbysrPyCEbKz7/Z3y5O2VqOTid5WCs/fsoe3m8v+nhLq68v7dixyHWtTVNd3+K5NEIikpKSCEtLurP3+RH5/wMC+/1MqSuiF0ppjZs7XuZ/tPNhBCvXrq7t6+gNrX8FHmm8KicjeXQRvWzerKZoPvkziHK+rkiCWRSAih6pr6K1HJra3tRLqudrfCovLEW48epL/s1VMndLWftrbG67fFV6KSbyam42muRCVfiUp+9/7/F8h35BOuRCXnFZRamPf+afKoLmzgONfBvXrqEB9trftt+XWurna3tAcvamsbJk90WrxwUmfz4kzybu+WjXPHuQ1ubGy5//Alta/htk1BZqa9eEuj+F0F7yydochIv35THHfz4avXReamRr7TXBBC9ramv22YbWykl3r/RVsbw9PDcf1af7788BaFZjfVxqbWpOSnt+8+VlCQ9fd1dRpOq6ltwNnGe+Re6rMrUcmZT3PEOdPjE9JfvykWzK2qquLULhU++MrGug4Knu8dNMcDIZSS9hwhRCKRftsw29tzOEVG+vbdzIrKD3o63RBCK5f+NG2Kc2tr+92kJ5qaapvWBwy06CN0mcXvKq9EJT9+8pZIMTbS27X95wFmxo8y31ZV1TmPtPl9y3wpqX8CDBIJIZScksU7S2c4HE7q/Rc3bj5sa2OMdR1kZ9MPIbR6xbSpk0Z1dHQkp2Tp62utXeU3coQVb35i4tIQQhPcHQYO6I0Q0tHWeJPzLj4h/dnzPNP+vTaGzpKXl818mnMlKvle6jOEUGtrOz4pamobAvzHBs2ZQCKR7iY9oVCkly+Z6uJs+0/GhV/QCHwXE0CAmsuvQVVFEf9TV99EJH6oa9LR6aamqoQ/3k16gmsTBY/UoDkTpKSkiI+jR9moqirl5pXMC96N28CRyWSE0K9bIhyHWmhqqhUUlQ+06NOzh043DRXi2dHLw9FhyAB9PS2+hZPJJHzdIUwYP5RCkc4vKK1vaK5vaLa06GNlSTU07F5SUv35RQH+/cQ5XFEnRyyZTEIIvS+pPnQ0ymHwABykIoSOnbg+zHGgvp4Wi81paGjp1k3V3NTobtKTx5lvtbU13FwGIYQOHY3CE9vbmuJ/+I58Qbl5pZ+6dfLysn4/jeFN8Z4wDCGUV1Da3EIvKCw3NzN2cbbdd/AyX+UlhjPp4zUCfzShGpqZGtHp7YuX729nMBubWid5j/DyGJb9upgojVeviw4djSJmIXh5OA6yM62o/HD3ryet9Pb7D19JSUlZmPcmk8kcTkfWs1yEkKeHI0Lo3IXbZ84lqKgoXj3/m51NfwN9LRabI7Qobt153NDQ0rePgYqKYnn5BxUTRStLatK9LJxtvEeirqfiGtPFC3w6O9PxJQUhFH4mfpzbYNP+vfhW5+/rqqQo/6mFD76+IYPM8T9MJis3rwQh1LePwcABfRgM5rxFu+vqmhBCUlJkVVXFUU7WHE7Hq9dFHR0d799Xagzs6zFuKG/lOuFtzrtDR6NcRtsRtRIe44bKyEjfvJWxY/efUlLkS+c29TbWow3sm/k0ByEkRSYjhK5G3dPX1+KtyEAIKSsrLpjnRae3Z78ufpT5BiF04Mi1wNnuCvJyZBKprr65sKhCTVVpxDAaQmjlmsNV1fUFheUL53t7TRj2V/LT/8kWl9vY1Ioble7648Jwh4E6Ot1Ky2va2hlqakrGRrp3k57cTXoy0KLPcEfL5uZW4oLj5eGIEMp+XdTeziwqrtDT1fQY75B45zHq/IKGCV5MAAGCy6+hsakV/6OuplJdU4//19BQwV8Z6PMHfLzMzYwN9LVKy2qIyXS1uyGEcnLfE70rOjo69PW0jh9aoaDwP4e+mpoSEVwOd7QUuvyRI6z5lq+jrYEQMu3fi/eOoq+nBcHlf4Tow1X0vPJysgih9nYGb6K0tNShfUuNjfR4E3njVKEEj3wCDtQYDGZzyye31pjoOVxDQ+V/DngdDfS/9fdkMllXR7P4XcVHl4ZPluqahnYGEyFUUlKFENLuro6/lfu7NJhC5yVOSY9xQ+f+vJPL5VoO7OPlMQwhVPuh8V1JFbH89yWVCKGmptbGxpZu3VS1tTVKy2qEFsXS4Enu44byrkW183IWcabLy1HwxzZhmdfR1jA3Mxa6a8C/zbqNJ+4/fNnfpOe+3YtWLv3p+Yt8XZ1uCKGq6vq6f+4OHE6HjnY3hJCUFBk/a2H6eppirkUbH6jvK/HSKipqNdSVcSJCSE6Ogjo5lhQV5YjnriNh0ZeuJCGEPN0d5eVlEUKPn7xtaqYbGmghhNrbmVXV9Qih9/97liGEevXUwY+4795XcrlcFWWFE0dXa2mq8a6oswuOqqoivm/iR1y+DRd6QSMIXkwAAV6Lfw3Zb4ro9HaE0Di3vw9faysTfIY/znwjel4Dfa32diZu0IZVVH1ACJlQe+Aae4QQmUweZG+qoCCXl1863mu11+TQf6YlEXMtWXnAyWXxs+d5gsv/8KHxavQ9IqWyqg4hdPlqkpPLYvw3zX9Tekb2p283+C59zuFqQu2BEKqurudN7NlDx9hIj83mTPPf5OSy+O+gjSR0Af9P8MgnOLksnjN/h6ws5ecgL/G26X8WW1BY9lfyEyKlsrIOIXTg8FXeA16cyBL9c7J011KTlZVBCBkadEcIVf2z+SZUQyRQGoQlKw+4TwyprPzQ21gfx3n7D10d5bY0eOkfmt1Ug2Z7EMvHTeVUlBVwpFhVVddZUTgNpyGEtvweOdJ1SUxsGvr7haSozAs9001MeiCEWlvbW1vbBGfU0elGJpPCTsWKU0Tg3yAnr6S9nSklRdbT08R1e9rd1dXVlfG3ZDK5suoDQojJZE+YtBYfDM5jl/6y6aSYy6/iOVClpMi6uppEor6elrKyAkKopkbIiVBZ+cHJZfH6TScRTyXrWM9Vbh4rr8Wk2Fr3c3G2xWeonBylu5Y6EjjLEEIJtzJGuS25dDWpZw8db8/hA8x7a2mqffjQ6D1l3ehxy5r/bkYs/ExobGxta2MghGbP+504EYKCd+NvhV7QCIIXE0CAmsuvgU5nhIXHLV7gM2O6K7WPYXNLm8PQAQihv5KfPn9Z8NHZr0bfq6ltID7evps5bbIzta/hkf3LcvNKqH0Nd+69UF/fjBAyMNBaON+7T2/9T8peRORN3rdscTcfjHMb7O05TEenW2NTS09DHTPTXqPcln7SMsH3q8uHa8iK6aNH2XA4HX/d+5/XVY1NLRxOh7S01PxATwUFWcG2GZ3hO/IJC+Z5GehpIYTwXQHrZ9JzwTwvXF2B37V1ttijYTFmpkbEx+jYtEH2ZoGz3U3792IyWcZGeioqitP+t5NBZ3JyS16/KTbt32v/7sXF7ypGjrDu6OiIjk1DCP2xM9jCvHd7OzPtAX+vCMzOpn/f3gaqakosFruxqSV0tZ+ionxVVV1vY32EUGNjC0IoJjZ1kJ3p9KmjdXW6UfsaSktLPX7ytrSshqgT4iuKuvpmJSUFb89h9rb9HYZYiM58Z2f6kEHmoav9EEJ3O79rJt3LyskrEaeIwLc11nUQbWDfvn0NlJUV2toZhYXljU2tz1/mDxzQ5+iB5Y8y32hpqj16/OZaTErSvadOw60O71v2JCtHRVnBwrz39Rv3hT7dCYqNfzDObfAYZzsKRUZbW0NDXbmouOLZi3wTao/tvwUhhB5lvhHaK1ReXtZltJ2VJRUhVFfXpKgof+LwyhevCphM9iB7M4RQQ2NLQ2NLckrWiGG0ndvmZ78uwq/Io6+nEgvpZ9JzQZCXvZ0pQqitjVHf0IwQUlNT+jnIU09XE1eCihAdm/rTZOedW+c/yHglLydr2r/X8xf5v+/+s7MLGi++iwkgQHD5lURfT62paZjs42QxoLe0tFRZeW3C7Ywr1z7ezL+hoeXPi7f79jEkUurrmxct3z9n1njTfj179dQpKa1uaaEnp2RZWVJHDKNZ00yOhEWvXytub57id5XxiemjR9kSKQWF5StCDvv7uVoM6C0jLVVR+eHPi3c+dXvBd61rh6uhQffcvJKz52/hFoeE2trGA4evzpjuQrPsG3vjvhSZzNfZXCjBI5/g4zWCwWDm5ZceOR5NJBKvxtD/vmvj8/jJ28ynObz3g4zHr9dtPDFtirO9nSnickvKangr8kXjcrmhG8ICZ7tbW5k46FvkFZSeOZf4KrsQIaSnp/nyVeGJ8LjORhacNsWZzeaUV9SeOZdIpzPel1R5jHewsTJpbW2///AlbhCW/uj1xs3h06Y4D3e0bGqmX79xn6++kK8odv1xYfniKca9dOvqmmLjH0zyFl4IWGdnunZ39VZ6e9zNhyfC44TOyGSyO/sK/Nvg6sDmZvqLVwURZ242NLYghH759eRMX9dB9mZjRtnVfmjAldw79pwvr/gw3NHSdbRdY1Nr9pu/G0GKo6CwbOXawwEzxtnbmTLamXeTnhw9EcNmc7ppqHARNz4h/eiJGKEzqqoqhayYTqe3Zz7NOX4yls1m135oHDJ4AEVG5kNdY+Sfibhh5Y4952tqGhyGWowYTisv/3D5WtLdpP9/8sHnflNza3JK1uWrSa309sg/Eye4O9hY9Tt7/paGujJvX3VBJyNuNDW1uoy2Hz3SppXOyC8oTbqXhTq/oBEELyaAQOpsVGQYXQKALyopcR+cZQB8aXCiAfCl8Y1chqDNJQAAAAAAkCAILgEAAAAAgMRAcAkAAAAAACQGgksAAAAAACAxEFwCAAAAAACJgeASAAAAAABIDASXAAAAAABAYiC4BAAAAAAAEgPBJQAAAAAAkBgILgEAAAAAgMRAcAkAAAAAACQGgksAAAAAACAxJC6XK5jK5XJJJNLXzw0A/x1wlgHwFcCJBsCXJniWCQ8uAQAAAAAA6AJ4LQ4AAAAAACQGgksAAAAAACAxEFwCAAAAAACJgeASAAAAAABIDASXAAAAAABAYiC4BAAAAAAAEgPBJQAAAAAAkBgILgEAAAAAgMRAcAkAAAAAACQGgksAAAAAACAx3yC4HDly5IMHD4iP165d++mnn75+NgAAAHwTZ8+e9fb2Njc3DwkJ+dZ5AeDHxGQy165d6+TkRKPRJkyYcO/eva+5dumvuTIAAACge/fuP//8c2pqKoPB+NZ5AeDHxGazdXV1IyMj9fT07t27t2TJktjYWAMDg6+z9n/Xa/Hjx487OzvTaLSxY8fevn0bJ968eXPYsGE0Gm3MmDE3b97EibzVn5cvX/bz88P/b968efjw4VZWVt7e3pmZmTjRz8/v8uXLgv9fuXLFzc3N1tZ29uzZZWVlONHExOTdu3f4/7179xIP1osWLRo6dKi1tfX06dPz8vIEM798+XJbW1tra+uZM2dWVVUhhBobG4OCggYNGmRraxsUFFRZWUlMvHfvXjMzMxqNZmlpaWJiwmazEUIvXryYMmWKjY2Ng4PDpk2bmEwmQigjI2PYsGF4Lt7/hZYVrwMHDqxYsQL/z2azTUxMSktLEULJycmenp5WVlbDhw8/cOCA4IwZGRn9+vWj0Wg0Gs3Hxyc3Nxch5OHhQaPRLCwsiK+OHj2KEHr69OnEiROtra0nTpz49OlTopB3797t4+NjZWU1f/78hoYGhFBgYGBkZCSxFnd3d5xtosAvXbrk7OxsZ2c3b948XICCTExMLC0taTSamZnZ3r170f/WfIeFhZmYmOADo7PNDwkJwTMihObOnUsUPnFgZGVleXt74y3KysoSmg0AwOcYM2aMs7Ozmprat84IAD8sBQWF4OBgAwMDMpns5ORkYGCQnZ391db+7wouDQ0Nz5079+TJk4ULF65cubK6uhohRKPRoqOjs7KyQkNDN27cKHoJAwYMiI6OfvTo0fjx4xcvXowfi0kkUkdHB9+Ud+7cOXbs2MGDBx8+fGhtbb18+XLRSx42bFhiYuLDhw9NTU2JqIXXvHnz7t+///DhQ21t7fDwcIRQR0eHt7d3UlJSUlKSrKzspk2beKf38PDIysqKi4sjUshk8po1a9LT0y9cuPDw4cM///wTJwpmvrOyEoe8vPzvv/+emZl57Nix8+fP37lzR3Ca7t27Z2VlZWZm9uvX7+DBgwih69evZ2VlhYWF4a+ysrLmzZvX0NAQFBTk5+eXkZExa9asoKCg+vp6vITo6OitW7empaVJS0tv3rwZIeTp6Xn9+nX87du3b6urq4cPH06sMT09fe/evfv3709NTdXR0Vm2bJlgrnA54Jy4u7vzfdvQ0BAZGamioiJmOaSnp+fk5AguZN68ebNmzcrIyJgxY0ZgYCCxRQAAAMD3qLa2tri4uE+fPl9tjd8muFywYIHNP3799Vci3c3NTVtbm0wmjx07tmfPni9evEAI6ejoaGho4AlMTU1FL3nChAnq6urS0tIBAQFMJrOoqAghpKenl56ejiuoCBcuXAgMDOzdu7e0tPS8efPevHlDVF4K5ePjo6SkRKFQgoOD375929zczDdB3759KRQKl8tFCPXv3x8hpK6u7uLiIi8vr6SkNH/+/MePHxMTt7e3y8jI8C3B3Nzc0tJSWlrawMBgypQpeHodHZ26urq3b9/yTSy0rMRhb29vYmJCJpP79es3bty4R48edTZlR0cHh8MRUbuQnJzcs2dPT09PaWnp8ePHGxsbJyUl4a8mTJhApVIVFBQWL16ckJDA4XBGjRpVXFxcXFyMEIqJiXFzc6NQKMSioqKiJk2aZGpqKisru3LlymfPnuGKRl4sFgshJFhu2LFjxyZOnKisrCxOIXC53J07dy5atIgv/e7du0ZGRu7u7tLS0hMmTDAyMiK2CAAAAPjusFisFStWeHl59e7d+6ut9Nu0uTx06NCQIUPw/9euXSPeU0dHR4eHh+Mgj06nE5VGsbGxv/zyC0JozZo1xEIWLFggJSWFEGKxWBYWFjjx5MmTV65cqa6uJpFILS0teAnz5s1buXKlnZ0dmUym0+keHh4IofLy8q1bt/7+++94Ri6XW1VVpa+vjxDy8vIik8kIIQaDMW7cOIQQh8PZu3dvQkJCXV0d/qq+vl4wjgkKCkpLSzM2Ng4MDEQItbW1bdu2LTU1tbGxESHU2trK4XBwnmtrawWbPhQVFW3fvv3Vq1dtbW0cDsfMzAwhZGho+PPPP8+aNYvFYnE4HGKlnZUVr4SEhOTkZL7E58+f79q1Ky8vj8ViMZlMV1dXwRmrq6ttbGwYDIaqquqpU6cEJyAm09PTIz7q6ekRr7N1dXWJRBaLVV9fr6mp6ebmdv369YULF8bFxe3fv5+Y0cvLq729ff369fijoqKimppaVVUVXxHh1+tC6ybLyspu3rwZFxcXExMjevOxmzdvqqurDxo0iDdx8+bNHR0do0ePJlL09fU7e0EPAAAA/Mt1dHSsWrVKRkYGB1Ffzb+oQ09ZWdm6desiIiJoNJqUlNSECROIr9zd3d3d3V++fDl9+nRra2tctUtEqJcvX8bvWzMzM0+cOBEREdG3b18ymWxra4vrEXv16sXb5hL/o6urO2/ePBxo8omKiurZsydCaO/evTi2iI2NvXv3bnh4uIGBQXNzM7FkPseOHWMymQcOHAgJCbl8+fKpU6eKioouXbqkpaX15s0bT09PYq7Xr187Ozvzzb5x40ZTU9Pdu3crKSlFREQkJibi9IULFy5cuBAhlJGRsXLlStFlxcvV1XXXrl0IITabjUNVhNDy5ct9fX1PnDghKyu7ZcsWoVFp9+7dU1JSuFxudHR0cHAwkRPBycrLy4mPFRUVjo6OxP/EPzIyMurq6gghLy+vVatWWVtby8vL02g03gLfsWMHsajW1taGhgZtbW2+1RUXF2tpaSkqKgrmZN++fXPmzFFSUvro5uOP+/bt27dvH99C1q1bR6fTiXa9CKGysjJiiwAAAIDvCJfLDQ0Nra2tDQsL6+yl3xfyL2pz2dbWRiKR8Bvwq1evEp1mCgsLcdNJBoPB5XJlZWU7W0Jra6uUlJSGhgabzT548GBLS4uI1U2dOvX48eN4Lc3NzbwhhdAlUygUdXX1tra2PXv2CE7Q0dGRl5fH5XK5XC6TyZSTk8NzycrKqqioNDQ04JaLWFpaWm1tLdE1h3ctioqKioqKBQUF58+fF5GfzspKHK2traqqqrKysi9evOBt8SmIRCKRyWRcXyjU8OHDi4uLY2Nj2Wx2fHx8fn7+iBEj8FfXr1/Pz89va2vbt2+fi4sLrq+l0WhkMnn79u2CMb2Tk9OVK1fevn3LZDJ3795tYWHBV21ZV1eH+zAJZuP9+/fPnz+fMmWKmCUQExNDo9H69esn+JWjo+OrV6/i4+PZAq8srwAAIABJREFUbHZsbGxhYSGxRQAASWGz2QwGAze8YTAYfG2WAAASsWHDhoKCgqNHj+KY5Gv6FwWXffr0CQgImDp16pAhQ3Jzc62srHB6QkLC8OHDaTTaunXrNmzYYGho2NkSHBwcHB0dXVxcRo4cKSsrS7yZFWr06NFz5sxZtmyZlZXV+PHjU1JSREzs6empp6fn6Og4btw4S0tLwQk4HM7q1autra2HDh2am5uLOx75+/szGIxBgwZNmTKFqADLzMycO3dua2urg4MDjUYbP348QmjevHkIodWrV8fFxVlZWf3yyy9jx47tQlmJY8OGDfv376fRaIcOHXJzcxM6TXV1NdElfMuWLZ0tSl1d/ejRo+Hh4fb29idOnDh69CjROnbChAkhISFDhw5lMpmhoaHELBMmTMjNzRWsap04ceL06dPnzZvn4OBQXl5OdOgmLFu2TFNTU2hXqtra2iVLloj/WNbU1LR48WKhXxkbG//xxx+HDx+2s7OLiIg4duwYsUUAAEk5cuSIhYXF8ePHr1+/bmFhceTIkW+dIwB+NGVlZRcvXnzz5g0ONmg0GtGn9isgCX29C76cjIyMqKio7du38ybOnDkzIiLiW2VJ4vz8/Dw8PCZNmiT4VXR09MWLF0XXywIAAADg+/Uvqrn8j6BQKKqqqnyJ/5Hqsba2tj///FP899cAAAAA+O5AcPm10Wg03j7vmNB2nD+Y1NTUwYMHd+vWDbcEAAAAAMAPCV6LAwAAAAAAiYGaSwAAAAAAIDEQXAIAAAAAAImB4BIAAAAAAEgMBJcAAAAAAEBiILgEAAAAAAASA8ElAAAAAACQGAguAQAAAACAxEBwCQAAAAAAJAaCSwAAAAAAIDHCg0v42R4AvjQ4ywD4CuBEA+BLEzzLOv35x6am5i+fHwD+u1RUlOEsA+BLgxMNgC9NRUWZLwVeiwMAAAAAAImB4BIAAAAAAEgMBJcAAAAAAEBiILgEAAAAAAASA8ElAAAAAACQGAguAQAAAACAxEBwCQAAAAAAJAaCSwAAAAAAIDEQXAIAAAAAAImB4BIAAAAAAEgMBJfgbx4e7hkZGcTH2NjYOXNmf8P8fGm2tjaOjg7Dhjk6O48KDV3b3NyMEDp16uTMmf7ENBkZ6cOGOba0tHy7bALwYwoKChw6dMiwYY7DhjlOnOj9rbMDwA+ovLx88eJFI0c6ubi47NjxO5vN/mqrhuAS/Hf9+ef5lJTU6OiYpqbm48ePI4QmTPDMycl5+/YtnuDKlauurq5KSkrfNJsA/JhWrlyVkpKakpJ69eq1b50XAH5Av/++XV1d4+bNhHPnzj19+vTKlStfbdUQXIKPi4iI8PScMHz4sMmTJyUlJeHEO3fujBs3dtgwR29vrzt37uBE3urP6OjooKBA/P+uXbvGjRs3YsRwPz/frKwsnBgUFBgdHS34//XrMZMm+Ywc6RQcvLCiogIn2tralJSU4P+PHDm8ceNGhFB5ebmtrQ1+GsvOfmVra3PkyGE8TWpq6rRp05ycRgQEBOTl5YnYOiUlpWHDhhUVFSKEunXr5uTkdPnyJYRQdXV1amqKj8+kzyo7AAAA4FsoLy8fPdpZVlZWU1Nz8OAhhYUFX23VEFyCjzMwMAgLO5GUlDxnztz163+pra1FCA0YMODs2XMpKanLl6/Yvn2b6CWYmpqeO3fuzp27Li6uISEhDAYDIUQmkzs6OvimvHcvOTw8fMeOnbdu3ba0tAwNDRUzk/v27e/evTv+Pyfn7W+/bVq7du2dO3e9vb2XL1/GZDI7m7GpqenevWRz8wH4o4/PpFu3bjU3N0dFRZmZmVGpVDEzAAD4JIcOHXR2HjV7dsCTJ5nfOi8A/IB++umnW7dutbe3V1dXP3hwf/DgIV9t1RBcgv+3cuUKJ6cR+O/337cT6c7OzlpaWmQyecyYMYaGPbKzXyGEtLW11dXVEUIIcU1MTEQveezYsWpqatLS0r6+viwW8927dwghbW2dzMzHfK1Arl69NnPmTCMjI2lp6VmzAnJzc4jKSxFSU1MR4tra2uGPUVFRXl7e5ubmUlJS48ePl5GRefnypeBcfn6+Tk4jRo92rqys9Pb+u9WXlZWVnp5edHRUTEz0xIk+H101AKALgoMXRUfHxMff9PLyXrZsWWlp6bfOEQA/GhrNqrCwcMSI4ePGje3f33TEiBFfbdXSX21N4N9v585d9vb2+P/Y2NiYmL/fU9+4EXfu3J8VFeUIoba2toaGBpyekJCwZctmhNDSpcuIhaxcuUJKSgohxGKxzMzMcGJkZOT16zE1NTUkEqm1tRUvISAgYP36X5ydR5FIpLa2Nje3sQihysqK3bt3//HHH8QCq6urdXV1EUJ+fr4kEgkhxGQyR48eQ0zQ0dFx6NDB0NB1V69exSkVFRVxcXGXLl3EH1ksVm1tjeD2RkaeNTQ0ZLPZly9fnjt37qVLl2RlZRFCEyf67N+/T0FBwdnZ+bMKFADQCXNzc/zP+PHjExMT799PmzJl6rfNEgA/ko6OjkWLgr28vE6ePEWn03/7bdOBA/sXLVr8ddYOwSX4iIqKii1bthw+fGTAgAFSUlLTpk3jcv/+ytXV1dXV9fXr14GBcy0tLY2NjRFPhBodHX3zZjxCKCsrKzLyzOHDR4yNjclk8siRTlwuFyHUo0ePiIjTeFFE60xtbe1ZswLc3NwEc4JjQYTQkSOHq6qqifS4uLiePXsOGDCACC61tbUDAgICAsTq7S4tLe3p6blnz+6CggJTU1OE0Lhx4/bv3+fu7kGhUD69wAAAn4ZEIhFXFQCARDQ1NVVWVk6ePIVCoVAoFHd3jyNHDn+14BJei4OPaGtrI5FIampqCKHr168TLYKLi4tx00kGg8HlcnGdn1B0equUlJSamhqHwwkLC2ttbRWxOm/viRER4QUFBQihlpYWoquQCOHhpxYsWMib4unpdfXqtVevXnG53La2trS0NBEr5XA4sbHXZWVl9fX1EUJMJvPVq5dsNnvixIkfXTUAoAuam5sfPnzIYDDYbPbNmzezsp4OHjz4W2cKgB+Kmpqanp7+lStX2Gx2c3PzjRtxffv2/Wprh5pL8BHGxsbTp0+fPTuARCKNGzfOwmIgTr97986FCxeYTKaWltbq1atxZCbUoEGDBw8e7OMzUU5Obtq0adra2iJW5+Tk1NZGDw1dW1lZqaioZG9v99F30w4Ojj169OBNMTU1DQ0N3bFjR0nJe1lZWUtLSxqNJjjjtGk/kUgkMpnco0fPnTt3qaqqIoQWL15UWFi0YMECPT090esFAHQNm80+cuTIu3fFZDK5V69eu3bt6tmz57fOFAA/mh07duzZs/vMmdNkMtnW1pa3AduXRuJ28jaiqan5q2UCgP8gFRVlOMsA+NLgRAPgS1NRUeZLgdfiAAAAAABAYiC4BAAAAAAAEgPBJQAAAAAAkBgILgEAAAAAgMRAcAkAAAAAACQGgksAAAAAACAxEFwCAAAAAACJgeASAAAAAABIDASXAAAAAABAYiC4BAAAAAAAEgPBJQAAAAAAkBgILgEAAAAAgMSQuFyuYCqXyyWRSF8/NwD8d8BZBsBXACcaAF+a4FkmPLgEAAAAAACgC+C1OAAAAAAAkBgILgEAAAAAgMRAcAkAAAAAACQGgksAAAAAACAxEFwCAAAAAACJgeASAAAAAABIDASXAAAAAABAYiC4BAAAAAAAEgPBJQAAAAAAkBgILgEAAAAAgMRAcAkAAOBLOXv2rLe3t7m5eUhICJH48OFDV1fXgQMH+vn9H3t3Hk9V/v8B/HOvtZSQtWhRfbVQ94Yi+07WaNE60aK0L9qT1imVFhNFaZVWpLRI2WpK4aZtWmdKsodku9zl98eZuV8/JDPf65r0ej7mj3Pe53PO532OPuPt8zmXqR8/fmzH9AC+I01H06NHj7y8vEaMGGFgYLBw4cKioiIqfuzYMSsrq+HDhxsbG2/bto3D4Yg4VRSXP4TLly+7u7szmUxjY+OZM2dmZGS0d0YA8ENQVlb29fX18PAQREpLS+fPn79o0aIHDx5oa2svWbKkHdMD+I40HU2fP38eP3787du3k5KSZGRkVq9eTcUtLS1jYmKysrKuXLny4sWLkydPijhVcRH3B6J39OjRsLCwjRs3GhsbS0hIpKWl3bp1S09Pr73zAoCOz9bWlhDy5MmTwsJCKnLz5s0BAwY4ODgQQhYsWGBgYPD27dt+/fq1Z5YA34Omo8nMzExwdMqUKVOmTKG2e/XqRW3w+Xw6nf7+/XvRZoqZy47uy5cv+/fv9/f3t7W17dy5s4SEhKWl5cqVKwkhdXV1W7duNTY2NjY23rp1a11dHSEkMzPT0tKSyWSamZmdOnVKcJ09e/YMGTKEyWQyGAwtLS1qjv3x48cTJkzQ09MzNjbetGkTdQVCiJaWluCf8p49e6gJ/Nzc3IYnamlp7dmzh2qTlJTk6uqqp6fn6en54sWLRrdQXV3t7Ow8fPjwkSNHrl+/vuWuExMT7ezsmEwmk8nU0tLKzc0lhEydOlVHR4fJZBoaGgo6XbVqFbVdVlY2evTo06dPE0LS09NNTU2pBlevXtXS0jp//rwwvx4AP7zXr19raWlR2507d+7Vq9ebN2/aNyWADuDhw4cDBgwQ7F6+fHn48OEGBgYvXrzw9PQUcTIoLjs4FovFZrNtbGyaHgoNDc3Ozr506VJcXNyTJ09CQkIIIX379j19+jSLxQoNDd25c+eXL18E7V1cXFgs1pUrVwQROp2+evXq+/fvnzlz5t69e1R91hqBgYEqKirU9vPnz9esWbNp06b09PQJEyb4+voKKkWKpKRkUFBQRkbGtWvXHj16lJqa2kLXGzZs8PHxYbFYDx8+bHgRf39/Fot1+vTpiIiIV69eCeJVVVWzZs1ycnKaNGlSw/b19fX79u1TUlJq5R0BQCtVV1d37dpVsNulS5eqqqp2zAegA3jx4kVISMiKFSsEEWdn56ysrBs3bnh6enbv3l3E+aC47ODKy8vl5eXFxZt5/+Hy5cvz5s3r3r27goLCvHnz4uLiCCEKCgqqqqqEED6f37dv306dOlGNa2trJSQkGl1BW1ubwWCIi4urq6tPmDChUT33NUlJSXw+f9SoUdTu2bNnJ0yYMGzYMDExsTFjxkhISDx69Khhe3Fx8QEDBtDpdD6f36lTpz59+rTcNZfL5fP5zXbN5XLFxMQE39jq6urmzZvXr18/X1/fRi3Pnj07bNiwvn37tuaOAKD1OnfuXFlZKditqqqSkZFpx3wAvnfv37+fNWvWmjVrmr7w1qdPnwEDBmzcuFHEKeGdyw5OTk6urKyMw+E0rS+Liop69OhBbffo0UPwKbOMjIxZs2bV1dXNnTtXcFZJSYm6unqjK/zxxx/bt29/+vRpTU0Nl8sdMmSI4NCYMWPodDohhM1mOzo6CuI8Hi8oKGjz5s1nzpyhInl5ebGxsYIl+Pr6ekEmDenp6X358sXOzo6aTfxa1z///PPmzZs3bdokJSXV8PQtW7bs2LHjy5cvU6ZMUVNTo4KnT58eOHAgi8Wqra2VlpYWNK6srDx8+HBkZGTDz7cCgFAMGDAgJiaG2q6urs7Jyenfv3/7pgTw/fr48aOXl5evr6+bm1uzDTgcTk5OjoizwsxlB8dkMiUlJRMTE5seUlZWzsvLo7bz8/OVlZWpbT09PRaLFR8fHxUVlZKSQgWfP38+cODARlcICAjQ1NS8ceNGVlbWkiVLGs4XxsTEZGRkZGRkeHt7NzwlJiamb9++DAZDEFFTU5szZ07GX7Kzs52cnJpmm5GR8eDBg4qKioMHD7bQtZGRUZcuXQIDA+/fv9/w9HXr1lFXyMzMFKzsM5nMyMhIHR0dwYuYlCNHjjg4OPTs2bO5JwoAfwOHw2Gz2Twej8vlstlsDodjY2Pz+vXrGzdusNnsAwcOaGlp4dM8AK3RdDQVFhb+9NNPkydPnjhxYsOW58+f//TpEyHkzZs3YWFhhoaGIk4VxWUH17Vr14ULF27atCkxMbGmpqa+vj4lJSUwMJAQ4ujoGBoaWlpaWlpaeuDAAWdnZ0LIhw8fqPef6urqeDweNZ93586dkpISwSddBKj1LBkZmbdv30ZFRbUmn4MHDy5durRhZNy4cWfOnMnOzubz+dXV1cnJyQ2XzAghpaWl1Fwml8vlcDhUSl/rOiIiQkVFhfogalNiYmI0Gq20tJTaHTZsmLi4+Nq1a+Pj41ksluCmoqOj58yZ05rbAYCWhYaGDh06NCwsLC4ubujQoaGhoQoKCsHBwXv27NHX13/8+HFQUFB75wjwfWg6ms6fP//hw4dffvmF+ReqZVZWlrOzM4PBmD17tqmpaaNvuyKAZfGOz9vbW1FRMSQkZPny5TIyMkOGDKEqJ19f36qqKhcXF0KIvb099d5henr63r17q6qq5OXlp0+fPnLkSGqVnEajGRsbE0KoOcI5c+YcPnx45cqV69evP3LkyKBBg0aPHt1osrBZ5ubm1EuTAjo6OtRC9vv376WlpYcPH97orZGCgoIlS5YUFRVJS0ubmZnNmDGDENJs1zk5OUePHr148WLTfjdt2rRt2zYJCQkTE5OxY8c2PKSgoLBu3bo1a9ZcunSJEFJZWTl37txu3br9rYcMAM1asGDBggULGgVHjRp1/fr1dskH4PvV7GiaP39+05Y///yzSDL6KtrXPvoAQElPT4+Jidm+fXvD4PTp048dO9ZeKQEAAMC/FpbF4RskJSWbTuMpKCi0SzIAAADwL4eZSwAAAAAQGsxcAgAAAIDQoLgEAAAAAKFBcQkAAAAAQoPiEgAAAACEBsUlAAAAAAgNiksAAAAAEBoUlwAAAAAgNCguAQAAAEBoUFwCAAAAgNA0X1ziz/YAtDWMMgARwEADaGtNR9lX//xjRcWXts8H4MclK9sVowygrWGgAbQ1WdmujSJYFgcAAAAAoUFxCQAAAABCg+ISAAAAAIQGxSUAAAAACA2KSwAAAAAQGhSXAAAAACA0KC4BAAAAQGhQXAIAAACA0KC4BAAAAAChQXEJAAAAAELz7eJyy5Ytq1evFuzGxMS4uDjzeLy2zAqgzYWGhnp6TjAwGBkWdqi9cwH4ESUk3Bg3bqyJibGbmyuLxWrvdAC+V+vXr7e3tzM3N/PwcI+NjaWCtbW127dvt7a2Mjc3mz17lohTEv9mi7Fjx3p5TS8pKVFUVCSEXLx4YcwYdzodU57wfdPQ0FiwYGF09MX2TgTgR5Sefj84OHjbtp+HDBlSUlLS3ukAfMemT5++fv16SUnJd+/e+fj4aGlpDRo0aOvWrVwu5/z5C7Kysq9evRJxSt+uEQcOHDhw4ECqFn769Onvv//u5uZGCPHxmS0okBtux8VdGjdurKWlxYIF8/Pz86mgvr7ehw8fqO3Q0JCAgABCSF5enr6+HofDIYQ8e/ZUX18vNDSEEJKZmeHoOJpqvH//vtmzZ7PZ7EZZZWdnT5s2zdzcbNq0adnZ2YSQEyeOm5qamJqajBihb2xsZGpqMn78eEJIQECAoaGBqamJlZXlli2bqe54PN6xY8fc3Fytra1Wr171+fNnQsikSRNNTU2MjY1GjNCnLnX0aETD5AsKCoyNjdavXy9IQ19fz8TE2NTUxMBgJJV8Q2FhhwSNORyOvr5eXl4eIeTOnTuTJ08yNzdzdHRsdtosO/uRq6uLqamJo6PjuXNnBQ/ZyGiUqamJra1NSMgBKlhZWblhg7+NjbWzs9ORI4epGeXLly/PnDlDcDVHx9GZmRmEkLq6ut27dzs42Ds42O/evbuuru4fP+2G+VAPzcXFmYoXFxevWOFnY2Pt6upy5swZwaNYuXLF6tWrzcxMp0yZLPiHTn0VzMxMx48fl5SURJ1OXdPQ0MDAYCS1Tc1qxMTEjBnjZmVluXTpkuLiYsGX4MyZM66urtbWVvv27aOeQG5u7ty5c6ytraytrdatW/fly5emD9nJycnIyKhzZ5lG8czMDME/gBEj9NPT05ueCwD/o0OHwmbOnKmjo0On05WVlZWVlds7I4DvVb9+/SQlJaltGo3k5ua+e/cuLS11zZq18vLyYmJigwYNEnFKrZqAHDt2bExMDJfLvXDhvKWllby8PCGETqc3XRxPSUk+evRoYODOhISbDAZj7dq1rcxj3779Tf/ncvz4sQcPHgQFBUlJSTWMf/78ecmSxZ6eExITb02ePGnJksXl5eXTpv2UmpqWmpqmqqq6e3dQamrauXPnqPbTpk1LTU07e/bcnTt37t27Rwg5e/ZsSkryoUNhV69e69q1a2DgDkLI6dNRqalp+/btU1JSoi7l5eXdsN+DB0O7desm2KVuPyrqTGpqmr29QyvvlBDSqZP0xo2bbt9O2rt378WLF5OTkxs16NWrd1hYeGpqWlDQ7v3791dWVlJxP78Vqalp4eGHIyMj37x5QwjZuTOwsrIyNvbSoUNhV69evXw5roV+IyIinj59Ehl5+vTpqGfPnh05cuQfP+2G+aSmpu3eHSR4JkuXLhkw4D9Xr147cCAkKiqKeuCEkJSUFGtrq1u3btvZ2fv5LaeqfHV19fDww0lJyTNnzvL3X19SUtLg4XvZ2NhS20wm8+HDhwcO/PLzz9uvXbuupqa2du0aQYbJyUknTpw4dSoyNTUlLi6OEMLn86dPn3716rXz5y8UFRWGhYW1/qvD4/GVlJQF/5ZafyIAtBKXy/3tt+dlZeVjxrg5Oo4ODNxRW1vb3kkBfMe2b99ubGw0btxYRUVFIyOjZ8+eqqqqhoUdsra28vSccPv2LRHn06ri0trahs2uvXLlcmJi4tixY6mgiopqRsZDqkQQuHgxevr06X379hUXF/fy8n716qVg8rIFaWlphPD19Uc0DMbGxp46dWr//uAuXbo0an/37h0NDY3Rox3FxcXt7Oz79OmTlpb2zV54PB6fT6jqMDr64ty5vioqKpKSkrNn+9y6davRjTT1+vXrJ0+eODo6CiL19fWEEHHxb79a0Iiurl7//v3pdPqAAQNsbe2ysjIbNZCXl1dRUSGE8Pmkd+/e0tLSDY9yuVw6nd6lSxcul5uQkDBv3nwZGZkePXpMnjz56tWrLfR7/fq1mTNnKigoyMvLz5o169q1/zYW1tN+/vx5WVnZrFmzJCQk1NXV3dzcEhISqEODBg2ysrIWFxefPHkym81+8uQJIcTa2lpJSYlOp9va2mpo9Hr27GkLybu4uAwcOFBSUnLevPmPHz+mpoEJIdOm/dStWzdVVVVPz4k3btwghGhoaIwcaSApKSkvLz9p0uSmT7gF9fX1EhJ/+2sKAK1XWlrK4XBu374VHn44MvL0y5cvIyKOfPs0APiKVatWpaSkhocftrCwkJSULCoqevv2bZcuXa5du+7ntyIgIOCPP/4QZT6t+iYqJSXl7Oyyc+fOXr16MRgMKujt7e3vv97a2opGo9XU1Dg4jCaEFBTk7969e+/evYJzi4qK1NTUCCFTp06h0WiEkLq6OhsbW0EDHo934MAva9euu3jxv2+/lZWVHTlyWFpa+tWrVwYGBo3yKS4upq5JUVVVLS4uaiH/U6dOnTt3rqqqyszMbPDgwYSQ/Pz8FSv8qHwIIWJiYqWlpS2vywQHB/v4zHn37r9fnoqKCkKIrKxsC2clJt68c6dxKfb06dNffgl++/ZtfX19fX29lZVV0xMfPXq0aNFCNps9Y8YMQf26a9fOffv2VlZWjh8/XlVV9dOnTxwOR/AoVFXVBIvFT58+tbAwp7arqqqojZKSElXVPxurqf23sRCfdn5+fklJiaBrHo8n+AdDlcuEEDqdrqysQvUeH38lMvJ0fn4eIaSmpkYwJ9pUcXGJltZAartz587duskVFxf16NGj4ZXV1NRKSooJIZ8+fdq9e9ejR4+qq6t5PF7Xri19jRqpqKho+WsKAP8janlk/PgJ1Kv8kydPPnLkiK/vvPbOC+A7JiYmxmAwrl27euHCBSkpKXFxcW/vGeLi4rq6urq6evfv3+/bt6/IkmntDI27u/upUyc9PDwEkV69eh07dpza9vGZTW2oqKh4eXk7ODSzRnzy5CkNDQ1CSGhoSGHhf6uTK1eu9O7dW0dHp2FxSafT9+3bX1hYuG3b1qioMzIy/+/FOCUlpdu3bwt2CwoKDQ1HtZD8lClT5s71rampWb161cmTJ728vFRUVPz9/YcNY7Ty9h8+fPj5c7mNjU14+H8XWHNy3isqKnbu3LmFE62tbTZv3kwI4XA4hoZ/1m3r1q0dP378vn37paSkdu/e3WxFxWAwUlJSc3JyZs2aNXjwECMjI0LI8uV+bm5uFRUVc+fOuXHjurW1jbi4eH5+vqamJiGkoKBASUmJOl1bW/vw4T9nAgSvVCoqKhYU5Pfr169RYyE+bRUVlR49ekRHxzQ9VFhYSG3weLyiokIlJaX8/PytW7eGhITq6OiIiYlNmjSJz//qk1RSUiwo+HMWvKam5vPnciUlZcGVBTelqKhECAkJOUCj0aKiznTr1i05OXnnzsCvXreJnJz3vXr1an17APi7ZGVllZVV/vrpnhBCa6ExALQel8vNzc01NTVtGKSJfIS1alm8traWxcqSkZGhpidb4O7ucezY0bdv3xJCKisrExMTv3nxo0cj5s2b3yjYrVs3TU1NQ0NDfX394OD9jY6OGmWUk5Nz/fp1DoeTkJDwxx+/m5iYfLMjOp1Oo9HKy8sIIR4eHiEhIdSSfVlZWUpK47ceGwkPD1u4cCGtwdenvLz82LHjZmbm3+y3qerqalnZblJSUs+ePb1x43rTBrm5udXV1YSQuro6Pp8nLf3/XoKkbqSsrFxMTMza2iY0NKSqqio/P//06ciWv0B2dnZHjkSUlZWVl5cfPhwu+BlAiE97yJAhnTt3Pn78WG1tLZfLffPmzbNnz6hDv/322+3btzkcTlTuYcZZAAAgAElEQVTUaUlJSR0dnZqaGhqNJicnRwiJi4v7/fe3LSRva2t3+fLlly9f1tXVHThwQFtbm5q2JIScPHmyoqKioKDgzJkoGxsb6gl36tS5S5cuRUVFJ0+eaPaCHA6HzWbz+Twul8tms7lcLiHk999/j4uL+2dfVgBoPWdn57Nnz5WWllZUVERFnTY2/vb/wwGgqdLS0oSEG9XV1Vwu9969ezdu3NDX1x8+fLiqquqxY8c4HE529qPMzExDQ0NRZtWqmUtPzwkcDmfFipUtz9IRQiwsLGpqqteuXVNQUCAj02XkyBHW1tYtn2JsbNLCRNGSJUsnTJhgY5Ohq6snCMrJye3Zs3f37l3bt/+soaGxZ89eqkD5mhMnTkRFRYmJiQ0dOnTatJ8IIZ6eE/l8/vz580pKSuTl5W1sbFuuJ7S0tBomQAhZs2aNsrLS/PmNy+LWWLly5d69e3fuDBw+fLi1tfWXL5WNGmRlZYaGhlZVVcnJyU2cOEnQ9c6dgUFBuyUkJAwNDV1dXQkhfn5+O3fudHNzlZSUcnNzc3FxaaFfb+8ZVVVVEyd6EkKsra29vWc0avC/P20xMbE9e/bu3bvH1dW1vr6ud+/ec+bMpQ6ZmZndvHlz48YAdXX1wMCd4uLimpqakydPnjHDm0ajOTo6Dh06rIXkR44cOWfOnJUrV3z58mXo0KFbt24THDIzM5s6dWpVVaWjoxP1WGbOnBUQsMHCwlxdXWP06NFRUaebXnDLli3x8Veo7YiICH//DdbW1gsWzPfw8KAqVABoOzNnziwvL/fwcJeUlLKxsfb29v72OQDQBI1Gu3Dh4s8//8zn81VVVZcuXWZmZkYI2bVr99atW44fP6amphYQsLFPnz4izYr/lZXIiopmfnsLwD8TFnbow4dc6g0B4dLX14uOjqHeuPi+yMp2xSgDaGsYaABtTVa2a6MIfhc6AAAAAAgNiksAAAAAEBosiwO0D6zWAYgABhpAW8OyOAAAAAC0IRSXAAAAACA0KC4BAAAAQGhQXAIAAACA0KC4BAAAAAChQXEJAAAAAEKD4hIAAAAAhAbFJQAAAAAIDYpLAAAAABCa5v9CD5/Pp9Foos8G4MeBUQYgAhhoAG2t6Sj76p9/BAAAAAD4u7AsDgAAAABCg+ISAAAAAIQGxSUAAAAACA2KSwAAAAAQGhSXAAAAACA0KC4BAAAAQGhQXAIAAACA0KC4BAAAAAChQXEJbai+vr69UwAAAACRQnEJQvbbb7/Nnz/f0tJSV1f36NGj7Z0OAAAAiBSKSyGLjo52dnYeNmyYkZHRhg0bKioq2jsjkcrJyZk+fbqlpeX169czMzNnz57d3hn9F4vFYjKZXC6X2l23bl2jXX9/f2o7PT1dS0srLCysfRIF6Ojq6urWrFljYWHBZDJdXV1TUlLaOyOAjik+Pt7BwYHBYFhbW2dkZIisXxSXwhQREbFr1y4/P7+MjIyzZ8/m5eV5eXnV1dW1d16iExISMmPGDHd3d0lJyfbOpTFtbW0+n//s2TNqNyMjQ1VVVbD78OFDfX19ajs2NlZOTu7SpUvtkyhAR8fhcNTU1E6ePJmZmbl48eLFixfn5ua2d1IAHc3du3d37dr1888/Z2VlRUZGamhoiKxrFJdCU1lZGRwcvG7dOlNTUwkJCXV19b179378+DEuLo6aM2MymUOGDNHW1qa28/LyoqOjBw0axPzLwIED09PTCSHBwcELFy5cvHgxk8kcM2bMixcvqC7CwsKsra2ZTObo0aNv3rxJBQUXGT58+LRp0woLCwkh6enppqamVIPAwMApU6aw2eyvXaEhLpd78OBBqo27u3t+fj4hJCsry8PDQ1dX18PDIysri2pZWFg4Z86cESNG2NjYnDt3jgo+fvz4zZs3pqamBgYGfn5+X758IYTk5uZqaWlxOBxCyK+//mppaSnIfOLEiYKrLViwwMDAwNLS8sSJE1QwODh4+fLl1DaHw9HS0qK+A61atWrPnj1UfNasWYKLv3371tPTc/jw4Uwmc9CgQdHR0Q1vTUJCYtiwYdSPbp8+faqvr3dwcBDsvnv3jiouq6urr1+/7u/v//79+ydPnvyjfwsA0JLOnTsvWLBAXV2dTqdbWFioq6sLfswDAGEJDg729fVlMBh0Ol1FRUVFRUVkXaO4FJqsrCw2m21rayuIyMjImJmZ/frrr0wmk8VisVgsZ2fnGTNmUNs9evQghDAYDNZflJWVBefeunXL3t7+wYMHTk5Ovr6+1CdjNDQ0IiMjMzMz58+f7+fnV1RURDWmLnLv3j1JScljx441zCosLOzevXsHDx6UkpJq4QoCR48ejY+PDwsLy8rK2rZtm7S0dHl5uY+Pz9SpU9PT0728vHx8fMrKygghS5cuVVVVTUtL279/f1BQ0L179wghtbW1LBYrMjLy1q1bNTU1mzZtas2j4/F4c+fO1dLSSk1NPX78+PHjx9PS0lpz4v3791++fCnY/eWXX/r16/fgwQMWi8VgMJq219fXf/jwISHk4cOHurq6urq6gl11dXVVVVVCSEJCgoyMjL29vbGxcWxsbGvSAIB/rKSk5N27d/3792/vRAA6FC6X+/Tp07KyMhsbG1NT002bNtXW1oqsdxSXQlNWViYvLy8uLt4wqKSkRJVif9eQIUPs7e0lJCSohfXs7GxCiIODg4qKCp1OHz16dO/evR8/ftzwFB6Px+fz5eTkBJHz589HREQcPny4S5cuVKTlK1CnLFq0SFNTk0ajDRw4UF5ePjk5uXfv3m5ubuLi4k5OTpqamklJSfn5+VlZWcuXL5eSkho0aNC4ceMEi8jTp0/X0NCQkZFZunTp1atXqTnFlj158qS0tHT+/PmSkpIaGhrjx4+/evXqN8/i8/k7d+5cuHBho4fA4/G+doq+vn5WVhafz8/IyNDT02MwGNnZ2dTuiBEjqDaxsbEODg5iYmJOTk7x8fH4wDtA26mvr1++fPmYMWP69evX3rkAdCglJSX19fXXr1+PjIyMjY19/vx5aGioyHpHcSk08vLyZWVljWqp4uJieXn5f3A1ahaNEELNZlNTjLGxsa6urnp6enp6eq9fvxaUrdnZ2Xp6evr6+rm5uWPGjKGCpaWlISEhnTp1+u233wSX/doVBAoKCnr16tUwUlRURE2yUnr06FFYWFhUVNStWzdBzUoFCSESEhI9e/akgj179uRwOJ8+ffrmzX78+LGoqEjvLwcPHiwpKaEOXb9+nQoaGBg0OuvatWvy8vIN40uWLPnw4QODwdDT06PK8UYYDEZVVdWrV68yMjJ0dXVlZGRUVVWpXT09PUJIfn5+enq6s7MzIcTKyorNZuOjBgBthMfjrVixQkJCYv369e2dC0BHIy0tTQiZOnWqsrKygoKCl5eXKL+dobgUGiaTKSkpmZCQIIhUVVWlpqYaGhr+g6sVFBRQGzwer7CwUFlZ+ePHj+vWrVu/fn16enpGRsaAAQMEjalXCR8/fuzs7Lx69WoqKCYmFh4evmnTJn9//8rKSkJIC1cQUFVVzcnJaRhRVlbOy8sT7Obn56uoqCgrK3/+/Jm6rCBICOnRo8fHjx+pYF5enri4ePfu3b95s2pqaurq6hl/YbFY4eHh1CF7e3sqeP/+/YancDicffv2Cd7IpPTq1WvgwIETJkzIyMgYNmxY046kpKR0dHSSkpKKi4upmRI9Pb2kpKSXL19SL1xeunSJWqM3MjKytrauq6uLiYn5Zv4A8Hfx+fy1a9eWlJQEBwdLSEi0dzoAHU23bt1UVVVpNBq1K9gQDRSXQtO1a9d58+Zt2bIlNTW1vr4+Nzd38eLFqqqqrq6u/+Bqz549S0hI4HA4x48fl5SUHDZsWE1NDY1GU1BQIIRcvHjx9evXjU6h0WhiYmKlpaXUbrdu3fr3729iYmJgYLBz505CyDevQAgZN27cvn373r17x+fzX7x4UVZWZmZm9u7du8uXL3M4nKtXr75588bc3FxNTY3JZAYFBbHZ7BcvXly4cMHFxYUQ4ujoePz48Q8fPlRVVe3Zs8fBwaHRewLNGjp0qIyMTFhYWG1tLZfLffXqVdP1+kYuXbpEfQSqYfDRo0eJiYnLli1r4UR9ff0TJ04wmUxqV1dX98SJE0pKStR8bUxMzPz582P/sn///pSUlH/2YgMAtGDDhg1v3749ePAgNb8CAELn7u5+8uTJT58+ff78+dixY+bm5iLr+tvf+KH1Zs2aJScnFxgYmJOT06VLF2tr6127dv2zX8pjZWV19erVlStX9u7dm/rJvn///t7e3p6enjQazc3Nbfjw4YLGjx49YjKZNBqtT58+TReYVq9e7eTklJ6ePnLkyK9dQYB6xdPb27usrExTU/PAgQOqqqoHDx7ctm1bQEBA7969Dx48SJWnQUFBGzZsMDExkZWVXbBgwahRowgh7u7uBQUF1IfTjY2NBb85khBCfUi8rq6uoqKC+iR7bW1tdXX10aNHvby8Dh48uGPHDisrq7q6ur59+y5evLjl51NRUbFo0aKGkfr6+vXr169du1awWN8sfX39Q4cO6erqUru6urqfPn1ydHSkHmNeXt7kyZOpG6S+Cr17946Pj58yZUrL+QBA6338+PHs2bOSkpLGxsZUZOPGjdQPqAAgLL6+vmVlZXZ2dlJSUg4ODnPnzhVZ1zQ+ny+yzqCVgoOD379/v2vXrvZOpM1lZGTcu3dvwYIF7Z0IAAAACAeWxaE9ycrKivLXugIAAEBbw7I4tKf//Oc///nPf9o7CwAAABAaLIsDAAAAgNBgWRwAAAAAhAbFJQAAAAAIDYpLAAAAABAaFJcAAAAAIDQoLgEAAABAaFBcAgAAAIDQoLgEAAAAAKFBcQkAAAAAQoPiEgAAAACEpvniEn+2B6CtYZQBiAAGGkBbazrKvvrnHysqvrR9PgA/LlnZrhhlAG0NAw2grcnKdm0UwbI4AAAAAAgNiksAAAAAEBoUlwAAAAAgNCguAQAAAEBoUFwCAAAAgNCguAQAAAAAoUFxCQAAAABCg+ISAAAAAIQGxSUAAAAACA2KSwAAAAAQGhSXHZyLi7OxsZGpqYmlpcXixYsKCgpEn0NY2CF9fb2oqChBJCoqSl9fLyzsECEkMzNjxAh9U1MTU1OT0aMdDh06RLWZN883OHi/4JSQkAOzZs0UYkoGBiOpTseNG3v79i1CSE1NjYWF+d27dwXNZszwDg0NFVanACDg4zPbyGgUNQY9PNzbOx2Ajikh4ca4cWNNTIzd3FxZLJbI+kVx2fHt3h2Umpp27dp1BQWFXbt2tksOvXr1uno1XrAbH3+lV69egl0lJaXU1LTU1LTw8MNxcZeSk5MJIR4eY+Pi4urq6gghHA7n0qW4sWPHCjElGxtbqtOlS5f5+/t/+vSpU6dOjo6OFy5coBq8fv362bNn7u74tgfQJvz8VlBj8OLF6PbOBaADSk+/Hxwc7O+/ISUlNSwsvGfPniLrGsXlj0JKSsrKyuqPP/6gdgMCAkJDQxo2iI2N9fGZTQjJzs62trai5jhfvXplaWnx7t07Qsgff/zh4zPbwsJ8/PjxKSkpDU8cOXIENQOhr6/34cOHpr0PHjyktrb27du3hJC3b9/W1dUNHjykabOePXsOHTr0jz9+J4SYmppKSkomJt4khNy+fZsQYmlp1ai9j8/s2NhYajs9Pd3FxZnaPnbsmJubq5mZ6fjx45KSklp+MoaGhp07d87NzSWEjB077t69X/Pz8wkhFy9eMDExUVFRafl0AACAf6FDh8Jmzpypo6NDp9OVlZWVlZVF1jWKyx9FbW3tzZs3tbW1v9ly2LBh7u7uGzcG1NbW+vuvnzNnTp8+fTgcztKlSwwMDBISbvr5+fn7r6cqTkIIn89nMpnUDEQLlx09ejQ1eRkff8XBYXSzbXJycrKzs7W1dQgh4uLibm5jqHnECxcuuLq6SEhItPJm1dXVw8MPJyUlz5w5y99/fUlJydda8vn8O3fu1NfXa2pqEkL69OnDZDIvXrxYVVV17do14c6VAkBDBw78Ym1tNWOGd2ZmRnvnAtDRcLnc3357XlZWPmaMm6Pj6MDAHbW1tSLrHcVlx+fnt9zCwtzc3Cw9PX3q1GmtOWX2bJ/Kysrp039SUlIeN248IeTJkyfV1TU//TRdQkJCX1/f2Ng4IeEG1ZjNZrem7HNwGH3jxg0Oh5OQkODg4NDwUHFxMZWhh4f7kCHaDAaDio8ZM+b58+fXrl17/Dh7zJi/sTxtbW2tpKREp9NtbW01NHo9e/a0aZvExJsWFuampibLli318vLq2rUrFffwGBsXd+nSpVhFRcURI0a2vlMAaL0FCxbGxl66evXamDHuS5cupZYOAEBYSktLORzO7du3wsMPR0aefvnyZUTEEZH1juKy49u5c1dSUvLdu7/6+a3w8ZktmMY7deqUhYW5nZ2tn59feXl5w1PExcWdnJzevn07ZcpkGo1GCCkuLlZRUaHT//wHo6qqVlRUTG1/+vRJTk7+m2moqqpqaGgcOHBAQ6OXqqpqw0NKSkpJScnJySlJSclSUlIBARuouKKiorm5+datW0aNGqWmptbsZXft2mlhYW5hYe7nt1wQjI+/MmnSJCr+++9vG90dxdraJikpOS3tTkxMbHx8fHT0RSpubm4uJiYWEhLi7u5O3TsACJ22traMjIykpKSTk9PQocPu3r3T3hkBdChSUlKEkPHjJygqKsrJyU2ePLnhx1XbGorLH4WYmJilpSWdTs/OfkRFpkyZkpSUHBt7qba29uTJkw0bFxUVhYeHOzs77927l/pIjZKSUmFhIY/HoxoUFhYoKytR2y9fvvzPfwa0JofRox0jI085Ojp+rUGXLl3s7e3T0v67vD5mjDubzR47dtzXTlm+3C8pKTkpKXnnzl1UJD8/f+vWrStWrEhMvJWUlKyp2Y/PbymrHj16jBplJOhUXFzcxcWFEOLs7NKamwKA/xGNRmt5kALA3yUrK6usrNJghkSkcyUoLn8UfD4/JSX5y5cvffr0bRiXlJSUlpbm83kNW27cGODq6rp+vb+iouLBg6GEEG1tbWlp6RMnTnA4nMzMjLS0NFtbO0LImzdvWKwsKyvr1uRgY2MTHPyLtfVXG1dXVyck3KBefySE1NTUZGc/UldXNzQ0bP2d1tTU0Gg0OTk5QkhcXNzvv79tuX1hYeG9e79SnfJ4vIqKiufPf7O1tZWVlW19pwDQel++fLl37x6bzeZwONeuXWOxsv7WGAeA1nB2dj579lxpaWlFRUVU1GljYxORdS0usp6gvSxbtpROp9NoNFVV1Q0bAvr160fFz549e+XKFT6fP2DAgClTpqamplLxM2fOlJWVzZkzl0aj+ftvmDRpoomJKZPJDAoK2rFjx7FjR5WVlQMCNvbp06egoGDKlMk8Hs/Tc4Kgu6VLl5w/f6HZTKSlpUeObOYtxuLiYlNTE0KIpKSktrb25s1bqLiFhXnPnj1XrVr1t5anNTU1J0+ePGOGN41Gc3R0HDp0WLPNbt5MSElJJoR07tzZzMxs1qzZhBAWK2vRokVaWlqzZq1pfY8A8LdwOJzQ0ND379/R6fQ+ffrs2rWrd+/e7Z0UQEczc+bM8vJyDw93SUkpGxtrb29vkXVN439lNaKi4ovIkoDvVF5e3saNAYcOhTUM+vr6hoSEfO0UEJCV7YpRBtDWMNAA2pqsbNdGESyLwz8nJiYmL9/4ozzy8nLtkgwAAAD8G2DmEqB9YEIFQAQw0ADaGmYuAQAAAKANobgEAAAAAKFBcQkAAAAAQoPiEgAAAACEBsUlAAAAAAgNiksAAAAAEBoUlwAAAAAgNCguAQAAAEBoUFwCAAAAgNCguAQAAAAAoWn+zz/y+XwajSb6bAB+HBhlACKAgQbQ1pqOsq/+bXEAAAAAgL8Ly+IAAAAAIDQoLgEAAABAaFBcAgAAAIDQoLgEAAAAAKFBcQkAAAAAQoPiEgAAAACEBsUlAAAAAAgNiksAAAAAEBoUlwAAAAAgNCguoQOqqak5e/ZsfX19VlZWVlZWe6cDAADwA0FxCd+2bt26xYsXC3bPnTtnaWnJ4/HaMaWWderUKSsry8jIaMOGDXJyck0bREdHDxo0iMlkMplMKyur06dPE0L4fL6dnR21TVm2bJmfn5/o8gb4YUydOlVHR4cag3Z2du2dDkDHFB8f7+DgwGAwrK2tMzIyRNavuMh6gu/XxIkTJ0yYUFxcrKSkRAiJioqaMGECnf6v/slkx44dLTdgMBhRUVGEkOfPn0+ePJnBYAwePNjT0zMqKmrSpEmEkNLS0hs3bpw8eVIU6QL8ePz9/ceNG9feWQB0WHfv3t21a9eePXuGDh1aXFwsyq7/1fUB/EsMGTJk8ODB586dI4RkZ2e/fv2a+pbA5XIPHjxobW3NZDLd3d3z8/MJIVpaWgwGg5qQ0NbWXrVqFXWRR48eeXp66unpubi4pKenU8GpU6eeP3+e2jY1NaXiHA5HS0uroKCAELJq1ao9e/ZQDd6/f6+lpdX0RMqePXuovnJzc7W0tDgcDiHk8ePHWlpagis0a/Dgwf369Xv79i0hxN3dPScnh/rx7sKFCwMGDGAymf/7AwQAABCx4OBgX19fBoNBp9NVVFRUVFRE1jWKS2iVSZMmnTt3jsvlnj592s7OTkFBgRBy9OjR+Pj4sLCwrKysbdu2SUtLU40vXbrEYrFYLNaMGTOoSGFhoY+Pz9y5cx88eLBy5cqFCxeWlpaKIO3AwMBvDqfHjx+/e/dOW1ubENKtW7fRo0efPn2ax+OdPXt24sSJIkgS4Me0e/fukSNHenp6Cn7aBABh4XK5T58+LSsrs7GxMTU13bRpU21trch6R3EJreLg4FBbWxsdHX3t2jVByXX+/PlFixZpamrSaLSBAwfKy8t/7fRLly6ZmpqamZnR6XQjIyNtbe2UlJS2zjkpKYnP548aNarZo9nZ2Xp6ekwmc9y4ca6urn369KHiEydOTEhIiImJ+fz5s5OTU1snCfBjWr58eWJiYlpa2oQJE+bMmZOTk9PeGQF0KCUlJfX19devX4+MjIyNjX3+/HloaKjIekdxCa0iJSXl7u6+efPmPn366OnpUcGCgoJevXq15vS8vLzr16/r/SUzM7P1739ERERQZ40ZM6ZhfMuWLXp6esbGxqtXr2az2Y3O4vF4QUFBLXwcZ9iwYRkZGSwW6+7du69fvw4KCqLiQ4cO1dLS2rhxo5ubW+fOnVuZJAD8LcOGDevSpYukpOSYMWOGDx8ugp82AX4o1Fri1KlTlZWVFRQUvLy8RDnKUFxCa3l6erLZ7IYrxaqqqq2cb1BTU3N1dc34y6NHj2bPnt3Kfr29vamzYmJiGsbXrVuXkZFx5cqVZ8+eRUdHNzorJiamb9++DAbjm9dXVFS0s7NLSkoSRJreKQC0HRqNxufz2zsLgA6lW7duqqqqNBqN2hVsiAaKS2iV2trahw8fdunSxcXFRRAcN27cvn373r17x+fzX7x4UVZW9rXTXVxckpKS0tLSuFwum81OT0+nPq/zv+vUqZOkpGTT34t08ODBpUuXtuYKZWVlN2/e7N+/PyGEz+dXVlayWKyRI0f269dPKBkCQCMVFRVpaWlsNpvD4cTFxWVkZJiYmLR3UgAdjbu7+8mTJz99+vT58+djx46Zm5uLrGv8KiJoFScnJw6H4+/vLyMjIwh6eXnV1dV5e3uXlZVpamoeOHDga6erqamFhITs3Llz2bJldDp96NChAQEB1KGdO3cGBwcTQkpKShYtWiQpKdnKlKgTeTzeyJEjPTw8Gr1NYm5uLniNslmPHj2iPgkuLS1taGi4du1aQsjHjx/t7e01NTW3b9/eyjQA4O/icDh79+79/fffxcTEqP919O3bt72TAuhofH19y8rK7OzspKSkHBwc5s6dK7KusRgBAAAAAEKDZXEAAAAAEBoUlwAAAAAgNCguAQAAAEBoUFwCAAAAgNCguAQAAAAAoUFxCQAAAABCg+ISAAAAAIQGxSUAAAAACA2KSwAAAAAQGhSXAAAAACA0KC4BAAAAQGhQXAIAAACA0DRfXPL5fBHnAfCjwSgDEAEMNIC21nSU0b428CoqvrR9PgA/LlnZrhhlAG0NAw2grcnKdm0UwbI4AAAAAAgNiksAAAAAEBoUlwAAAAAgNCguAQAAAEBoUFwCAAAAgNCguAQAAAAAoUFxCQAAAABCg+ISAAAAAIQGxSUAAAAACA2KSwAAELX169fb29uZm5t5eLjHxsa2dzoA372cnBwjo1Hr168nhNy5c2fmzBkWFuZ2dnZbtmyuqqoScTLfWXHp4uKcnp4u2L18+fLMmTPaMR/4Tp07d3batKmjRhkGBAQ0OuTjM9vIaJSpqYmpqcnIkSPwbQ+gLUyfPj0u7nJycsru3UGhoaG//fZbe2cE8H0LDNwxePBgaruystLbe8a1a9fPnz9fVFS8f/8+ESfznRWXAEKhqKjk7T3DxcWl2aN+fitSU9NSU9MYDIaIEwP4QfTr109SUpLaptFIbm5u++YD8F1LSLjRtWtXfX19atfe3n7UqFHS0tKysrJubm7Z2dkizqfjFJfHjh1zc3M1MzMdP35cUlISFUxMTHR0HG1qauLuPiYxMZEKNpz+jI2N9fGZTW3v2rXL0dHR3Nxs6tQpLBaLCvr4zBbMXTXcjou7NG7cWEtLiwUL5ufn51NBfX29Dx8+UNuhoSHUrFheXp6+vh6HwyGEPHv2VF9fLzQ0hGqTlpY2adIkCwtzb2/v169fN7qjmpoaT88J5uZm1tZWW7duFVzB29vLwsLc3t4uMHBHfX29oP3MmTOoKTcjo1GCCd24uLhx48aamZm6urpGR1+kgmFhh6iZ84bbLeQp0Giq2NFxdGZmRstZUXJzcz083M3MTO3sbAWXDQgIMDQ0MDU1sbKy3AM/L0UAACAASURBVLJlM9V1XV3d7t27HRzsHRzsd+/eXVdXRwjJzMxwdBzd8E4vX75MCOHxeEeOHHZ2drK1tdmwwb+ysrLRjZw/f378+PHl5eWN8rG0tDQ3N+/WrRtpgsPh0OkdZ1wA/Gtt377d2Nho3LixioqKRkZG7Z0OwPeqsrLy0KFDixcvafYoi8XS1NQUcUod55uourp6ePjhpKTkmTNn+fuvLykpIYTo6OicOhWZmpq2bNny7dt/bvkKgwcPjoyMTEy8ZWdnv2rVKjabTQih0+k8Hq9Ry5SU5KNHjwYG7kxIuMlgMNauXdvKJPft26+srExtv3z5YvPmTWvWrElMvOXu7r5s2VKqkBKQkJDYunXb7dtJ589fePLk8a+//koIodPFlixZevNmYkTE0YcPH54/f17Qns/nr169JjU1bdWq1YKggoLCnj17k5NT/P39g4KCXrx4QQih0eh8fuOb+lqerdFCVhR5efl9+/YnJ6dERByNjb305s0bKj5t2rTU1LSzZ8/duXPn3r17hJCIiIinT59ERp4+fTrq2bNnR44caaHfK1cuX7lyJTT0YGzsperqmsDAHQ2PJiTcOHXqVHBwsJycXOvvhc1mCyZUAKDtrFq1KiUlNTz8sIWFBQYdwD928OBBFxcXFRWVpofS0+/Hx1/x8Zkj4pS+v+LSz2+5hYU59d+OHdsFcWtrayUlJTqdbmtrq6HR69mzp4QQFRUVeXl5QgghfC0trZavPHr0aDk5OXFx8SlTptTX171//54QoqKimpHxkJoGE7h4MXr69Ol9+/YVFxf38vJ+9eqlYPKyBWlpaYTw9fVHULsxMTFjxrhra2uLiYk5OTlJSEg8efKkYXtxcfF+/frR6XQ+n9+pU6devXoRQgYNGqSjoyMuLt6jR48xY9xZrCxBezabLSEh3qhTY2NjdXV1Go2mq6trYGBAzciqqqo+f/78y5cvrcmzNVrIiiIjI0Olwefzu3dXUFRUbHiUx+Px+YSaR7x+/drMmTMVFBTk5eVnzZp17drVFvq9du36pEmT1dXVO3fuPG/evISEBMFX6t69e5s3b963b1+z460FFRUVXbt2/VunAMA/IyYmxmAwioqKLly40N65AHyXXr58+eDBg0mTJjc99OTJk3Xr1m3fvqN3794izqpxLfLvt3PnrpEjR1Lbly9fvnTpz3Xq+PgrkZGn8/PzCCE1NTWCldDr169v3bqFELJkyVLBRfz8louJiRFC6uvrhwwZQgVPnjwZF3epuLiYRqNVVVVRV/D29vb3X29tbUWj0WpqahwcRhNCCgryd+/evXfvXsEFi4qK1NTUCCFTp06h0WiEkLq6OhsbW0EDHo934MAva9euu3jxz7Xp/Pz8K1eunDt3ltqtr68vKSluer8WFuaVlZWWlpZUQfb+/fu9e/c8f/4bm13L4XAGDRokaPnp0yc5OflGp9+9e/fw4fCcnBwej1dbW9uvX39CiK2t7Z07aa6uLnw+v66uztLSqoU8G3n69KmFhTm1LfgAWgtZCRQUFHh6TqiurvbwGCsjI0MFT506de7cuaqqKjMzM+pN5JKSElVVNeqomppacfGfz6S4uFjQb01NjaurGyGkpKSYeuxUYy6XW1paSu1u2bJFTa1HVlZWnz59mr2RZnE4nKKiIlVV1dafAgD/Iy6Xi3cuAf6ZzMzM/Pw8JycnQkhNTTWPx5sy5fdTpyJfvnyxbNnS9ev9R4z4G1NFwvL9FZfNys/P37p1a0hIqI6OjpiY2KRJk/j8Pw/Z29vb29s/f/589uxZDAaDevNAUKHGxsZSc2MsFuvkyRMhIaGampp0Ot3S0oLP5xNCevXqdezYcepSgrczVVRUvLy8HRwcmmZy8uQpDQ0NQkhoaEhhYZEgfuXKld69e+vo6AiKNhUVFW9vb2/vb3zaPSkpuaKiYtWqVUePRixYsHD79u1aWlpbtmyVkZE5ffr07du3qGYlJSWfPn0aMGBAw3Pr6upWrlyxceNGMzNzcXHx5cuXEcInhEhJSe3YEUi1CQs79OHDf/+33jTPRrS1tQ8f/nOpWvAe5NeyakhVVTU5OaWkpGTePN9Lly6NHTuWEDJlypS5c31rampWr1518uRJLy8vRUXFgoL8fv36EUIKCgqUlJSo05WUlOLj/5zFFLz3qaioJJgzLigoEBMTU1BQKCoqIoRs3bpVTk5u7tw5RkZGrZ+8fPz4sbS0tOh/yAP4oZSWlmZkPDQ2NpGSknrw4MGNGze2bNna3kkBfJfc3d1tbf+cyTp16lR+ft6qVavfvHmzcOHC5cv9TE1N2yWr729ZvFk1NTU0Go16tS4uLu73399S8Xfv3lGvTrLZbD6fLyUl9bUrVFdXiYmJycnJcbnc8PDwln8plLu7x7FjR9++fUsIqaysFHxUqAVHj0bMmze/YcTNbczFi9FPnz7l8/k1NTV37txp1GlZWRn15iiXy+VwOFTy1dVVMjIynTt3fvfu3cWL/11IOnv2rJ6evoKCQsMr1NfX19fXy8nJi4mJ3b179/79+/8gz9b4WlYChYWFnz9/plLi8XiNvhB0Op1Go5WXlxFC7OzsjhyJKCsrKy8vP3w4vNkKXsDOzi4q6vTHjx+rq6tDQg7Y2NiKi//58xKDwejfv/+ECZ7btjXzTYvD4bDZbC6Xx+Nx2Ww2tZj+/PnzHTu2Ozk5CS4CAG2BRqNduHDR0XG0lZXlvn17ly5dZmZm1t5JAXyXpKWlFf/SuXMnSUkpeXn5yMjIsrKyLVs2U79Wb/z48SLOqoN8E9XU1Jw8efKMGd40Gs3R0XHo0GFU/NatxDNnztTV1SkpKa1cubJnz55fu4KBgaGhoeHYsR7S0tKTJk1qea7LwsKipqZ67do1BQUFMjJdRo4cYW1t3XKGxsYm1EuTAoMHD167dm1gYOCHDzlSUlIMBoPJZDZsUFRUuGbNmuLiYmlp6VGjjKZOnUYIWbRo8bZtW0+ePKGlpWVjY5uR8ZAQcvRoxLFjRyUkJExNTchfxejRoxFeXt7Lli1fs2Z1XV2diYlJa36CaZpnazSbVUNv3rzZvv3niooKGRkZGxvb0aP/nPI8ceJEVFSUmJjY0KFDp037iRDi7T2jqqpq4kRPQoi1tXXLM7suLi7FxcWzZ8+uq2MbGBj6+fk1ajB9+vSffpp25coVaslAICLiSHh4OLV97dq1WbNmzZ7ts2PHdhMT0zlzRP3iM8CPRl5ePiwsrL2zAOhoZs/2oTY2bNiwYcOGdsyExhesH/9/FRXNf9oD/oXCwg6pqfVwdnYWRB49evTgQbrg3xn8C8nKdsUoA2hrGGgAbU1WtvGnYDvIsvgPTkZGplOnTg0jEhISgg/NAAAAAIgMZi4B2gcmVABEAAMNoK1h5hIAAAAA2hCKSwAAAAAQGhSXAAAAACA0KC4BAAAAQGhQXAIAAACA0KC4BAAAAAChQXEJAAAAAEKD4hIAAAAAhAbFJQAAAAAIDYpLAAAAABCa5v/8I5/Pp9Foos8G4MeBUQYgAhhoAG2t6Sj76t8WBwAAAAD4u7AsDgAAAABCg+ISAAAAAIQGxSUAAAAACA2KSwAAAAAQGhSXAAAAACA0KC4BAAAAQGhQXAIAAACA0KC4BAAAAAChQXEJAAAAAEKD4hLaXHR09KBBg5hMJpPJ1NHRmThxYvvmExMT4+7uPnz4cFNT08DAQA6HIzj0b0sVoEM6deqUu7u7trb2qlWr2jsXgA5r+fLlxsbGw4cPt7OzO3/+vCi7RnEJosBgMFgsFovF2rhxY3vnQmpqatasWXP//v3z58/fv38/IiKi4dF/VaoAHZKysrKvr6+Hh0d7JwLQkfn4+Ny+fTsrKyskJGTv3r1Pnz4VWdcoLqHNcTgcMTGxpnEejxcSEmJhYWFoaLhixYovX74QQnJycuzs7JhM5qhRo/bs2UO1XLVqlba2NpPJHDFixNq1a6m5xrq6uq1btxobGxsbG2/durWuro4Qkp6ebmpqKuhi4sSJ0dHRjfqdNGmSnp6epKSkioqKs7NzVlbWN1MFACGytbW1traWk5Nr70QAOrIBAwZISkoSQmg0Go1Gy8nJEVnXKC6hzbHZbOrfdyPR0dExMTEnTpxITEysrq7etGkTIURBQSE8PDwrK+vs2bMXLlx4+fIl1XjGjBksFis+Pj4lJSUtLY0QEhoamp2dfenSpbi4uCdPnoSEhPyD3B4+fNi/f3/Bbm1tbbOpAgAAfHcCAgKGDRvm4OCgpKRkZmYmsn5RXEKbKysra3aK4vLly9OnT9fQ0JCRkVm6dOnVq1c5HE6XLl169epFo9EIId27d1dWVm54Co/H4/P51NUuX748b9687t27KygozJs3Ly4u7u8mduHChadPn3p7ewsinz9/lpWV/dt3CAAA8O8TEBCQlZUVGRlpY2MjyqkTFJfQ5nJzc3v06NE0XlRU1LNnT2q7Z8+eHA7n06dPhJC8vDxdXV0bGxtdXV0ZGRmqQUREhJ6enpmZGYPB0NHRoU4XXLZHjx5FRUWCy+r9JTs7+2tZJSYmBgUFhYeHKygoNExVTU1NCPcMAADwLyAmJqanp1dQUBAVFSWyTlFcQpt7+vTp4MGDm8aVlZU/fvxIbefl5YmLi3fv3p0Q0qNHj8zMzNTU1IcPH164cIFq4O3tnZGRkZWVVV9ff+TIEer0vLw86mh+fr5gjlNZWTnjL8OGDWs2pdTU1HXr1h08eFBLS0sQ5PF4LBaLqlwBAAA6DC6Xi3cuoeO4evVqXl6eoaFh00NOTk7Hjx//8OFDVVXVnj17HBwcxMXFCwoKysvLCSH19fVcLldaWrrhKWJiYjQarbS0lBDi6OgYGhpaWlpaWlp64MABZ2fnVqZ07949Pz+/4ODgoUOHCoJlZWWbNm2qrq4W5VspAD8mDofDZrN5PB6Xy2Wz2Q1/HRgACMWnT5/i4+Orqqq4XG5aWlp8fHyz34jbiLjIeoIfUFxcnJ+fH51Ot7S0pCIcDofD4Tg6OsbHx3t4eBQWFk6ZMoXNZhsbG69fv54Q8vLly4CAgPLy8i5dujg6Orq6ulInHjly5MSJE2JiYkwmc9asWYQQX1/fqqoqFxcXQoi9vb2vr28rswoJCfny5cvs2bOpXV1d3cOHD585c6agoODEiROChXgAaCOhoaG//PILtR0XFzd//vwFCxa0b0oAHQyNRouKitqwYQOPx+vZs+eaNWusrKxE1zufzxdZZ/CjiY6OfvDgwfbt2xsGc3Nzp02bdvv27fbKCgAAANoOlsUBAAAAQGgwcwltiMvl8ng8CQmJhkE+n19fX49fJwkAANAhobgEAAAAAKHBsjgAAAAACA2KSwAAAAAQGhSXAAAAACA0KC4BAAAAQGhQXAIAAACA0KC4BAAAAAChQXEJAAAAAEKD4hIAAAAAhAbFJQAAAAAIDYpLAAAAABCa5otL/E1IgLaGUQYgAhhoAG2t6Sj76t8Wr6j40vb5APy4ZGW7YpQBtDUMNIC2JivbtVEEy+IAAAAAIDQoLgEAAABAaFBcAgAAAIDQoLgEAAAAAKFBcQkAAAAAQoPiEgAAAACEBsUlAAAAAAgNiksAAAAAEBoUl/BPrF27Jjk5ub2zaEOfPn0aN25sXV1deycCAADwnUFx+f+4uDgbGxuZmppQ/xkZjZo5c0Z7J9UmMjMzRozQp27T2NjI0XE0IaSmpsbCwvzu3buCZjNmeIeGhjY69/Xr169fvzYzMxNEGj63ESP009PTCSFbtmxZvXq1oE1MTIyLizOPx2vbGxOS7t276+rqxcREt3ciAB3T58+f/fyWm5gYOzs7Xb9+vb3TAeiA2nGUobhsbPfuoNTUNOq/VatWf/uE75aSkhJ1m/v27aMinTp1cnR0vHDhArX7+vXrZ8+eubu7NzoxOjra3t6eRqM1DAqem6qqKhX5v/buPK6Ja+0D+IEEkIRFuewiaFsFpVZAUVxAQMIiq8i1dbl65X4qWq3WBcU9iH0LotK6oKC+ra1K3RDZxaUsdUXB3QpqFWTnlTWBJDPJ+8f0pjSgYhtMS3/fv86cOTN5ZuTRx3NmSEhISG7uD/X19czmyZMnpkwJVlf/y/zI+fh4JyejuAToEVu2xLDZGmfO5ERFbY6O/uLx48eqjgigt1Fhlv1l/qVXubq6upUrw3k8j8DAgO+//57pTExMWLVq5erVqydOdJk1a2ZJSckrBi9ZsjguLo5pr1mzetOmSEKIVCo9cGC/v7+fpydv48YNra2t8k/09Z3MTAeOHeu0fv36ziE5Oo4qLy9n2nv2xPP5fKYdEbHKy8vL1XXivHkfv+yHiaKoLuu8kJB/Xr58qaqqihBy8uQJZ2dnExMThTGXLl1ycBipcDYWi6UwzMbGxsbGJiUlhRBy9+7dJ0+eBAUFKYzh8/l79sQz7fLyckfHUUw7NTX1n/8MmTjRJTAwMDn5JNOZmJggvw8d2y+73sTEBCenMS4uzs7OExwdR1EURQiprq4ODw/n8Tw8PCZt2RJDCJFKpdHR0TyeBzNXHRY2jznc1vb9iooK5lYAgBK1tbVduHBh/vz5HA7Hzs7OxcUlMzNT1UEB9CqqzTIUl90ilUqXLVs6ePCQzMys3bvjk5KSLl++zOzKy8vz8Jh0/vwFLy/v8PAVFEW9bPD69RuysjILCwuzsrLu3bu/fPkKQkh6elp6evqePXtTUk4LhW1MucOQyWRffbUjP79g7ty5bxTtuHHjkpOTc3LOWlvbdFmVEkJEIrGmpmbn/oEDB9rb2588eVIgEGRlZYWEhCgMaGtrq6yssLKy6tgpFos1NDQ6ny0kJOTUqVM0TZ84cdzdfVK/fv26eQkGBgZxcV/m5uZt2LBh+/btP/30EyFETU1dJutiVf1l1yuVyjw9PfPzC44ePcb00DS9bNlSMzPT1NS0jIxMT08vQsiVK1dyc39ISvo+P78gPHyl/HA2mz1gwAD5fxgAQFnKyp6xWCz5XyODBw958uSJakMC6GVUm2UoLrvl/v37DQ0NH3/8sYaGhoWFRVBQUE5ODrNr6NChkyZ5sNnsmTNnikSiO3fuvGywoaFhREQEn8/ftm1rZGQkl8slhGRlZc+YMdPCwoLD4SxcuDAnJ4eZYCOEiESiLiu21woICORyuZqamvPmzSstLek4GyrX2Nior6/f5eFTp4akpp4+fTrF0NBw9OgxCntbWloIIRwOR95D03RLS0uXZ/Pw4IlE7enpaefOnetcp77ChAkTLCws1NTURo4c6eTkVFxcTAgxNTW9f/8+E0B3rlcikSjcwHv37tXV1S1evERbW1tLS8vOzo7pl8kITdOdw+BwOK2tih8HAH+QUNjG5erIN3V0dIRCgQrjAeh9VJtl7Lf2SX9pVVVV9fX1bm6uzKZUKpXXJfJVY3V1dWNjk7q6OjU1tZcNdnZ2iY2NtbKykvfU19eZmZkxbTMzM5qmX7x4YWxsLBaLW1paXjvV969/zWKefRSLxTyeJyGEpun4+Pjz5881NjYyuxobG3V0dBQOrKyslD8cqcDV1XXbtq3x8fELFixQeLCSEKKrq0sIEQqFWlpa8psjk8m6PJuWlpa/f0BsbKylpaX8khUcOnTo2LFjhBCZTCbvvHjx4v79+8rKyqRSaXt7+7vvvkcI8fT0/PHHgsDAAJlMJhaL3d0nvfp6m5ubdXX1On5WTU2NmZkZm/2bH3snJ6fJkydPnRrMZrMpirK1tZXvEgqFOjq6XYYNAL8bh6MtEPz6n16BQMDhcFUYD0Dvo9osQ3HZLSYmJubm5snJpzrvqqmpYRpSqbS2tsbIyIjFYr1scHx8/MCBgyorK8+cyfby8iaEGBoayZ/qq66uZrFYBgYGhJCSkhIOh2Nubv7qwL777tCAAQMIIXv2xNfU1BJCzpzJzs/P27073tzcvLW11d3drWPRJvfgwX0HB4cuz8lmswMCAg4fPuzvH9B5r7a2toWFRVnZM3nh++DBAysrqz59+nR5tuDg4EOHvps6derLLmHWrFkLFnxCCCkvLw8OnkIIEYvFq1atjIyMnDjRlc1mr1ixnBAZIURLSysmZgtzVGJiQnn581dfb1nZM+Ymy5mYmFRXV1MU1bG+VFdX9/DwOHs25/vvj547dy4r65enUiiKKi8vHzJkyMsiB4Dfx9LSiqbpsrIyS0tLQkhpack777yj6qAAehXVZhmWxbvF1taWw+EcPPhNe3s7TdOPHj26d+8es+vBgwcXLlygKCop6Yimpubw4cNfNrioqCgtLTUyMpLP58fGxtbW1hJCvLy8kpKOVFRUCIXC+PjdPJ4nm82WSqVHjx718PDo/JbMawkEQg0NTX19/fb29t27d3c55tatm4WFhc7OLp13SaXS5ubm+/cfeHp66unpdR5ACBk/fnxRURHTbm1tPXLksIvLxC5Htre3FxcXcblcH5/J3b8EiUQikUj69u3HYrEuXrx45cqVVwzu8nplMlleXu6DBw/GjRvXcbCtra2hoeGuXbva2tpEItGtWzcJIRRFff755mXLlinM7967d8/c3Fw+rwwAyqKtre3m5paQsLetre3WrZt5eXmTJ7/BXxEA8FqqzTLMXHYLi8WKi/vyyy/jAgMDJRKxlZXV/PkLmF0TJ048e/ZsZCTfwsJiy5ZYZkqs8+DW1lY+f+PKlSuNjY2NjY0DAwM3bYrcuXNXQEBAXV3dvHnzxGKRk9PY8PBwQsgXX3yRnZ2lqanJPKwpkUhkMtm4ceN8fHxeG6qvr++VK5d9fSfr6enNnz//5MkTCgOKi4vnzw+TyWT//vccpkcqlYrFYhcX5/z8guLioiVLllhbW3/88ZqXfURQ0JQ1a9b8+99z1dTU5syZXVZWVlpaevz4Ly/NtLe3L1++bO3adT4+Ph999CFFUStXrur4jOZrcbnc5ctXrFmzWiwWOzs7u7h0UQS/+novXbq0Z8+eqKgohcV6Fou1fXvc1q2x/v5+hBBvb+8RI+y+++5bMzMzZpG9o+zs7ODgl064AsAfsWpVRFTUJk9Pnr6+fkTE6nfffVfVEQH0NirMMrUu10wJIc3NeI/h9ZjF2aioKOWels/n+/v7jRw5St6TmZlJ07S/v/8fP/mNG9cTExMTEhIV+h0dRxUWXu/mSdatW+vhwXN1dQ0I8N+7N0Fh+Z7P548cOVIp0arKixcvwsLmHTp0WP5oqdLp6ekiywB6GhINoKfp6Sm+nICZyz8jfX09DY3f/J4gbW3tLl9nVpXNmz9XdQg9y8DA4PhxxUlfAAAAeC3MXP4hPTRz2aOkUilN051/yZFIJPods3TMb7hUeKmcoig1NbXf8cDo3womVADeAiQaQE/rPHOJ4hJANfBvHsBbgEQD6Gmdi0u8LQ4AAAAASoPiEgAAAACUBsUlAAAAACgNiksAAAAAUBoUlwAAAACgNCguAQAAAEBpUFwCAAAAgNKguAQAAAAApUFxCQAAAABKg+ISAAAAAJSm669/lMlkCt8WDQDKhSwDeAuQaAA9rXOWvfS7xQEAAAAA3hSWxQEAAABAaVBcAgAAAIDSoLgEAAAAAKVBcQkAAAAASoPiEgAAAACUBsUlAAAAACgNiksAAAAAUBoUlwAAAACgNCguAQAAAEBpUFzCm0lOTh46dKi9vb29vf3w4cOnT59OCKmsrBw2bNjjx4+ZMTRNu7m5HT9+XKWRAsCfV2Nj48KFC+3s7Nzc3NLS0lQdDkAvpMIsQ3EJb8zOzq64uLi4uDgyMpLpMTc3d3FxOXLkCLOZm5vb2trq5+enuhgB4E9t06ZNGhoaFy9ejI2N5fP5paWlqo4IoLdRYZahuIQ3Q1EUi8Xq3D9jxoyUlBShUEgISUpKmjJlira2dscBZWVlXl5e9vb248aNi4uLYzpzc3ODgoIcHBwmTpy4c+dOpvP58+fW1tbM5Kifn9/Vq1eZ/sePH8+dO3f06NFeXl6ZmZlMZ0RExIYNG+bOnWtvbz9r1qyKigqm39ra+tmzZ4SQZ8+eWVtbM52XLl3i8XhMu6am5tNPP3VycnJ3d//222+Zzp07d65YsUJ+pdbW1s+fP//jNw0AOhIKhTk5OUuWLOFyuaNGjXJ3dz99+rSqgwLoVVSbZSgu4c2IRCJNTc3O/c7OzgYGBqmpqeXl5RcvXmSWyzsyMDDYt29fUVHR0aNHT5w48fDhQ0KItrZ2TEzM9evXExISkpKSzp07Jx9fWFhYVFTk7e0dExNDCBEKhaGhoX5+fpcuXYqLi4uMjHz06BEzMi0t7ZNPPrl69aqNjY28NHw1qVS6YMECa2vr/Pz8gwcPHjx4sKCg4PfdEAB4U0+fPmWxWIMGDWI2bWxs5OkMAEqh2ixDcQlvpqGhoW/fvp371dTUPvzww6SkpKSkpDFjxsh/oOV0dHQsLS3V1NQIIf/4xz+MjY0JIWPGjLG2tlZXV7exsfH19b127VrHQ2QymVQq7devHyEkNze3f//+U6dOZbPZw4YN8/Lyys7OZoa5uro6OjpqamouXbr05s2bVVVVr72KO3fuvHjxYtGiRZqamgMGDJg2bZp8KhQAeppQKNTR0ZFv6urqCgQCFcYD0PuoNsvYb+2ToHd4/vy5ubl5l7umTp26Y8eOn3/+eevWrV0OqKys9Pf3FwgE06dP53K5hJBbt25t3bq1tLRUIpGIxWJvb2/5YCcnJ4lEwmazd+3aRQipqKi4ffv2qFGjmL00TQcEBDBtU1NTpsHlcvX19Wtra83MzF59FRUVFbW1tR3PJm9nZ2fn5uZ2404AwO/E4XBaW1vlm62trcxfCACgLKrNMhSX8Gbu3r27aNGiLnf169fP09Pz2rVr7u7uXQ4wNze/ceNGbW1taGjoiRMnZsyYsXz58lmzZu3fv19LS+vzzz9vaGiQD75y5Qqbzb569eqiRYsKCgrMzMwcHR2//vrrzqetrq5mGgKBoKmpiZkTfTUzLM6S7AAADh9JREFUMzMLC4ucnJzOu7y9vZnimKIoW1vb154KAN7UwIEDaZp++vTpwIEDCSE//fTTe++9p+qgAHoV1WYZlsXhDWRmZlZWVo4dO7bzLpqm6+vrS0pKpk2bxmZ38Z+W6urqxsZGQohEIqFpuk+fPoQQgUCgr6+vpaV1+/bt9PT0zkexWKyWlhaJROLq6vr06dOUlBSJRCKRSG7fvi3/zUd5eXnXr18Xi8VfffXViBEjXjttSQj54IMPuFxuYmJie3s7TdMlJSW3b99+o1sBAL8bh8Ph8Xg7duwQCoU3btw4f/58YGCgqoMC6FVUm2WYuYTuSk1NDQ8PV1dXl09MUhRFUZSvr29GRsbp06ejoqIcHBzmzJnT5eEPHz7k8/mNjY06Ojq+vr7MT/nGjRtjYmI2bdo0evRoHx+f5uZm+XhHR0dCSL9+/TZt2qSrq0sIOXDgQHR0dHR0tEwms7a2Xr16NTPSz89v9+7dN2/eHDZsWGxsrPwMM2fOVFdXl0qlhBAXFxdCiFgsZk7FYrH27t0bExMzadIksVg8aNCgzz77rAfuGQB0bePGjWvWrBk3blzfvn35fP7gwYNVHRFAb6PCLFOTyWRv7cPgLy05OfnatWvR0dEdO58/fz579uwLFy6oKqqIiAgTE5OlS5eqKgAAAADoCMviAAAAAKA0WBaH7goMDPT391fo7N+/v/xXAgEAAABgWRwAAAAAlAbL4gAAAACgNCguAQAAAEBpUFwCAAAAgNKguAQAAAAApUFxCQAAAABKg+ISAAAAAJQGxSUAAAAAKA2KSwAAAABQGhSXAAAAAKA0KC4BAAAAQGm6Li7xnZAAPQ1ZBvAWINEAelrnLHvpd4s3N7f0fDwAf196errIMoCehkQD6Gl6eroKPVgWBwAAAAClQXEJAAAAAEqD4hIAAAAAlAbFJQAAAAAoDYpLAAAAAFAaFJcAAAAAoDQoLgEAAABAaVBcAgAAAIDSoLiEnkJRlKpDAAAAgLcNxSUoWXJy8pw5s318vD08JlVXV6s6HAD4M2pqagoPX+HsPMHf3y87O1vV4QD0QirMMhSXv9q8efPq1avlm6dOnQoI8JdKpSoM6S/nm2++OXHi+Pr1G7KysnNz80xNTVUd0a++/vrrxYsXyzeDg6cobObknGHaiYkJjo6j7t69+7ZDBPjb2LIlhs3WOHMmJypqc3T0F48fP1Z1RAC9jQqzDMXlr0JCQnJzf6ivr2c2T548MWVKsLo6blF3tbW1fffdt9u3x7333nuqjqULDg72t2/fommaEFJfX09R1MOHD+Wb5eXl9vYOhBCZTJaRkamvr5+RkaHiiAF6qba2tgsXLsyfP5/D4djZ2bm4uGRmZqo6KIBeRbVZhsrpVzY2NjY2NikpKYSQu3fvPnnyJCgoSGFMa2vrxo0beDwPf3+/Awf2S6XSuro6FxdnFxfnsWOdnJzGMO3i4uIbN66PHu3o4uI8caLLnDmzHz16xJzhzp07oaGhbm6uM2ZMv3HjOiHk228PMkeNHu04YcJ4FxfnadOmEUL4fP6ePfHMUUuWLHZ0HCV/ipHP548d6+Ti4jxhwnhf38kKQVZWVnYcvH79+sTEBEJIc3Pz0qWf8Xge7u5uS5d+VlNT0/kmVFdXh4eH83geHh6TtmyJIYRIpdIDB/b7+/t5evI2btzQ2trKjMzLy5s2bZqbm2tY2Lyff/6ZEPLkyWMOhxMbu8Xd3W3KlKBTp04xIxMTE9avX68QDCEkLGwec7cJIQUFBTNmzHBzcw0NDS0tLWU6AwL8r169yrRTUlLCwuYxbUfHUeXl5Uy0EyaMl5+8873taNgwW4qiSkpKCCHFxcUjR46ysrKSb1pYWBgZGTHt//u/+uXLV5w9myORSDrfIgD4g8rKnrFYLCsrK2Zz8OAhT548UW1IAL2MarMMxeVvhISEnDp1iqbpEyeOu7tP6tevn8KA2Ngtra2tKSmnExISMzMz09JSjYyM8vML8vML5s6dy+N5Mm17e3tCCLPrwoUfBg8esm9fIiGktrZ26dLP/vOf0PPnLyxZsmTVqlUNDQ2zZ89hjjI1Nd22bXt+fsGxY8c6fuj169fltSlDJpMyR3311VfdvzqpVOrv75+Wlp6Wlq6lpRUbu0VhAE3Ty5YtNTMzTU1Ny8jI9PT0IoSkp6elp6fv2bM3JeW0UNjGVJzPnj1bt27t8uXLzp49N378+GXLlkokkvb29urqaiMj46ys7OjomPj43YWFhd0J7OHDn6KiNq1Zs+bcufPBwcHLly8Ti8XdOXDv3j36+vpMu8t723GwhobG+++/X1xcRAgpLi6yt7ezsxvRYdOeGZaRke7s7Mzj8QghBQX53QkDAN6IUNjG5erIN3V0dIRCgQrjAeh9VJtlKC5/w8ODJxK1p6ennTt3LiQkRGEvTdM5OTkLFy7icrnm5uYzZ87sziSzTCaTSmmmBsrKyhw3btz48RPU1dXHjHEaOnToxYsXX3v4jh07wsLCOnZKJBINDY03vDjSt29fd/dJffr04XK5c+eGFhUVKQy4d+9eXV3d4sVLtLW1tbS07OzsCCFZWdkzZsy0sLDgcDgLFy7MycmhKOrs2bMTJkwYM8aJzWbPmvUvkUh0+/YtQoi6uvqnn36qpaVlbW0dGBjUzZXlU6dOTZkS/P7777NYLD8/Pw0NjTt37rz2qNLS0jt37vj6+jKb3bm3Dg4OxcXFhJCbN2/a2dnb2dnLNx0cRhJC2tvbz58/7+XlzWaz3d3dsTIO0BM4HG2BoFW+KRAIOByuCuMB6H1Um2Xst/ZJfwlaWlr+/gGxsbGWlpZMadVRY2MjRVFmZmbMpqmpWV1d3SvOVldX5+bmKhaLdXV1d+3aTQipqqo+f/58QUEBM4CiqJEjR706pLNnz/bt23fUKMeOnc3NzXp6uq8+kMfzYBrt7e1z585lGtu3b7t8+XJLSwshRCAQ0DTNYrHkh9TU1JiZmbHZv/mpqK+vk1+ymZkZTdMvXryor68zNf2lU11d3cTEpLa2rn///np6elwu97+DTR88uP/qIBlVVVXp6enHjh1lNiUSSX39Lzc2PHwFE6FEIrG1te141M6dO8PC5j99+vN/T/L6e2tv73D8+PGmpqaGhgZLS0sDA4PISH5TU9Pjx4+ZmcsffviBxWKNHz+eEOLt7bNw4ScNDQ2dJ7AB4I+wtLSiabqsrMzS0pIQUlpa8s4776g6KIBeRbVZhuJSUXBw8KFD302dOrXzrr59+7LZ7KqqKuZPqLq6mnlK72WMjIwyMjJlMllGRsaqVStPnkw2MTHx8Zm8bt26bgZDUVRCwt7o6BiF/rKyMktLq1cfe/bsOaZMlD+SeOjQoWfPnn399TeGhoYPHz6cNWumTCbreIiJiUl1dTVFUR3rS0NDo6qqKqZdXV3NYrEMDAwMDY0eP/5lpV4mk9XU1BgbG5mamjY3NwsEAqa+rK6uMTIy7s5lmpiYhIaGhob+p/Ou2NitY8aMIYSkpKRkZf06T1xYWNjU1Mjj8ZjnDZiTvPbeDh8+vLW1NSXl1IgRIwghOjo6hoaGKSmnDA2N+vfvTwjJyEgXCoV+fn7MlVEUlZ2dPX369O5cBQB0k7a2tpubW0LC3nXr1peUPMzLyztw4H9VHRRAr6LaLMOy+G+0t7cXFxdxuVwfH8W3ZAghLBbLw4O3Z0+8QCCoqqo6cuRwl8MUqKmpqaurNzU1EUJ8fHwKCgouX75M07RIJLpx43qXb9XIZWZmDh/+weDBg+U9FEWdPHlCKBR2nlh9LaFQoKXVR1dXt6mpaf/+fZ0H2NraGhoa7tq1q62tTSQS3bp1kxDi5eWVlHSkoqJCKBTGx+/m8TzZbLaHh8ePP/547do1iqIOHTqkoaH5wQcjjI2NR4yw2717l0gkKi0tTU097ePj053AgoKmnDyZfPfuXZlM1tbW9uOPPwoEr3k0ZN++xMWLF6upqcl7unNv+/TpM3TosCNHjtjZ/fKEpZ2d3ZEjR5hpy9ra2sLCwri4Lw//4sjs2XMyM7EyDqB8q1ZFiEQiT0/e2rVrIyJWv/vuu6qOCKC3UWGWYebyNz766EOKolauXMXhcLocEB4eHhsbGxQUqKmpFRQUFBAQ8IqzMS+Sq6mpGRsbM9OHpqam27Zt27Fjx7p1a9XV1W1tbSMiVr/iDC0tLfPnz+/Yk5p6Oi0tbdu2bX369HnTq5s+fca6dWt5PA8jI6OZM2fm5uYqDGCxWNu3x23dGuvv70cI8fb2HjHCLiAgoK6ubt68eWKxyMlpbHh4OCFk4MCBmzZFbd0aW1tbO2SI9fbt25lnQKOior744n98fLz19fXDwsKYSUdCSG7uD8xb7c3NzSwW6/Tp04SQhoaGR48ejR07dtiwYWvXrt2yZUt5eRnzrKf89ZqXsba2Vlj17ua9dXBwuHPntrw0t7OzP3bsmIODPSEkMzNzyJAhTk5O8sEfffTR4cOHHj169Of85UoAf136+vpbt25TdRQAvZkKs0xNYWFUrrm55S2HAn9DmzdHhYb+x9zcXNWBqICeni6yDKCnIdEAelrnl0CwLA6qNGjQIC0tLVVHAQAAAEqDmUsA1cCECsBbgEQD6GmYuQQAAACAHoTiEgAAAACUBsUlAAAAACgNiksAAAAAUBoUlwAAAACgNCguAQAAAEBpUFwCAAAAgNKguAQAAAAApUFxCQAAAABKg+ISAAAAAJSm669/lMlkampqbz8agL8PZBnAW4BEA+hpnbPspd8tDgAAAADwprAsDgAAAABKg+ISAAAAAJQGxSUAAAAAKA2KSwAAAABQGhSXAAAAAKA0/w/l6Vi3CG93gQAAAABJRU5ErkJggg==)"
      ],
      "metadata": {
        "id": "eDjuiHSRbq8-"
      }
    },
    {
      "cell_type": "markdown",
      "source": [
        "### Отправка диаграмм по расписанию"
      ],
      "metadata": {
        "id": "5eGD3YEY3ClT"
      }
    },
    {
      "cell_type": "code",
      "source": [
        "# ежедневное время отправки сообщения\n",
        "# минус 3 часа относительного московского времени\n",
        "send_time = \"17:33\"\n",
        "\n",
        "job_1 = schedule.every().day.at(send_time).do(telegram_revenue)\n",
        "job_2 = schedule.every().day.at(send_time).do(telegram_new_users)\n",
        "job_3 = schedule.every().day.at(send_time).do(telegram_new_users_status)\n",
        "\n",
        "while True:\n",
        "  schedule.run_pending()\n",
        "  time.sleep(1)"
      ],
      "metadata": {
        "id": "DPeCWWqrXpAx"
      },
      "execution_count": null,
      "outputs": []
    },
    {
      "cell_type": "markdown",
      "source": [
        "### Отправка диаграмм по запросу в Telegram"
      ],
      "metadata": {
        "id": "VxqA_iT72nzt"
      }
    },
    {
      "cell_type": "code",
      "source": [
        "help_message = \"\"\"\n",
        "R - Дневная выручка\n",
        "N - Новые пользователи\n",
        "S - Статусы новых пользователей\n",
        "\"\"\""
      ],
      "metadata": {
        "id": "yZgJn8-03TwJ"
      },
      "execution_count": 57,
      "outputs": []
    },
    {
      "cell_type": "code",
      "source": [
        "# отправка актуальной диаграммы по запросу\n",
        "@bot.message_handler(content_types=['text', 'document', 'audio'])\n",
        "def get_text_messages(message):\n",
        "  # Отправка дневной выручки\n",
        "  if message.text == \"R\":\n",
        "    telegram_revenue()\n",
        "  elif message.text == \"N\":\n",
        "    telegram_new_users()\n",
        "  elif message.text == \"S\":\n",
        "    telegram_new_users_status()\n",
        "  elif message.text == \"/help\":\n",
        "    bot.send_message(message.from_user.id, help_message)\n",
        "  else:\n",
        "    bot.send_message(message.from_user.id, \"Я тебя не понимаю. Напиши /help.\")"
      ],
      "metadata": {
        "id": "1z1EswMP-Sjc"
      },
      "execution_count": 58,
      "outputs": []
    },
    {
      "cell_type": "code",
      "source": [
        "bot.polling(none_stop=True, interval=0)"
      ],
      "metadata": {
        "id": "ePShNVGC-Sje"
      },
      "execution_count": 59,
      "outputs": []
    }
  ]
}